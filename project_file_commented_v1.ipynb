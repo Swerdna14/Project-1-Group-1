{
 "cells": [
  {
   "cell_type": "code",
   "execution_count": 1,
   "id": "281e2a57-e1c9-4d2c-b96d-8cbc377cb98e",
   "metadata": {},
   "outputs": [],
   "source": [
    "#Background of character and situation"
   ]
  },
  {
   "cell_type": "code",
   "execution_count": 14,
   "id": "101aac2a-57d9-471b-9433-2ac1ddeee3f9",
   "metadata": {},
   "outputs": [
    {
     "ename": "ModuleNotFoundError",
     "evalue": "No module named 'cartopy'",
     "output_type": "error",
     "traceback": [
      "\u001b[0;31m---------------------------------------------------------------------------\u001b[0m",
      "\u001b[0;31mModuleNotFoundError\u001b[0m                       Traceback (most recent call last)",
      "Input \u001b[0;32mIn [14]\u001b[0m, in \u001b[0;36m<cell line: 10>\u001b[0;34m()\u001b[0m\n\u001b[1;32m      8\u001b[0m \u001b[38;5;28;01mimport\u001b[39;00m \u001b[38;5;21;01mseaborn\u001b[39;00m \u001b[38;5;28;01mas\u001b[39;00m \u001b[38;5;21;01msns\u001b[39;00m\n\u001b[1;32m      9\u001b[0m \u001b[38;5;28;01mimport\u001b[39;00m \u001b[38;5;21;01mjson\u001b[39;00m\n\u001b[0;32m---> 10\u001b[0m \u001b[38;5;28;01mimport\u001b[39;00m \u001b[38;5;21;01mcartopy\u001b[39;00m\n\u001b[1;32m     11\u001b[0m \u001b[38;5;28;01mimport\u001b[39;00m \u001b[38;5;21;01mgeoviews\u001b[39;00m \u001b[38;5;28;01mas\u001b[39;00m \u001b[38;5;21;01mgv\u001b[39;00m\n",
      "\u001b[0;31mModuleNotFoundError\u001b[0m: No module named 'cartopy'"
     ]
    }
   ],
   "source": [
    "#Import Libraries\n",
    "import pandas as pd\n",
    "from pathlib import Path\n",
    "import os\n",
    "import hvplot.pandas\n",
    "import numpy as np\n",
    "from datetime import date\n",
    "import seaborn as sns\n",
    "import json\n",
    "#import kaggle"
   ]
  },
  {
   "cell_type": "markdown",
   "id": "cadfcf0c-fc1f-4477-91fd-e699887246a3",
   "metadata": {},
   "source": [
    "#Import file from API (MUST HAVE KAGGLE INSTALLED: (\"conda install kaggle\")\n",
    "from kaggle.api.kaggle_api_extended import KaggleApi\n",
    "api = KaggleApi()\n",
    "api.authenticate()\n",
    "\n",
    "\n",
    "api.dataset_download_file('syuzai/perth-house-prices','all_perth_310121.csv')"
   ]
  },
  {
   "cell_type": "code",
   "execution_count": 2,
   "id": "a2bc52bb-bf07-4453-836e-f6d26415d413",
   "metadata": {},
   "outputs": [],
   "source": [
    "#CSV file was unzipped from downloaded file\n",
    "\n",
    "#Read CSV file\n",
    "all_perth_data = pd.read_csv(\"all_perth_310121.csv\")"
   ]
  },
  {
   "cell_type": "code",
   "execution_count": 3,
   "id": "ac14749e-c1d9-4e89-85d0-9b0bb13c09ea",
   "metadata": {},
   "outputs": [
    {
     "data": {
      "text/plain": [
       "ADDRESS             0\n",
       "SUBURB              0\n",
       "PRICE               0\n",
       "BEDROOMS            0\n",
       "BATHROOMS           0\n",
       "GARAGE              0\n",
       "LAND_AREA           0\n",
       "FLOOR_AREA          0\n",
       "BUILD_YEAR          0\n",
       "CBD_DIST            0\n",
       "NEAREST_STN         0\n",
       "NEAREST_STN_DIST    0\n",
       "DATE_SOLD           0\n",
       "POSTCODE            0\n",
       "LATITUDE            0\n",
       "LONGITUDE           0\n",
       "NEAREST_SCH         0\n",
       "NEAREST_SCH_DIST    0\n",
       "NEAREST_SCH_RANK    0\n",
       "dtype: int64"
      ]
     },
     "execution_count": 3,
     "metadata": {},
     "output_type": "execute_result"
    }
   ],
   "source": [
    "#Drop NAs\n",
    "all_perth_data = all_perth_data.dropna()\n",
    "\n",
    "#Confirming all nulls have been removed\n",
    "all_perth_data.isnull().sum()"
   ]
  },
  {
   "cell_type": "code",
   "execution_count": 4,
   "id": "3d7a2451-a906-40f4-9af8-9052726a4ef8",
   "metadata": {},
   "outputs": [],
   "source": [
    "#Remove \\r from the Date_Sold column commented as the data is already saved in the data frame.\n",
    "all_perth_data['DATE_SOLD'] = all_perth_data['DATE_SOLD'].str.strip('\\r')\n",
    "#Converting date sold column as a date time data type\n",
    "all_perth_data['DATE_SOLD'] = pd.to_datetime(all_perth_data['DATE_SOLD'])"
   ]
  },
  {
   "cell_type": "code",
   "execution_count": 5,
   "id": "37744961-ebc7-467f-8f59-0d6dc95f6244",
   "metadata": {},
   "outputs": [],
   "source": [
    "# Second option concatenation with another csv file\n",
    "project_path_2 = Path(\"./residential_property_price.csv\")"
   ]
  },
  {
   "cell_type": "code",
   "execution_count": 6,
   "id": "e4eca710-5e82-4e7b-ac67-cc04bdc44ae2",
   "metadata": {},
   "outputs": [
    {
     "data": {
      "text/html": [
       "<div>\n",
       "<style scoped>\n",
       "    .dataframe tbody tr th:only-of-type {\n",
       "        vertical-align: middle;\n",
       "    }\n",
       "\n",
       "    .dataframe tbody tr th {\n",
       "        vertical-align: top;\n",
       "    }\n",
       "\n",
       "    .dataframe thead th {\n",
       "        text-align: right;\n",
       "    }\n",
       "</style>\n",
       "<table border=\"1\" class=\"dataframe\">\n",
       "  <thead>\n",
       "    <tr style=\"text-align: right;\">\n",
       "      <th></th>\n",
       "      <th>SUBURB</th>\n",
       "      <th>MEDIAN HOUSE PRICE</th>\n",
       "      <th>GROWTH PERCENTAGE</th>\n",
       "    </tr>\n",
       "    <tr>\n",
       "      <th>SUBURB</th>\n",
       "      <th></th>\n",
       "      <th></th>\n",
       "      <th></th>\n",
       "    </tr>\n",
       "  </thead>\n",
       "  <tbody>\n",
       "    <tr>\n",
       "      <th>Alexander Heights</th>\n",
       "      <td>Alexander Heights</td>\n",
       "      <td>490000</td>\n",
       "      <td>8.90%</td>\n",
       "    </tr>\n",
       "    <tr>\n",
       "      <th>Alfred Cove</th>\n",
       "      <td>Alfred Cove</td>\n",
       "      <td>921000</td>\n",
       "      <td>17.00%</td>\n",
       "    </tr>\n",
       "    <tr>\n",
       "      <th>Alkimos</th>\n",
       "      <td>Alkimos</td>\n",
       "      <td>452500</td>\n",
       "      <td>10.40%</td>\n",
       "    </tr>\n",
       "    <tr>\n",
       "      <th>Applecross</th>\n",
       "      <td>Applecross</td>\n",
       "      <td>1735000</td>\n",
       "      <td>-0.60%</td>\n",
       "    </tr>\n",
       "    <tr>\n",
       "      <th>Ardross</th>\n",
       "      <td>Ardross</td>\n",
       "      <td>1165000</td>\n",
       "      <td>15.90%</td>\n",
       "    </tr>\n",
       "  </tbody>\n",
       "</table>\n",
       "</div>"
      ],
      "text/plain": [
       "                              SUBURB  MEDIAN HOUSE PRICE GROWTH PERCENTAGE\n",
       "SUBURB                                                                    \n",
       "Alexander Heights  Alexander Heights              490000             8.90%\n",
       "Alfred Cove              Alfred Cove              921000            17.00%\n",
       "Alkimos                      Alkimos              452500            10.40%\n",
       "Applecross                Applecross             1735000            -0.60%\n",
       "Ardross                      Ardross             1165000            15.90%"
      ]
     },
     "execution_count": 6,
     "metadata": {},
     "output_type": "execute_result"
    }
   ],
   "source": [
    "# Reading the residential_property_price data \n",
    "price_df = pd.read_csv(project_path_2)\n",
    "#Filtering data points where MEDIAN HOUSE PRICE is greater than zero. \n",
    "price_df = price_df[price_df['MEDIAN HOUSE PRICE'] > 0]\n",
    "#Setting the index of the data frame as SUBURB\n",
    "price_df = price_df.set_index(price_df[\"SUBURB\"])\n",
    "#Displaying the first few rows of the Data frame\n",
    "price_df.head()"
   ]
  },
  {
   "cell_type": "code",
   "execution_count": 7,
   "id": "209106b7-557c-48bb-a069-5f08fd0213af",
   "metadata": {},
   "outputs": [
    {
     "data": {
      "text/html": [
       "<div>\n",
       "<style scoped>\n",
       "    .dataframe tbody tr th:only-of-type {\n",
       "        vertical-align: middle;\n",
       "    }\n",
       "\n",
       "    .dataframe tbody tr th {\n",
       "        vertical-align: top;\n",
       "    }\n",
       "\n",
       "    .dataframe thead th {\n",
       "        text-align: right;\n",
       "    }\n",
       "</style>\n",
       "<table border=\"1\" class=\"dataframe\">\n",
       "  <thead>\n",
       "    <tr style=\"text-align: right;\">\n",
       "      <th></th>\n",
       "      <th>SUBURB</th>\n",
       "      <th>MEDIAN HOUSE PRICE</th>\n",
       "      <th>GROWTH PERCENTAGE</th>\n",
       "      <th>LATITUDE</th>\n",
       "      <th>LONGITUDE</th>\n",
       "    </tr>\n",
       "    <tr>\n",
       "      <th>SUBURB</th>\n",
       "      <th></th>\n",
       "      <th></th>\n",
       "      <th></th>\n",
       "      <th></th>\n",
       "      <th></th>\n",
       "    </tr>\n",
       "  </thead>\n",
       "  <tbody>\n",
       "    <tr>\n",
       "      <th>Alexander Heights</th>\n",
       "      <td>Alexander Heights</td>\n",
       "      <td>490000</td>\n",
       "      <td>8.90%</td>\n",
       "      <td>-31.830310</td>\n",
       "      <td>115.866293</td>\n",
       "    </tr>\n",
       "    <tr>\n",
       "      <th>Alfred Cove</th>\n",
       "      <td>Alfred Cove</td>\n",
       "      <td>921000</td>\n",
       "      <td>17.00%</td>\n",
       "      <td>-32.033908</td>\n",
       "      <td>115.816117</td>\n",
       "    </tr>\n",
       "    <tr>\n",
       "      <th>Alkimos</th>\n",
       "      <td>Alkimos</td>\n",
       "      <td>452500</td>\n",
       "      <td>10.40%</td>\n",
       "      <td>-31.618988</td>\n",
       "      <td>115.691004</td>\n",
       "    </tr>\n",
       "    <tr>\n",
       "      <th>Applecross</th>\n",
       "      <td>Applecross</td>\n",
       "      <td>1735000</td>\n",
       "      <td>-0.60%</td>\n",
       "      <td>-32.013569</td>\n",
       "      <td>115.838399</td>\n",
       "    </tr>\n",
       "    <tr>\n",
       "      <th>Ardross</th>\n",
       "      <td>Ardross</td>\n",
       "      <td>1165000</td>\n",
       "      <td>15.90%</td>\n",
       "      <td>-32.026691</td>\n",
       "      <td>115.838054</td>\n",
       "    </tr>\n",
       "  </tbody>\n",
       "</table>\n",
       "</div>"
      ],
      "text/plain": [
       "                              SUBURB  MEDIAN HOUSE PRICE GROWTH PERCENTAGE  \\\n",
       "SUBURB                                                                       \n",
       "Alexander Heights  Alexander Heights              490000             8.90%   \n",
       "Alfred Cove              Alfred Cove              921000            17.00%   \n",
       "Alkimos                      Alkimos              452500            10.40%   \n",
       "Applecross                Applecross             1735000            -0.60%   \n",
       "Ardross                      Ardross             1165000            15.90%   \n",
       "\n",
       "                    LATITUDE   LONGITUDE  \n",
       "SUBURB                                    \n",
       "Alexander Heights -31.830310  115.866293  \n",
       "Alfred Cove       -32.033908  115.816117  \n",
       "Alkimos           -31.618988  115.691004  \n",
       "Applecross        -32.013569  115.838399  \n",
       "Ardross           -32.026691  115.838054  "
      ]
     },
     "execution_count": 7,
     "metadata": {},
     "output_type": "execute_result"
    }
   ],
   "source": [
    "#Selecting specific columns from the data frame\n",
    "suburbs_df = all_perth_data[['SUBURB', 'LATITUDE', 'LONGITUDE']].groupby(['SUBURB']).mean()\n",
    "#Concatinating both the data frames.\n",
    "suburbs_df_price = pd.concat([price_df, suburbs_df], axis=\"columns\", join=\"inner\")\n",
    "#Displaying first few data points of data frame\n",
    "suburbs_df_price.head()"
   ]
  },
  {
   "cell_type": "code",
   "execution_count": 8,
   "id": "1206a6a2-9e0c-478e-abae-281978a61e61",
   "metadata": {},
   "outputs": [],
   "source": [
    "#Turning Growth Percentage to Float data type to sort correctly\n",
    "suburbs_df_price['GROWTH PERCENTAGE'] = suburbs_df_price['GROWTH PERCENTAGE'].str.strip('%')\n",
    "suburbs_df_price['GROWTH PERCENTAGE'] = suburbs_df_price['GROWTH PERCENTAGE'].astype(float)"
   ]
  },
  {
   "cell_type": "code",
   "execution_count": 12,
   "id": "16d82117-d8b8-4222-a138-137fc259756d",
   "metadata": {},
   "outputs": [
    {
     "ename": "ImportError",
     "evalue": "Geographic projection support requires GeoViews and cartopy.",
     "output_type": "error",
     "traceback": [
      "\u001b[0;31m---------------------------------------------------------------------------\u001b[0m",
      "\u001b[0;31mModuleNotFoundError\u001b[0m                       Traceback (most recent call last)",
      "File \u001b[0;32m~/opt/anaconda3/lib/python3.9/site-packages/hvplot/util.py:232\u001b[0m, in \u001b[0;36mprocess_crs\u001b[0;34m(crs)\u001b[0m\n\u001b[1;32m    231\u001b[0m \u001b[38;5;28;01mtry\u001b[39;00m:\n\u001b[0;32m--> 232\u001b[0m     \u001b[38;5;28;01mimport\u001b[39;00m \u001b[38;5;21;01mcartopy\u001b[39;00m\u001b[38;5;21;01m.\u001b[39;00m\u001b[38;5;21;01mcrs\u001b[39;00m \u001b[38;5;28;01mas\u001b[39;00m \u001b[38;5;21;01mccrs\u001b[39;00m\n\u001b[1;32m    233\u001b[0m     \u001b[38;5;28;01mimport\u001b[39;00m \u001b[38;5;21;01mgeoviews\u001b[39;00m \u001b[38;5;28;01mas\u001b[39;00m \u001b[38;5;21;01mgv\u001b[39;00m \u001b[38;5;66;03m# noqa\u001b[39;00m\n",
      "\u001b[0;31mModuleNotFoundError\u001b[0m: No module named 'cartopy'",
      "\nDuring handling of the above exception, another exception occurred:\n",
      "\u001b[0;31mImportError\u001b[0m                               Traceback (most recent call last)",
      "Input \u001b[0;32mIn [12]\u001b[0m, in \u001b[0;36m<cell line: 2>\u001b[0;34m()\u001b[0m\n\u001b[1;32m      1\u001b[0m \u001b[38;5;66;03m#Full Geo map grouped by suburbs\u001b[39;00m\n\u001b[0;32m----> 2\u001b[0m \u001b[43msuburbs_df_price\u001b[49m\u001b[38;5;241;43m.\u001b[39;49m\u001b[43mhvplot\u001b[49m\u001b[38;5;241;43m.\u001b[39;49m\u001b[43mpoints\u001b[49m\u001b[43m(\u001b[49m\u001b[38;5;124;43m'\u001b[39;49m\u001b[38;5;124;43mLONGITUDE\u001b[39;49m\u001b[38;5;124;43m'\u001b[39;49m\u001b[43m,\u001b[49m\n\u001b[1;32m      3\u001b[0m \u001b[43m                                       \u001b[49m\u001b[38;5;124;43m'\u001b[39;49m\u001b[38;5;124;43mLATITUDE\u001b[39;49m\u001b[38;5;124;43m'\u001b[39;49m\u001b[43m,\u001b[49m\u001b[43m \u001b[49m\n\u001b[1;32m      4\u001b[0m \u001b[43m                                       \u001b[49m\u001b[43mgeo\u001b[49m\u001b[38;5;241;43m=\u001b[39;49m\u001b[38;5;28;43;01mTrue\u001b[39;49;00m\u001b[43m,\u001b[49m\n\u001b[1;32m      5\u001b[0m \u001b[43m                                       \u001b[49m\u001b[43mcolor\u001b[49m\u001b[38;5;241;43m=\u001b[39;49m\u001b[38;5;124;43m'\u001b[39;49m\u001b[38;5;124;43mMEDIAN HOUSE PRICE\u001b[39;49m\u001b[38;5;124;43m'\u001b[39;49m\u001b[43m,\u001b[49m\n\u001b[1;32m      6\u001b[0m \u001b[43m                                       \u001b[49m\u001b[43msize\u001b[49m\u001b[38;5;241;43m=\u001b[39;49m\u001b[38;5;124;43m'\u001b[39;49m\u001b[38;5;124;43mMEDIAN HOUSE PRICE\u001b[39;49m\u001b[38;5;124;43m'\u001b[39;49m\u001b[43m,\u001b[49m\n\u001b[1;32m      7\u001b[0m \u001b[43m                                       \u001b[49m\u001b[43mscale\u001b[49m\u001b[38;5;241;43m=\u001b[39;49m\u001b[38;5;241;43m0.013\u001b[39;49m\u001b[43m,\u001b[49m\n\u001b[1;32m      8\u001b[0m \u001b[43m                                       \u001b[49m\u001b[43mtiles\u001b[49m\u001b[38;5;241;43m=\u001b[39;49m\u001b[38;5;124;43m'\u001b[39;49m\u001b[38;5;124;43mOSM\u001b[39;49m\u001b[38;5;124;43m'\u001b[39;49m\u001b[43m,\u001b[49m\n\u001b[1;32m      9\u001b[0m \u001b[43m                                       \u001b[49m\u001b[43mframe_width\u001b[49m\u001b[38;5;241;43m=\u001b[39;49m\u001b[38;5;241;43m700\u001b[39;49m\u001b[43m,\u001b[49m\n\u001b[1;32m     10\u001b[0m \u001b[43m                                       \u001b[49m\u001b[43mframe_height\u001b[49m\u001b[38;5;241;43m=\u001b[39;49m\u001b[38;5;241;43m500\u001b[39;49m\u001b[43m,\u001b[49m\n\u001b[1;32m     11\u001b[0m \u001b[43m                                       \u001b[49m\u001b[43mhover\u001b[49m\u001b[43m \u001b[49m\u001b[38;5;241;43m=\u001b[39;49m\u001b[43m \u001b[49m\u001b[38;5;28;43;01mTrue\u001b[39;49;00m\u001b[43m,\u001b[49m\n\u001b[1;32m     12\u001b[0m \u001b[43m                                       \u001b[49m\u001b[43mhover_cols\u001b[49m\u001b[38;5;241;43m=\u001b[39;49m\u001b[43m[\u001b[49m\u001b[38;5;124;43m'\u001b[39;49m\u001b[38;5;124;43mSUBURB\u001b[39;49m\u001b[38;5;124;43m'\u001b[39;49m\u001b[43m,\u001b[49m\u001b[38;5;124;43m'\u001b[39;49m\u001b[38;5;124;43mMEDIAN HOUSE PRICE\u001b[39;49m\u001b[38;5;124;43m'\u001b[39;49m\u001b[43m]\u001b[49m\n\u001b[1;32m     13\u001b[0m \u001b[43m                                        \u001b[49m\u001b[43m)\u001b[49m\n",
      "File \u001b[0;32m~/opt/anaconda3/lib/python3.9/site-packages/hvplot/plotting/core.py:522\u001b[0m, in \u001b[0;36mhvPlotTabular.points\u001b[0;34m(self, x, y, **kwds)\u001b[0m\n\u001b[1;32m    506\u001b[0m \u001b[38;5;28;01mdef\u001b[39;00m \u001b[38;5;21mpoints\u001b[39m(\u001b[38;5;28mself\u001b[39m, x\u001b[38;5;241m=\u001b[39m\u001b[38;5;28;01mNone\u001b[39;00m, y\u001b[38;5;241m=\u001b[39m\u001b[38;5;28;01mNone\u001b[39;00m, \u001b[38;5;241m*\u001b[39m\u001b[38;5;241m*\u001b[39mkwds):\n\u001b[1;32m    507\u001b[0m     \u001b[38;5;124;03m\"\"\"\u001b[39;00m\n\u001b[1;32m    508\u001b[0m \u001b[38;5;124;03m    Point plot use for 2D coordinate systems\u001b[39;00m\n\u001b[1;32m    509\u001b[0m \n\u001b[0;32m   (...)\u001b[0m\n\u001b[1;32m    520\u001b[0m \u001b[38;5;124;03m        The HoloViews representation of the plot.\u001b[39;00m\n\u001b[1;32m    521\u001b[0m \u001b[38;5;124;03m    \"\"\"\u001b[39;00m\n\u001b[0;32m--> 522\u001b[0m     \u001b[38;5;28;01mreturn\u001b[39;00m \u001b[38;5;28;43mself\u001b[39;49m\u001b[43m(\u001b[49m\u001b[43mx\u001b[49m\u001b[43m,\u001b[49m\u001b[43m \u001b[49m\u001b[43my\u001b[49m\u001b[43m,\u001b[49m\u001b[43m \u001b[49m\u001b[43mkind\u001b[49m\u001b[38;5;241;43m=\u001b[39;49m\u001b[38;5;124;43m'\u001b[39;49m\u001b[38;5;124;43mpoints\u001b[39;49m\u001b[38;5;124;43m'\u001b[39;49m\u001b[43m,\u001b[49m\u001b[43m \u001b[49m\u001b[38;5;241;43m*\u001b[39;49m\u001b[38;5;241;43m*\u001b[39;49m\u001b[43mkwds\u001b[49m\u001b[43m)\u001b[49m\n",
      "File \u001b[0;32m~/opt/anaconda3/lib/python3.9/site-packages/hvplot/plotting/core.py:82\u001b[0m, in \u001b[0;36mhvPlotBase.__call__\u001b[0;34m(self, x, y, kind, **kwds)\u001b[0m\n\u001b[1;32m     79\u001b[0m         plot \u001b[38;5;241m=\u001b[39m \u001b[38;5;28mself\u001b[39m\u001b[38;5;241m.\u001b[39m_get_converter(x, y, kind, \u001b[38;5;241m*\u001b[39m\u001b[38;5;241m*\u001b[39mkwds)(kind, x, y)\n\u001b[1;32m     80\u001b[0m         \u001b[38;5;28;01mreturn\u001b[39;00m pn\u001b[38;5;241m.\u001b[39mpanel(plot, \u001b[38;5;241m*\u001b[39m\u001b[38;5;241m*\u001b[39mpanel_dict)\n\u001b[0;32m---> 82\u001b[0m \u001b[38;5;28;01mreturn\u001b[39;00m \u001b[38;5;28;43mself\u001b[39;49m\u001b[38;5;241;43m.\u001b[39;49m\u001b[43m_get_converter\u001b[49m\u001b[43m(\u001b[49m\u001b[43mx\u001b[49m\u001b[43m,\u001b[49m\u001b[43m \u001b[49m\u001b[43my\u001b[49m\u001b[43m,\u001b[49m\u001b[43m \u001b[49m\u001b[43mkind\u001b[49m\u001b[43m,\u001b[49m\u001b[43m \u001b[49m\u001b[38;5;241;43m*\u001b[39;49m\u001b[38;5;241;43m*\u001b[39;49m\u001b[43mkwds\u001b[49m\u001b[43m)\u001b[49m(kind, x, y)\n",
      "File \u001b[0;32m~/opt/anaconda3/lib/python3.9/site-packages/hvplot/plotting/core.py:89\u001b[0m, in \u001b[0;36mhvPlotBase._get_converter\u001b[0;34m(self, x, y, kind, **kwds)\u001b[0m\n\u001b[1;32m     87\u001b[0m y \u001b[38;5;241m=\u001b[39m y \u001b[38;5;129;01mor\u001b[39;00m params\u001b[38;5;241m.\u001b[39mpop(\u001b[38;5;124m'\u001b[39m\u001b[38;5;124my\u001b[39m\u001b[38;5;124m'\u001b[39m, \u001b[38;5;28;01mNone\u001b[39;00m)\n\u001b[1;32m     88\u001b[0m kind \u001b[38;5;241m=\u001b[39m kind \u001b[38;5;129;01mor\u001b[39;00m params\u001b[38;5;241m.\u001b[39mpop(\u001b[38;5;124m'\u001b[39m\u001b[38;5;124mkind\u001b[39m\u001b[38;5;124m'\u001b[39m, \u001b[38;5;28;01mNone\u001b[39;00m)\n\u001b[0;32m---> 89\u001b[0m \u001b[38;5;28;01mreturn\u001b[39;00m \u001b[43mHoloViewsConverter\u001b[49m\u001b[43m(\u001b[49m\n\u001b[1;32m     90\u001b[0m \u001b[43m    \u001b[49m\u001b[38;5;28;43mself\u001b[39;49m\u001b[38;5;241;43m.\u001b[39;49m\u001b[43m_data\u001b[49m\u001b[43m,\u001b[49m\u001b[43m \u001b[49m\u001b[43mx\u001b[49m\u001b[43m,\u001b[49m\u001b[43m \u001b[49m\u001b[43my\u001b[49m\u001b[43m,\u001b[49m\u001b[43m \u001b[49m\u001b[43mkind\u001b[49m\u001b[38;5;241;43m=\u001b[39;49m\u001b[43mkind\u001b[49m\u001b[43m,\u001b[49m\u001b[43m \u001b[49m\u001b[38;5;241;43m*\u001b[39;49m\u001b[38;5;241;43m*\u001b[39;49m\u001b[43mparams\u001b[49m\n\u001b[1;32m     91\u001b[0m \u001b[43m\u001b[49m\u001b[43m)\u001b[49m\n",
      "File \u001b[0;32m~/opt/anaconda3/lib/python3.9/site-packages/hvplot/converter.py:388\u001b[0m, in \u001b[0;36mHoloViewsConverter.__init__\u001b[0;34m(self, data, x, y, kind, by, use_index, group_label, value_label, backlog, persist, use_dask, crs, fields, groupby, dynamic, grid, legend, rot, title, xlim, ylim, clim, symmetric, logx, logy, loglog, hover, subplots, label, invert, stacked, colorbar, datashade, rasterize, row, col, debug, framewise, aggregator, projection, global_extent, geo, precompute, flip_xaxis, flip_yaxis, dynspread, hover_cols, x_sampling, y_sampling, project, tools, attr_labels, coastline, tiles, sort_date, check_symmetric_max, transforms, stream, cnorm, features, rescale_discrete_levels, **kwds)\u001b[0m\n\u001b[1;32m    386\u001b[0m \u001b[38;5;28mself\u001b[39m\u001b[38;5;241m.\u001b[39mdynamic \u001b[38;5;241m=\u001b[39m dynamic\n\u001b[1;32m    387\u001b[0m \u001b[38;5;28mself\u001b[39m\u001b[38;5;241m.\u001b[39mgeo \u001b[38;5;241m=\u001b[39m \u001b[38;5;28many\u001b[39m([geo, crs, global_extent, projection, project, coastline, features])\n\u001b[0;32m--> 388\u001b[0m \u001b[38;5;28mself\u001b[39m\u001b[38;5;241m.\u001b[39mcrs \u001b[38;5;241m=\u001b[39m \u001b[38;5;28;43mself\u001b[39;49m\u001b[38;5;241;43m.\u001b[39;49m\u001b[43m_process_crs\u001b[49m\u001b[43m(\u001b[49m\u001b[43mdata\u001b[49m\u001b[43m,\u001b[49m\u001b[43m \u001b[49m\u001b[43mcrs\u001b[49m\u001b[43m)\u001b[49m \u001b[38;5;28;01mif\u001b[39;00m \u001b[38;5;28mself\u001b[39m\u001b[38;5;241m.\u001b[39mgeo \u001b[38;5;28;01melse\u001b[39;00m \u001b[38;5;28;01mNone\u001b[39;00m\n\u001b[1;32m    389\u001b[0m \u001b[38;5;28mself\u001b[39m\u001b[38;5;241m.\u001b[39mproject \u001b[38;5;241m=\u001b[39m project\n\u001b[1;32m    390\u001b[0m \u001b[38;5;28mself\u001b[39m\u001b[38;5;241m.\u001b[39mcoastline \u001b[38;5;241m=\u001b[39m coastline\n",
      "File \u001b[0;32m~/opt/anaconda3/lib/python3.9/site-packages/hvplot/converter.py:630\u001b[0m, in \u001b[0;36mHoloViewsConverter._process_crs\u001b[0;34m(self, data, crs)\u001b[0m\n\u001b[1;32m    628\u001b[0m _crs \u001b[38;5;241m=\u001b[39m \u001b[38;5;28mgetattr\u001b[39m(data, \u001b[38;5;124m'\u001b[39m\u001b[38;5;124mattrs\u001b[39m\u001b[38;5;124m'\u001b[39m, {})\u001b[38;5;241m.\u001b[39mget(crs \u001b[38;5;129;01mor\u001b[39;00m \u001b[38;5;124m'\u001b[39m\u001b[38;5;124mcrs\u001b[39m\u001b[38;5;124m'\u001b[39m, crs)\n\u001b[1;32m    629\u001b[0m \u001b[38;5;28;01mtry\u001b[39;00m:\n\u001b[0;32m--> 630\u001b[0m     \u001b[38;5;28;01mreturn\u001b[39;00m \u001b[43mprocess_crs\u001b[49m\u001b[43m(\u001b[49m\u001b[43m_crs\u001b[49m\u001b[43m)\u001b[49m\n\u001b[1;32m    631\u001b[0m \u001b[38;5;28;01mexcept\u001b[39;00m \u001b[38;5;167;01mValueError\u001b[39;00m:\n\u001b[1;32m    632\u001b[0m     \u001b[38;5;66;03m# only raise error if crs was specified in kwargs\u001b[39;00m\n\u001b[1;32m    633\u001b[0m     \u001b[38;5;28;01mif\u001b[39;00m crs:\n",
      "File \u001b[0;32m~/opt/anaconda3/lib/python3.9/site-packages/hvplot/util.py:236\u001b[0m, in \u001b[0;36mprocess_crs\u001b[0;34m(crs)\u001b[0m\n\u001b[1;32m    234\u001b[0m     \u001b[38;5;28;01mimport\u001b[39;00m \u001b[38;5;21;01mpyproj\u001b[39;00m\n\u001b[1;32m    235\u001b[0m \u001b[38;5;28;01mexcept\u001b[39;00m \u001b[38;5;167;01mImportError\u001b[39;00m:\n\u001b[0;32m--> 236\u001b[0m     \u001b[38;5;28;01mraise\u001b[39;00m \u001b[38;5;167;01mImportError\u001b[39;00m(\u001b[38;5;124m'\u001b[39m\u001b[38;5;124mGeographic projection support requires GeoViews and cartopy.\u001b[39m\u001b[38;5;124m'\u001b[39m)\n\u001b[1;32m    238\u001b[0m \u001b[38;5;28;01mif\u001b[39;00m crs \u001b[38;5;129;01mis\u001b[39;00m \u001b[38;5;28;01mNone\u001b[39;00m:\n\u001b[1;32m    239\u001b[0m     \u001b[38;5;28;01mreturn\u001b[39;00m ccrs\u001b[38;5;241m.\u001b[39mPlateCarree()\n",
      "\u001b[0;31mImportError\u001b[0m: Geographic projection support requires GeoViews and cartopy."
     ]
    }
   ],
   "source": [
    "#Full Geo map grouped by suburbs\n",
    "suburbs_df_price.hvplot.points('LONGITUDE',\n",
    "                                       'LATITUDE', \n",
    "                                       geo=True,\n",
    "                                       color='MEDIAN HOUSE PRICE',\n",
    "                                       size='MEDIAN HOUSE PRICE',\n",
    "                                       scale=0.013,\n",
    "                                       tiles='OSM',\n",
    "                                       frame_width=700,\n",
    "                                       frame_height=500,\n",
    "                                       hover = True,\n",
    "                                       hover_cols=['SUBURB','MEDIAN HOUSE PRICE']\n",
    "                                        )"
   ]
  },
  {
   "cell_type": "markdown",
   "id": "c1fd2c4f-84d5-451a-ad15-8bbc54cefa11",
   "metadata": {},
   "source": [
    "Client 1 has come to us andbdgnwgjoekgfpsfk,ps"
   ]
  },
  {
   "cell_type": "code",
   "execution_count": 16,
   "id": "632552b5-f33a-4c13-a2bf-c914b4a223ee",
   "metadata": {},
   "outputs": [
    {
     "name": "stdin",
     "output_type": "stream",
     "text": [
      "Please enter the number of Bedrooms :  2\n",
      "Please enter your budget :  300000\n",
      "Please enter your desired minimum land size :  1\n",
      "Please enter the maximum distance from CBD in metres:  2000\n"
     ]
    },
    {
     "data": {
      "text/html": [
       "<div>\n",
       "<style scoped>\n",
       "    .dataframe tbody tr th:only-of-type {\n",
       "        vertical-align: middle;\n",
       "    }\n",
       "\n",
       "    .dataframe tbody tr th {\n",
       "        vertical-align: top;\n",
       "    }\n",
       "\n",
       "    .dataframe thead th {\n",
       "        text-align: right;\n",
       "    }\n",
       "</style>\n",
       "<table border=\"1\" class=\"dataframe\">\n",
       "  <thead>\n",
       "    <tr style=\"text-align: right;\">\n",
       "      <th></th>\n",
       "      <th>ADDRESS</th>\n",
       "      <th>SUBURB</th>\n",
       "      <th>PRICE</th>\n",
       "      <th>BEDROOMS</th>\n",
       "      <th>BATHROOMS</th>\n",
       "      <th>GARAGE</th>\n",
       "      <th>LAND_AREA</th>\n",
       "      <th>FLOOR_AREA</th>\n",
       "      <th>CBD_DIST</th>\n",
       "      <th>NEAREST_STN</th>\n",
       "      <th>NEAREST_STN_DIST</th>\n",
       "      <th>LATITUDE</th>\n",
       "      <th>LONGITUDE</th>\n",
       "      <th>NEAREST_SCH</th>\n",
       "      <th>NEAREST_SCH_DIST</th>\n",
       "      <th>NEAREST_SCH_RANK</th>\n",
       "    </tr>\n",
       "  </thead>\n",
       "  <tbody>\n",
       "    <tr>\n",
       "      <th>20398</th>\n",
       "      <td>39/193 Hay Street</td>\n",
       "      <td>East Perth</td>\n",
       "      <td>258000</td>\n",
       "      <td>2</td>\n",
       "      <td>1</td>\n",
       "      <td>1.0</td>\n",
       "      <td>2425</td>\n",
       "      <td>80</td>\n",
       "      <td>1600</td>\n",
       "      <td>Claisebrook Station</td>\n",
       "      <td>1100</td>\n",
       "      <td>-31.959205</td>\n",
       "      <td>115.873203</td>\n",
       "      <td>MERCEDES COLLEGE</td>\n",
       "      <td>0.665447</td>\n",
       "      <td>15.0</td>\n",
       "    </tr>\n",
       "    <tr>\n",
       "      <th>23351</th>\n",
       "      <td>47 Smith Street</td>\n",
       "      <td>Highgate</td>\n",
       "      <td>284000</td>\n",
       "      <td>2</td>\n",
       "      <td>1</td>\n",
       "      <td>2.0</td>\n",
       "      <td>238</td>\n",
       "      <td>101</td>\n",
       "      <td>1700</td>\n",
       "      <td>East Perth Station</td>\n",
       "      <td>644</td>\n",
       "      <td>-31.941076</td>\n",
       "      <td>115.870885</td>\n",
       "      <td>PERTH COLLEGE</td>\n",
       "      <td>1.183227</td>\n",
       "      <td>9.0</td>\n",
       "    </tr>\n",
       "    <tr>\n",
       "      <th>28248</th>\n",
       "      <td>65/273 Hay Street</td>\n",
       "      <td>East Perth</td>\n",
       "      <td>290000</td>\n",
       "      <td>2</td>\n",
       "      <td>1</td>\n",
       "      <td>1.0</td>\n",
       "      <td>1882</td>\n",
       "      <td>80</td>\n",
       "      <td>1300</td>\n",
       "      <td>McIver Station</td>\n",
       "      <td>822</td>\n",
       "      <td>-31.958307</td>\n",
       "      <td>115.870264</td>\n",
       "      <td>MERCEDES COLLEGE</td>\n",
       "      <td>0.378614</td>\n",
       "      <td>15.0</td>\n",
       "    </tr>\n",
       "  </tbody>\n",
       "</table>\n",
       "</div>"
      ],
      "text/plain": [
       "                 ADDRESS      SUBURB   PRICE  BEDROOMS  BATHROOMS  GARAGE  \\\n",
       "20398  39/193 Hay Street  East Perth  258000         2          1     1.0   \n",
       "23351    47 Smith Street    Highgate  284000         2          1     2.0   \n",
       "28248  65/273 Hay Street  East Perth  290000         2          1     1.0   \n",
       "\n",
       "       LAND_AREA  FLOOR_AREA  CBD_DIST          NEAREST_STN  NEAREST_STN_DIST  \\\n",
       "20398       2425          80      1600  Claisebrook Station              1100   \n",
       "23351        238         101      1700   East Perth Station               644   \n",
       "28248       1882          80      1300       McIver Station               822   \n",
       "\n",
       "        LATITUDE   LONGITUDE       NEAREST_SCH  NEAREST_SCH_DIST  \\\n",
       "20398 -31.959205  115.873203  MERCEDES COLLEGE          0.665447   \n",
       "23351 -31.941076  115.870885     PERTH COLLEGE          1.183227   \n",
       "28248 -31.958307  115.870264  MERCEDES COLLEGE          0.378614   \n",
       "\n",
       "       NEAREST_SCH_RANK  \n",
       "20398              15.0  \n",
       "23351               9.0  \n",
       "28248              15.0  "
      ]
     },
     "execution_count": 16,
     "metadata": {},
     "output_type": "execute_result"
    }
   ],
   "source": [
    "#Input of client requirements\n",
    "#Creating a new data frame df by dropping Build_year, postcode, date sold\n",
    "df = all_perth_data.drop(columns=['BUILD_YEAR', 'POSTCODE', 'DATE_SOLD'])\n",
    "#Requesting the clients property requirements\n",
    "bedrooms = int(input('Please enter the number of Bedrooms : '))\n",
    "plan_budget = int(input('Please enter your budget : '))\n",
    "landsize = int(input('Please enter your desired minimum land size : '))\n",
    "cbddist = int(input('Please enter the maximum distance from CBD in metres: '))\n",
    "#Filtering out properties based on clients requirements \n",
    "client1 = df.loc[(all_perth_data['BEDROOMS'] >= bedrooms)\n",
    "                               & (df['PRICE'] <= plan_budget)\n",
    "                               & (df['CBD_DIST'] <= cbddist)\n",
    "                               & (df['LAND_AREA'] >= landsize)]\n",
    "#Displaying the properties which meet clients requirements\n",
    "client1"
   ]
  },
  {
   "cell_type": "code",
   "execution_count": 17,
   "id": "14a33a00-955d-4f2b-853d-8b5cb279e338",
   "metadata": {},
   "outputs": [
    {
     "ename": "ImportError",
     "evalue": "Geographic projection support requires GeoViews and cartopy.",
     "output_type": "error",
     "traceback": [
      "\u001b[0;31m---------------------------------------------------------------------------\u001b[0m",
      "\u001b[0;31mModuleNotFoundError\u001b[0m                       Traceback (most recent call last)",
      "File \u001b[0;32m~/opt/anaconda3/lib/python3.9/site-packages/hvplot/util.py:232\u001b[0m, in \u001b[0;36mprocess_crs\u001b[0;34m(crs)\u001b[0m\n\u001b[1;32m    231\u001b[0m \u001b[38;5;28;01mtry\u001b[39;00m:\n\u001b[0;32m--> 232\u001b[0m     \u001b[38;5;28;01mimport\u001b[39;00m \u001b[38;5;21;01mcartopy\u001b[39;00m\u001b[38;5;21;01m.\u001b[39;00m\u001b[38;5;21;01mcrs\u001b[39;00m \u001b[38;5;28;01mas\u001b[39;00m \u001b[38;5;21;01mccrs\u001b[39;00m\n\u001b[1;32m    233\u001b[0m     \u001b[38;5;28;01mimport\u001b[39;00m \u001b[38;5;21;01mgeoviews\u001b[39;00m \u001b[38;5;28;01mas\u001b[39;00m \u001b[38;5;21;01mgv\u001b[39;00m \u001b[38;5;66;03m# noqa\u001b[39;00m\n",
      "\u001b[0;31mModuleNotFoundError\u001b[0m: No module named 'cartopy'",
      "\nDuring handling of the above exception, another exception occurred:\n",
      "\u001b[0;31mImportError\u001b[0m                               Traceback (most recent call last)",
      "Input \u001b[0;32mIn [17]\u001b[0m, in \u001b[0;36m<cell line: 2>\u001b[0;34m()\u001b[0m\n\u001b[1;32m      1\u001b[0m \u001b[38;5;66;03m#Another map to show the options\u001b[39;00m\n\u001b[0;32m----> 2\u001b[0m \u001b[43mclient1\u001b[49m\u001b[38;5;241;43m.\u001b[39;49m\u001b[43mhvplot\u001b[49m\u001b[38;5;241;43m.\u001b[39;49m\u001b[43mpoints\u001b[49m\u001b[43m(\u001b[49m\u001b[38;5;124;43m'\u001b[39;49m\u001b[38;5;124;43mLONGITUDE\u001b[39;49m\u001b[38;5;124;43m'\u001b[39;49m\u001b[43m,\u001b[49m\n\u001b[1;32m      3\u001b[0m \u001b[43m                                       \u001b[49m\u001b[38;5;124;43m'\u001b[39;49m\u001b[38;5;124;43mLATITUDE\u001b[39;49m\u001b[38;5;124;43m'\u001b[39;49m\u001b[43m,\u001b[49m\u001b[43m \u001b[49m\n\u001b[1;32m      4\u001b[0m \u001b[43m                                       \u001b[49m\u001b[43mgeo\u001b[49m\u001b[38;5;241;43m=\u001b[39;49m\u001b[38;5;28;43;01mTrue\u001b[39;49;00m\u001b[43m,\u001b[49m\n\u001b[1;32m      5\u001b[0m \u001b[43m                                       \u001b[49m\u001b[43mcolor\u001b[49m\u001b[38;5;241;43m=\u001b[39;49m\u001b[38;5;124;43m'\u001b[39;49m\u001b[38;5;124;43mADDRESS\u001b[39;49m\u001b[38;5;124;43m'\u001b[39;49m\u001b[43m,\u001b[49m\n\u001b[1;32m      6\u001b[0m \u001b[43m                                       \u001b[49m\u001b[43mtiles\u001b[49m\u001b[38;5;241;43m=\u001b[39;49m\u001b[38;5;124;43m'\u001b[39;49m\u001b[38;5;124;43mOSM\u001b[39;49m\u001b[38;5;124;43m'\u001b[39;49m\u001b[43m,\u001b[49m\n\u001b[1;32m      7\u001b[0m \u001b[43m                                       \u001b[49m\u001b[43msize\u001b[49m\u001b[38;5;241;43m=\u001b[39;49m\u001b[43m \u001b[49m\u001b[38;5;124;43m'\u001b[39;49m\u001b[38;5;124;43mPRICE\u001b[39;49m\u001b[38;5;124;43m'\u001b[39;49m\u001b[43m,\u001b[49m\n\u001b[1;32m      8\u001b[0m \u001b[43m                                       \u001b[49m\u001b[43mscale\u001b[49m\u001b[38;5;241;43m=\u001b[39;49m\u001b[43m \u001b[49m\u001b[38;5;241;43m0.05\u001b[39;49m\u001b[43m,\u001b[49m\n\u001b[1;32m      9\u001b[0m \u001b[43m                                       \u001b[49m\u001b[43mframe_width\u001b[49m\u001b[38;5;241;43m=\u001b[39;49m\u001b[38;5;241;43m700\u001b[39;49m\u001b[43m,\u001b[49m\n\u001b[1;32m     10\u001b[0m \u001b[43m                                       \u001b[49m\u001b[43mframe_height\u001b[49m\u001b[38;5;241;43m=\u001b[39;49m\u001b[38;5;241;43m500\u001b[39;49m\u001b[43m,\u001b[49m\n\u001b[1;32m     11\u001b[0m \u001b[43m                                       \u001b[49m\u001b[43mhover\u001b[49m\u001b[43m \u001b[49m\u001b[38;5;241;43m=\u001b[39;49m\u001b[43m \u001b[49m\u001b[38;5;28;43;01mTrue\u001b[39;49;00m\u001b[43m,\u001b[49m\n\u001b[1;32m     12\u001b[0m \u001b[43m                                       \u001b[49m\u001b[43mhover_cols\u001b[49m\u001b[38;5;241;43m=\u001b[39;49m\u001b[43m[\u001b[49m\u001b[38;5;124;43m'\u001b[39;49m\u001b[38;5;124;43mSUBURB\u001b[39;49m\u001b[38;5;124;43m'\u001b[39;49m\u001b[43m,\u001b[49m\u001b[38;5;124;43m'\u001b[39;49m\u001b[38;5;124;43mPRICE\u001b[39;49m\u001b[38;5;124;43m'\u001b[39;49m\u001b[43m,\u001b[49m\u001b[43m \u001b[49m\u001b[38;5;124;43m'\u001b[39;49m\u001b[38;5;124;43mCBD_DIST\u001b[39;49m\u001b[38;5;124;43m'\u001b[39;49m\u001b[43m,\u001b[49m\u001b[43m \u001b[49m\u001b[38;5;124;43m'\u001b[39;49m\u001b[38;5;124;43mBEDROOMS\u001b[39;49m\u001b[38;5;124;43m'\u001b[39;49m\u001b[43m]\u001b[49m\n\u001b[1;32m     13\u001b[0m \u001b[43m                                        \u001b[49m\u001b[43m)\u001b[49m\n",
      "File \u001b[0;32m~/opt/anaconda3/lib/python3.9/site-packages/hvplot/plotting/core.py:522\u001b[0m, in \u001b[0;36mhvPlotTabular.points\u001b[0;34m(self, x, y, **kwds)\u001b[0m\n\u001b[1;32m    506\u001b[0m \u001b[38;5;28;01mdef\u001b[39;00m \u001b[38;5;21mpoints\u001b[39m(\u001b[38;5;28mself\u001b[39m, x\u001b[38;5;241m=\u001b[39m\u001b[38;5;28;01mNone\u001b[39;00m, y\u001b[38;5;241m=\u001b[39m\u001b[38;5;28;01mNone\u001b[39;00m, \u001b[38;5;241m*\u001b[39m\u001b[38;5;241m*\u001b[39mkwds):\n\u001b[1;32m    507\u001b[0m     \u001b[38;5;124;03m\"\"\"\u001b[39;00m\n\u001b[1;32m    508\u001b[0m \u001b[38;5;124;03m    Point plot use for 2D coordinate systems\u001b[39;00m\n\u001b[1;32m    509\u001b[0m \n\u001b[0;32m   (...)\u001b[0m\n\u001b[1;32m    520\u001b[0m \u001b[38;5;124;03m        The HoloViews representation of the plot.\u001b[39;00m\n\u001b[1;32m    521\u001b[0m \u001b[38;5;124;03m    \"\"\"\u001b[39;00m\n\u001b[0;32m--> 522\u001b[0m     \u001b[38;5;28;01mreturn\u001b[39;00m \u001b[38;5;28;43mself\u001b[39;49m\u001b[43m(\u001b[49m\u001b[43mx\u001b[49m\u001b[43m,\u001b[49m\u001b[43m \u001b[49m\u001b[43my\u001b[49m\u001b[43m,\u001b[49m\u001b[43m \u001b[49m\u001b[43mkind\u001b[49m\u001b[38;5;241;43m=\u001b[39;49m\u001b[38;5;124;43m'\u001b[39;49m\u001b[38;5;124;43mpoints\u001b[39;49m\u001b[38;5;124;43m'\u001b[39;49m\u001b[43m,\u001b[49m\u001b[43m \u001b[49m\u001b[38;5;241;43m*\u001b[39;49m\u001b[38;5;241;43m*\u001b[39;49m\u001b[43mkwds\u001b[49m\u001b[43m)\u001b[49m\n",
      "File \u001b[0;32m~/opt/anaconda3/lib/python3.9/site-packages/hvplot/plotting/core.py:82\u001b[0m, in \u001b[0;36mhvPlotBase.__call__\u001b[0;34m(self, x, y, kind, **kwds)\u001b[0m\n\u001b[1;32m     79\u001b[0m         plot \u001b[38;5;241m=\u001b[39m \u001b[38;5;28mself\u001b[39m\u001b[38;5;241m.\u001b[39m_get_converter(x, y, kind, \u001b[38;5;241m*\u001b[39m\u001b[38;5;241m*\u001b[39mkwds)(kind, x, y)\n\u001b[1;32m     80\u001b[0m         \u001b[38;5;28;01mreturn\u001b[39;00m pn\u001b[38;5;241m.\u001b[39mpanel(plot, \u001b[38;5;241m*\u001b[39m\u001b[38;5;241m*\u001b[39mpanel_dict)\n\u001b[0;32m---> 82\u001b[0m \u001b[38;5;28;01mreturn\u001b[39;00m \u001b[38;5;28;43mself\u001b[39;49m\u001b[38;5;241;43m.\u001b[39;49m\u001b[43m_get_converter\u001b[49m\u001b[43m(\u001b[49m\u001b[43mx\u001b[49m\u001b[43m,\u001b[49m\u001b[43m \u001b[49m\u001b[43my\u001b[49m\u001b[43m,\u001b[49m\u001b[43m \u001b[49m\u001b[43mkind\u001b[49m\u001b[43m,\u001b[49m\u001b[43m \u001b[49m\u001b[38;5;241;43m*\u001b[39;49m\u001b[38;5;241;43m*\u001b[39;49m\u001b[43mkwds\u001b[49m\u001b[43m)\u001b[49m(kind, x, y)\n",
      "File \u001b[0;32m~/opt/anaconda3/lib/python3.9/site-packages/hvplot/plotting/core.py:89\u001b[0m, in \u001b[0;36mhvPlotBase._get_converter\u001b[0;34m(self, x, y, kind, **kwds)\u001b[0m\n\u001b[1;32m     87\u001b[0m y \u001b[38;5;241m=\u001b[39m y \u001b[38;5;129;01mor\u001b[39;00m params\u001b[38;5;241m.\u001b[39mpop(\u001b[38;5;124m'\u001b[39m\u001b[38;5;124my\u001b[39m\u001b[38;5;124m'\u001b[39m, \u001b[38;5;28;01mNone\u001b[39;00m)\n\u001b[1;32m     88\u001b[0m kind \u001b[38;5;241m=\u001b[39m kind \u001b[38;5;129;01mor\u001b[39;00m params\u001b[38;5;241m.\u001b[39mpop(\u001b[38;5;124m'\u001b[39m\u001b[38;5;124mkind\u001b[39m\u001b[38;5;124m'\u001b[39m, \u001b[38;5;28;01mNone\u001b[39;00m)\n\u001b[0;32m---> 89\u001b[0m \u001b[38;5;28;01mreturn\u001b[39;00m \u001b[43mHoloViewsConverter\u001b[49m\u001b[43m(\u001b[49m\n\u001b[1;32m     90\u001b[0m \u001b[43m    \u001b[49m\u001b[38;5;28;43mself\u001b[39;49m\u001b[38;5;241;43m.\u001b[39;49m\u001b[43m_data\u001b[49m\u001b[43m,\u001b[49m\u001b[43m \u001b[49m\u001b[43mx\u001b[49m\u001b[43m,\u001b[49m\u001b[43m \u001b[49m\u001b[43my\u001b[49m\u001b[43m,\u001b[49m\u001b[43m \u001b[49m\u001b[43mkind\u001b[49m\u001b[38;5;241;43m=\u001b[39;49m\u001b[43mkind\u001b[49m\u001b[43m,\u001b[49m\u001b[43m \u001b[49m\u001b[38;5;241;43m*\u001b[39;49m\u001b[38;5;241;43m*\u001b[39;49m\u001b[43mparams\u001b[49m\n\u001b[1;32m     91\u001b[0m \u001b[43m\u001b[49m\u001b[43m)\u001b[49m\n",
      "File \u001b[0;32m~/opt/anaconda3/lib/python3.9/site-packages/hvplot/converter.py:388\u001b[0m, in \u001b[0;36mHoloViewsConverter.__init__\u001b[0;34m(self, data, x, y, kind, by, use_index, group_label, value_label, backlog, persist, use_dask, crs, fields, groupby, dynamic, grid, legend, rot, title, xlim, ylim, clim, symmetric, logx, logy, loglog, hover, subplots, label, invert, stacked, colorbar, datashade, rasterize, row, col, debug, framewise, aggregator, projection, global_extent, geo, precompute, flip_xaxis, flip_yaxis, dynspread, hover_cols, x_sampling, y_sampling, project, tools, attr_labels, coastline, tiles, sort_date, check_symmetric_max, transforms, stream, cnorm, features, rescale_discrete_levels, **kwds)\u001b[0m\n\u001b[1;32m    386\u001b[0m \u001b[38;5;28mself\u001b[39m\u001b[38;5;241m.\u001b[39mdynamic \u001b[38;5;241m=\u001b[39m dynamic\n\u001b[1;32m    387\u001b[0m \u001b[38;5;28mself\u001b[39m\u001b[38;5;241m.\u001b[39mgeo \u001b[38;5;241m=\u001b[39m \u001b[38;5;28many\u001b[39m([geo, crs, global_extent, projection, project, coastline, features])\n\u001b[0;32m--> 388\u001b[0m \u001b[38;5;28mself\u001b[39m\u001b[38;5;241m.\u001b[39mcrs \u001b[38;5;241m=\u001b[39m \u001b[38;5;28;43mself\u001b[39;49m\u001b[38;5;241;43m.\u001b[39;49m\u001b[43m_process_crs\u001b[49m\u001b[43m(\u001b[49m\u001b[43mdata\u001b[49m\u001b[43m,\u001b[49m\u001b[43m \u001b[49m\u001b[43mcrs\u001b[49m\u001b[43m)\u001b[49m \u001b[38;5;28;01mif\u001b[39;00m \u001b[38;5;28mself\u001b[39m\u001b[38;5;241m.\u001b[39mgeo \u001b[38;5;28;01melse\u001b[39;00m \u001b[38;5;28;01mNone\u001b[39;00m\n\u001b[1;32m    389\u001b[0m \u001b[38;5;28mself\u001b[39m\u001b[38;5;241m.\u001b[39mproject \u001b[38;5;241m=\u001b[39m project\n\u001b[1;32m    390\u001b[0m \u001b[38;5;28mself\u001b[39m\u001b[38;5;241m.\u001b[39mcoastline \u001b[38;5;241m=\u001b[39m coastline\n",
      "File \u001b[0;32m~/opt/anaconda3/lib/python3.9/site-packages/hvplot/converter.py:630\u001b[0m, in \u001b[0;36mHoloViewsConverter._process_crs\u001b[0;34m(self, data, crs)\u001b[0m\n\u001b[1;32m    628\u001b[0m _crs \u001b[38;5;241m=\u001b[39m \u001b[38;5;28mgetattr\u001b[39m(data, \u001b[38;5;124m'\u001b[39m\u001b[38;5;124mattrs\u001b[39m\u001b[38;5;124m'\u001b[39m, {})\u001b[38;5;241m.\u001b[39mget(crs \u001b[38;5;129;01mor\u001b[39;00m \u001b[38;5;124m'\u001b[39m\u001b[38;5;124mcrs\u001b[39m\u001b[38;5;124m'\u001b[39m, crs)\n\u001b[1;32m    629\u001b[0m \u001b[38;5;28;01mtry\u001b[39;00m:\n\u001b[0;32m--> 630\u001b[0m     \u001b[38;5;28;01mreturn\u001b[39;00m \u001b[43mprocess_crs\u001b[49m\u001b[43m(\u001b[49m\u001b[43m_crs\u001b[49m\u001b[43m)\u001b[49m\n\u001b[1;32m    631\u001b[0m \u001b[38;5;28;01mexcept\u001b[39;00m \u001b[38;5;167;01mValueError\u001b[39;00m:\n\u001b[1;32m    632\u001b[0m     \u001b[38;5;66;03m# only raise error if crs was specified in kwargs\u001b[39;00m\n\u001b[1;32m    633\u001b[0m     \u001b[38;5;28;01mif\u001b[39;00m crs:\n",
      "File \u001b[0;32m~/opt/anaconda3/lib/python3.9/site-packages/hvplot/util.py:236\u001b[0m, in \u001b[0;36mprocess_crs\u001b[0;34m(crs)\u001b[0m\n\u001b[1;32m    234\u001b[0m     \u001b[38;5;28;01mimport\u001b[39;00m \u001b[38;5;21;01mpyproj\u001b[39;00m\n\u001b[1;32m    235\u001b[0m \u001b[38;5;28;01mexcept\u001b[39;00m \u001b[38;5;167;01mImportError\u001b[39;00m:\n\u001b[0;32m--> 236\u001b[0m     \u001b[38;5;28;01mraise\u001b[39;00m \u001b[38;5;167;01mImportError\u001b[39;00m(\u001b[38;5;124m'\u001b[39m\u001b[38;5;124mGeographic projection support requires GeoViews and cartopy.\u001b[39m\u001b[38;5;124m'\u001b[39m)\n\u001b[1;32m    238\u001b[0m \u001b[38;5;28;01mif\u001b[39;00m crs \u001b[38;5;129;01mis\u001b[39;00m \u001b[38;5;28;01mNone\u001b[39;00m:\n\u001b[1;32m    239\u001b[0m     \u001b[38;5;28;01mreturn\u001b[39;00m ccrs\u001b[38;5;241m.\u001b[39mPlateCarree()\n",
      "\u001b[0;31mImportError\u001b[0m: Geographic projection support requires GeoViews and cartopy."
     ]
    }
   ],
   "source": [
    "#Visualization displaying the properties which meet clients requirements\n",
    "client1.hvplot.points('LONGITUDE',\n",
    "                                       'LATITUDE', \n",
    "                                       geo=True,\n",
    "                                       color='ADDRESS',\n",
    "                                       tiles='OSM',\n",
    "                                       size= 'PRICE',\n",
    "                                       scale= 0.05,\n",
    "                                       frame_width=700,\n",
    "                                       frame_height=500,\n",
    "                                       hover = True,\n",
    "                                       hover_cols=['SUBURB','PRICE', 'CBD_DIST', 'BEDROOMS']\n",
    "                                        )"
   ]
  },
  {
   "cell_type": "code",
   "execution_count": 18,
   "id": "602942f5-1c49-4bfe-86f9-3bd6cfac1e2c",
   "metadata": {},
   "outputs": [
    {
     "data": {
      "text/html": [
       "<div>\n",
       "<style scoped>\n",
       "    .dataframe tbody tr th:only-of-type {\n",
       "        vertical-align: middle;\n",
       "    }\n",
       "\n",
       "    .dataframe tbody tr th {\n",
       "        vertical-align: top;\n",
       "    }\n",
       "\n",
       "    .dataframe thead th {\n",
       "        text-align: right;\n",
       "    }\n",
       "</style>\n",
       "<table border=\"1\" class=\"dataframe\">\n",
       "  <thead>\n",
       "    <tr style=\"text-align: right;\">\n",
       "      <th></th>\n",
       "      <th>SUBURB</th>\n",
       "      <th>MEDIAN HOUSE PRICE</th>\n",
       "      <th>GROWTH PERCENTAGE</th>\n",
       "    </tr>\n",
       "    <tr>\n",
       "      <th>SUBURB</th>\n",
       "      <th></th>\n",
       "      <th></th>\n",
       "      <th></th>\n",
       "    </tr>\n",
       "  </thead>\n",
       "  <tbody>\n",
       "    <tr>\n",
       "      <th>East Perth</th>\n",
       "      <td>East Perth</td>\n",
       "      <td>1950000</td>\n",
       "      <td>77.30%</td>\n",
       "    </tr>\n",
       "    <tr>\n",
       "      <th>Highgate</th>\n",
       "      <td>Highgate</td>\n",
       "      <td>994000</td>\n",
       "      <td>10.50%</td>\n",
       "    </tr>\n",
       "  </tbody>\n",
       "</table>\n",
       "</div>"
      ],
      "text/plain": [
       "                SUBURB  MEDIAN HOUSE PRICE GROWTH PERCENTAGE\n",
       "SUBURB                                                      \n",
       "East Perth  East Perth             1950000            77.30%\n",
       "Highgate      Highgate              994000            10.50%"
      ]
     },
     "metadata": {},
     "output_type": "display_data"
    }
   ],
   "source": [
    "#Creating an empty list\n",
    "temp_list = {}\n",
    "#Loading the suburb which the property is located in.\n",
    "temp_list = client1['SUBURB']\n",
    "#Printing the median price and the growth rate of the property.\n",
    "display(price_df[price_df['SUBURB'].isin(temp_list)])"
   ]
  },
  {
   "cell_type": "code",
   "execution_count": 21,
   "id": "32298068-5fb6-40bc-a39b-7829e8b90f87",
   "metadata": {},
   "outputs": [],
   "source": [
    "#Calculators\n",
    "#Defining mortgage calculator \n",
    "def mortgagecalculator (mortgage, years, interest):\n",
    "#Converting decimal input to floating point value\n",
    "    interest = interest / 100\n",
    "#Calculating the number of periods per year   \n",
    "    nper = years*12\n",
    "\n",
    "#Calculating the monthly intrest payment\n",
    "    interest_monthly = interest/12\n",
    "    numerator = interest_monthly*((1+interest_monthly)**nper)\n",
    "    denominator = (1+interest_monthly)**nper-1\n",
    "#Returning the result to function call and formatting the displayes numerical.\n",
    "    payment = float(\"{0:.2f}\".format(mortgage*numerator/denominator))\n",
    "    return(payment)"
   ]
  },
  {
   "cell_type": "code",
   "execution_count": 22,
   "id": "f42a7076-a889-4bb2-b19d-3f1ea31e24c3",
   "metadata": {},
   "outputs": [
    {
     "name": "stdin",
     "output_type": "stream",
     "text": [
      "What is the mortgage amount?  3333333333\n",
      "For how many years?  4\n",
      "What interest rate?  2\n"
     ]
    },
    {
     "data": {
      "text/plain": [
       "72317078.79"
      ]
     },
     "execution_count": 22,
     "metadata": {},
     "output_type": "execute_result"
    }
   ],
   "source": [
    "#Collecting clients mortgage details.\n",
    "#Requesting client the loan amount\n",
    "mortgate_amount=int(input('What is the mortgage amount? '))\n",
    "#Enquiring clint of the duration to repay the loan\n",
    "no_of_years=int(input('For how many years? '))\n",
    "#Collecting the intrest rate information from the bank\n",
    "intrest_rate=int(input('What interest rate? '))\n",
    "#Calling the function to provide the monthly repayment\n",
    "mortgagecalculator(mortgate_amount,no_of_years,intrest_rate)"
   ]
  },
  {
   "cell_type": "code",
   "execution_count": null,
   "id": "3f3e8daf-03e3-40a7-a52f-b6e13a6c1805",
   "metadata": {},
   "outputs": [],
   "source": [
    "#Definition of stamp duty calculator\n",
    "#Calculating the stamp duty based on the value of the property.\n",
    "def stampdutycalculator (purchase_price):\n",
    "    if purchase_price <= 120000:\n",
    "        stamp_duty = purchase_price*0.019\n",
    "    elif purchase_price > 120000 and purchase_price <= 150000:\n",
    "        stamp_duty = 2280 + (purchase_price - 120000) * 0.0285\n",
    "    elif purchase_price > 150000 and purchase_price <= 360000:\n",
    "        stamp_duty = 3135 + (purchase_price - 150000) * 0.038\n",
    "    elif purchase_price > 360000 and purchase_price <= 725000:\n",
    "        stamp_duty = 11175 + (purchase_price - 360000) * 0.0475\n",
    "    else:\n",
    "        stamp_duty = 28453 + (purchase_price - 725000) * 0.0515\n",
    "#Returning the calculated stamp duty to the function call   \n",
    "    return stamp_duty"
   ]
  },
  {
   "cell_type": "code",
   "execution_count": null,
   "id": "4f268d5f-bed0-4a29-b706-1d30efe051b4",
   "metadata": {},
   "outputs": [],
   "source": [
    "#Entering the property value dynamically.\n",
    "property_value=int(input('What is the property value? '))\n",
    "#Calling the function definition to calculate the property_value\n",
    "stampdutycalculator(property_value)"
   ]
  },
  {
   "cell_type": "code",
   "execution_count": null,
   "id": "aa1f257e-d996-4ec5-a285-47ac78c3eac9",
   "metadata": {},
   "outputs": [],
   "source": [
    "#A new client story and parameters"
   ]
  },
  {
   "cell_type": "code",
   "execution_count": null,
   "id": "6c6a31c6-b1cf-4697-b21d-a9622d98d132",
   "metadata": {},
   "outputs": [],
   "source": [
    "#New geo plot that contains house options for client B"
   ]
  },
  {
   "cell_type": "code",
   "execution_count": null,
   "id": "1e7763ad-051a-4958-b89c-080127d8e13f",
   "metadata": {},
   "outputs": [],
   "source": [
    "#Calculators"
   ]
  },
  {
   "cell_type": "code",
   "execution_count": null,
   "id": "f9c99d13-5262-4517-9c0a-2e76b2276043",
   "metadata": {},
   "outputs": [],
   "source": [
    "#A couple of analysis questions including: If you had unlimited money, where would be the best value for money for an investment price per land area etc\n",
    "\n",
    "#What are the top 3 suburbs to invest in by future growth percentage\n",
    "\n",
    "#What are the top 3 suburbs to avoid by future growth percentage"
   ]
  },
  {
   "cell_type": "code",
   "execution_count": null,
   "id": "19fb82f9-761f-46e7-b7c9-499a5af7a2f5",
   "metadata": {},
   "outputs": [],
   "source": [
    "suburbs_df_price = suburbs_df_price.sort_values(['GROWTH PERCENTAGE'], ascending=False)"
   ]
  },
  {
   "cell_type": "code",
   "execution_count": null,
   "id": "f882c8d3-8eb8-4c92-bb47-0fd7e97d0357",
   "metadata": {},
   "outputs": [],
   "source": [
    "display(suburbs_df_price.head(5), suburbs_df_price.tail(5))"
   ]
  },
  {
   "cell_type": "code",
   "execution_count": null,
   "id": "cd32492b-d3d6-44bf-93e7-256522eecd7a",
   "metadata": {},
   "outputs": [],
   "source": []
  }
 ],
 "metadata": {
  "kernelspec": {
   "display_name": "Python 3 (ipykernel)",
   "language": "python",
   "name": "python3"
  },
  "language_info": {
   "codemirror_mode": {
    "name": "ipython",
    "version": 3
   },
   "file_extension": ".py",
   "mimetype": "text/x-python",
   "name": "python",
   "nbconvert_exporter": "python",
   "pygments_lexer": "ipython3",
   "version": "3.7.13"
  }
 },
 "nbformat": 4,
 "nbformat_minor": 5
}
