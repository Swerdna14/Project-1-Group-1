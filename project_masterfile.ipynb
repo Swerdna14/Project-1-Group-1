{
 "cells": [
  {
   "cell_type": "code",
   "execution_count": 1,
   "id": "281e2a57-e1c9-4d2c-b96d-8cbc377cb98e",
   "metadata": {},
   "outputs": [],
   "source": [
    "#Background of character and situation"
   ]
  },
  {
   "cell_type": "code",
   "execution_count": 16,
   "id": "101aac2a-57d9-471b-9433-2ac1ddeee3f9",
   "metadata": {},
   "outputs": [],
   "source": [
    "#Import Libraries\n",
    "import pandas as pd\n",
    "from pathlib import Path\n",
    "import os\n",
    "import hvplot.pandas\n",
    "import numpy as np\n",
    "from datetime import date\n",
    "import seaborn as sns\n",
    "import json\n",
    "#import kaggle"
   ]
  },
  {
   "cell_type": "code",
   "execution_count": 17,
   "id": "2592f49b-d32f-4d18-ba8f-74854ec11767",
   "metadata": {},
   "outputs": [
    {
     "ename": "ModuleNotFoundError",
     "evalue": "No module named 'kaggle'",
     "output_type": "error",
     "traceback": [
      "\u001b[1;31m---------------------------------------------------------------------------\u001b[0m",
      "\u001b[1;31mModuleNotFoundError\u001b[0m                       Traceback (most recent call last)",
      "\u001b[1;32m~\\AppData\\Local\\Temp\\ipykernel_15352\\24942783.py\u001b[0m in \u001b[0;36m<module>\u001b[1;34m\u001b[0m\n\u001b[0;32m      1\u001b[0m \u001b[1;31m#Import file from API (MUST HAVE KAGGLE INSTALLED: (\"conda install kaggle\")\u001b[0m\u001b[1;33m\u001b[0m\u001b[1;33m\u001b[0m\u001b[1;33m\u001b[0m\u001b[0m\n\u001b[1;32m----> 2\u001b[1;33m \u001b[1;32mfrom\u001b[0m \u001b[0mkaggle\u001b[0m\u001b[1;33m.\u001b[0m\u001b[0mapi\u001b[0m\u001b[1;33m.\u001b[0m\u001b[0mkaggle_api_extended\u001b[0m \u001b[1;32mimport\u001b[0m \u001b[0mKaggleApi\u001b[0m\u001b[1;33m\u001b[0m\u001b[1;33m\u001b[0m\u001b[0m\n\u001b[0m\u001b[0;32m      3\u001b[0m \u001b[0mapi\u001b[0m \u001b[1;33m=\u001b[0m \u001b[0mKaggleApi\u001b[0m\u001b[1;33m(\u001b[0m\u001b[1;33m)\u001b[0m\u001b[1;33m\u001b[0m\u001b[1;33m\u001b[0m\u001b[0m\n\u001b[0;32m      4\u001b[0m \u001b[0mapi\u001b[0m\u001b[1;33m.\u001b[0m\u001b[0mauthenticate\u001b[0m\u001b[1;33m(\u001b[0m\u001b[1;33m)\u001b[0m\u001b[1;33m\u001b[0m\u001b[1;33m\u001b[0m\u001b[0m\n\u001b[0;32m      5\u001b[0m \u001b[1;33m\u001b[0m\u001b[0m\n",
      "\u001b[1;31mModuleNotFoundError\u001b[0m: No module named 'kaggle'"
     ]
    }
   ],
   "source": [
    "#Import file from API (MUST HAVE KAGGLE INSTALLED: (\"conda install kaggle\")\n",
    "from kaggle.api.kaggle_api_extended import KaggleApi\n",
    "api = KaggleApi()\n",
    "api.authenticate()\n",
    "\n",
    "\n",
    "api.dataset_download_file('syuzai/perth-house-prices','all_perth_310121.csv')"
   ]
  },
  {
   "cell_type": "code",
   "execution_count": 18,
   "id": "a2bc52bb-bf07-4453-836e-f6d26415d413",
   "metadata": {},
   "outputs": [],
   "source": [
    "#CSV file was unzipped from downloaded file\n",
    "\n",
    "#Read CSV file\n",
    "all_perth_data = pd.read_csv(\"all_perth_310121.csv\")"
   ]
  },
  {
   "cell_type": "code",
   "execution_count": 19,
   "id": "ac14749e-c1d9-4e89-85d0-9b0bb13c09ea",
   "metadata": {},
   "outputs": [
    {
     "data": {
      "text/plain": [
       "ADDRESS             0\n",
       "SUBURB              0\n",
       "PRICE               0\n",
       "BEDROOMS            0\n",
       "BATHROOMS           0\n",
       "GARAGE              0\n",
       "LAND_AREA           0\n",
       "FLOOR_AREA          0\n",
       "BUILD_YEAR          0\n",
       "CBD_DIST            0\n",
       "NEAREST_STN         0\n",
       "NEAREST_STN_DIST    0\n",
       "DATE_SOLD           0\n",
       "POSTCODE            0\n",
       "LATITUDE            0\n",
       "LONGITUDE           0\n",
       "NEAREST_SCH         0\n",
       "NEAREST_SCH_DIST    0\n",
       "NEAREST_SCH_RANK    0\n",
       "dtype: int64"
      ]
     },
     "execution_count": 19,
     "metadata": {},
     "output_type": "execute_result"
    }
   ],
   "source": [
    "#Drop NAs\n",
    "all_perth_data = all_perth_data.dropna()\n",
    "\n",
    "#Confirming all nulls have been removed\n",
    "all_perth_data.isnull().sum()"
   ]
  },
  {
   "cell_type": "code",
   "execution_count": 20,
   "id": "3d7a2451-a906-40f4-9af8-9052726a4ef8",
   "metadata": {},
   "outputs": [],
   "source": [
    "#Remove \\r from the Date_Sold column\n",
    "all_perth_data['DATE_SOLD'] = all_perth_data['DATE_SOLD'].str.strip('\\r')\n",
    "all_perth_data['DATE_SOLD'] = pd.to_datetime(all_perth_data['DATE_SOLD'])"
   ]
  },
  {
   "cell_type": "code",
   "execution_count": 21,
   "id": "37744961-ebc7-467f-8f59-0d6dc95f6244",
   "metadata": {},
   "outputs": [],
   "source": [
    "# Second option concatenation with another csv file\n",
    "project_path_2 = Path(\"./residential_property_price.csv\")"
   ]
  },
  {
   "cell_type": "code",
   "execution_count": 22,
   "id": "e4eca710-5e82-4e7b-ac67-cc04bdc44ae2",
   "metadata": {},
   "outputs": [
    {
     "data": {
      "text/html": [
       "<div>\n",
       "<style scoped>\n",
       "    .dataframe tbody tr th:only-of-type {\n",
       "        vertical-align: middle;\n",
       "    }\n",
       "\n",
       "    .dataframe tbody tr th {\n",
       "        vertical-align: top;\n",
       "    }\n",
       "\n",
       "    .dataframe thead th {\n",
       "        text-align: right;\n",
       "    }\n",
       "</style>\n",
       "<table border=\"1\" class=\"dataframe\">\n",
       "  <thead>\n",
       "    <tr style=\"text-align: right;\">\n",
       "      <th></th>\n",
       "      <th>SUBURB</th>\n",
       "      <th>MEDIAN HOUSE PRICE</th>\n",
       "      <th>GROWTH PERCENTAGE</th>\n",
       "    </tr>\n",
       "    <tr>\n",
       "      <th>SUBURB</th>\n",
       "      <th></th>\n",
       "      <th></th>\n",
       "      <th></th>\n",
       "    </tr>\n",
       "  </thead>\n",
       "  <tbody>\n",
       "    <tr>\n",
       "      <th>Alexander Heights</th>\n",
       "      <td>Alexander Heights</td>\n",
       "      <td>490000</td>\n",
       "      <td>8.90%</td>\n",
       "    </tr>\n",
       "    <tr>\n",
       "      <th>Alfred Cove</th>\n",
       "      <td>Alfred Cove</td>\n",
       "      <td>921000</td>\n",
       "      <td>17.00%</td>\n",
       "    </tr>\n",
       "    <tr>\n",
       "      <th>Alkimos</th>\n",
       "      <td>Alkimos</td>\n",
       "      <td>452500</td>\n",
       "      <td>10.40%</td>\n",
       "    </tr>\n",
       "    <tr>\n",
       "      <th>Applecross</th>\n",
       "      <td>Applecross</td>\n",
       "      <td>1735000</td>\n",
       "      <td>-0.60%</td>\n",
       "    </tr>\n",
       "    <tr>\n",
       "      <th>Ardross</th>\n",
       "      <td>Ardross</td>\n",
       "      <td>1165000</td>\n",
       "      <td>15.90%</td>\n",
       "    </tr>\n",
       "  </tbody>\n",
       "</table>\n",
       "</div>"
      ],
      "text/plain": [
       "                              SUBURB  MEDIAN HOUSE PRICE GROWTH PERCENTAGE\n",
       "SUBURB                                                                    \n",
       "Alexander Heights  Alexander Heights              490000             8.90%\n",
       "Alfred Cove              Alfred Cove              921000            17.00%\n",
       "Alkimos                      Alkimos              452500            10.40%\n",
       "Applecross                Applecross             1735000            -0.60%\n",
       "Ardross                      Ardross             1165000            15.90%"
      ]
     },
     "execution_count": 22,
     "metadata": {},
     "output_type": "execute_result"
    }
   ],
   "source": [
    "price_df = pd.read_csv(project_path_2)\n",
    "price_df = price_df[price_df['MEDIAN HOUSE PRICE'] > 0]\n",
    "price_df = price_df.set_index(price_df[\"SUBURB\"])\n",
    "price_df.head()"
   ]
  },
  {
   "cell_type": "code",
   "execution_count": 23,
   "id": "209106b7-557c-48bb-a069-5f08fd0213af",
   "metadata": {},
   "outputs": [
    {
     "data": {
      "text/html": [
       "<div>\n",
       "<style scoped>\n",
       "    .dataframe tbody tr th:only-of-type {\n",
       "        vertical-align: middle;\n",
       "    }\n",
       "\n",
       "    .dataframe tbody tr th {\n",
       "        vertical-align: top;\n",
       "    }\n",
       "\n",
       "    .dataframe thead th {\n",
       "        text-align: right;\n",
       "    }\n",
       "</style>\n",
       "<table border=\"1\" class=\"dataframe\">\n",
       "  <thead>\n",
       "    <tr style=\"text-align: right;\">\n",
       "      <th></th>\n",
       "      <th>SUBURB</th>\n",
       "      <th>MEDIAN HOUSE PRICE</th>\n",
       "      <th>GROWTH PERCENTAGE</th>\n",
       "      <th>LATITUDE</th>\n",
       "      <th>LONGITUDE</th>\n",
       "    </tr>\n",
       "    <tr>\n",
       "      <th>SUBURB</th>\n",
       "      <th></th>\n",
       "      <th></th>\n",
       "      <th></th>\n",
       "      <th></th>\n",
       "      <th></th>\n",
       "    </tr>\n",
       "  </thead>\n",
       "  <tbody>\n",
       "    <tr>\n",
       "      <th>Alexander Heights</th>\n",
       "      <td>Alexander Heights</td>\n",
       "      <td>490000</td>\n",
       "      <td>8.90%</td>\n",
       "      <td>-31.830310</td>\n",
       "      <td>115.866293</td>\n",
       "    </tr>\n",
       "    <tr>\n",
       "      <th>Alfred Cove</th>\n",
       "      <td>Alfred Cove</td>\n",
       "      <td>921000</td>\n",
       "      <td>17.00%</td>\n",
       "      <td>-32.033908</td>\n",
       "      <td>115.816117</td>\n",
       "    </tr>\n",
       "    <tr>\n",
       "      <th>Alkimos</th>\n",
       "      <td>Alkimos</td>\n",
       "      <td>452500</td>\n",
       "      <td>10.40%</td>\n",
       "      <td>-31.618988</td>\n",
       "      <td>115.691004</td>\n",
       "    </tr>\n",
       "    <tr>\n",
       "      <th>Applecross</th>\n",
       "      <td>Applecross</td>\n",
       "      <td>1735000</td>\n",
       "      <td>-0.60%</td>\n",
       "      <td>-32.013569</td>\n",
       "      <td>115.838399</td>\n",
       "    </tr>\n",
       "    <tr>\n",
       "      <th>Ardross</th>\n",
       "      <td>Ardross</td>\n",
       "      <td>1165000</td>\n",
       "      <td>15.90%</td>\n",
       "      <td>-32.026691</td>\n",
       "      <td>115.838054</td>\n",
       "    </tr>\n",
       "  </tbody>\n",
       "</table>\n",
       "</div>"
      ],
      "text/plain": [
       "                              SUBURB  MEDIAN HOUSE PRICE GROWTH PERCENTAGE  \\\n",
       "SUBURB                                                                       \n",
       "Alexander Heights  Alexander Heights              490000             8.90%   \n",
       "Alfred Cove              Alfred Cove              921000            17.00%   \n",
       "Alkimos                      Alkimos              452500            10.40%   \n",
       "Applecross                Applecross             1735000            -0.60%   \n",
       "Ardross                      Ardross             1165000            15.90%   \n",
       "\n",
       "                    LATITUDE   LONGITUDE  \n",
       "SUBURB                                    \n",
       "Alexander Heights -31.830310  115.866293  \n",
       "Alfred Cove       -32.033908  115.816117  \n",
       "Alkimos           -31.618988  115.691004  \n",
       "Applecross        -32.013569  115.838399  \n",
       "Ardross           -32.026691  115.838054  "
      ]
     },
     "execution_count": 23,
     "metadata": {},
     "output_type": "execute_result"
    }
   ],
   "source": [
    "suburbs_df = all_perth_data[['SUBURB', 'LATITUDE', 'LONGITUDE']].groupby(['SUBURB']).mean()\n",
    "suburbs_df_price = pd.concat([price_df, suburbs_df], axis=\"columns\", join=\"inner\")\n",
    "suburbs_df_price.head()"
   ]
  },
  {
   "cell_type": "code",
   "execution_count": 24,
   "id": "1206a6a2-9e0c-478e-abae-281978a61e61",
   "metadata": {},
   "outputs": [],
   "source": [
    "#Turning Growth Percentage to Float data type to sort correctly\n",
    "suburbs_df_price['GROWTH PERCENTAGE'] = suburbs_df_price['GROWTH PERCENTAGE'].str.strip('%')\n",
    "suburbs_df_price['GROWTH PERCENTAGE'] = suburbs_df_price['GROWTH PERCENTAGE'].astype(float)"
   ]
  },
  {
   "cell_type": "code",
   "execution_count": 25,
   "id": "16d82117-d8b8-4222-a138-137fc259756d",
   "metadata": {},
   "outputs": [
    {
     "data": {},
     "metadata": {},
     "output_type": "display_data"
    },
    {
     "data": {
      "application/vnd.holoviews_exec.v0+json": "",
      "text/html": [
       "<div id='1004'>\n",
       "\n",
       "\n",
       "\n",
       "\n",
       "\n",
       "  <div class=\"bk-root\" id=\"a4e16960-e899-469e-8217-58cef62356d9\" data-root-id=\"1004\"></div>\n",
       "</div>\n",
       "<script type=\"application/javascript\">(function(root) {\n",
       "  function embed_document(root) {\n",
       "    var docs_json = {\"99250a05-9f60-4ddf-857b-66fe36cdde0d\":{\"defs\":[{\"extends\":null,\"module\":null,\"name\":\"ReactiveHTML1\",\"overrides\":[],\"properties\":[]},{\"extends\":null,\"module\":null,\"name\":\"FlexBox1\",\"overrides\":[],\"properties\":[{\"default\":\"flex-start\",\"kind\":null,\"name\":\"align_content\"},{\"default\":\"flex-start\",\"kind\":null,\"name\":\"align_items\"},{\"default\":\"row\",\"kind\":null,\"name\":\"flex_direction\"},{\"default\":\"wrap\",\"kind\":null,\"name\":\"flex_wrap\"},{\"default\":\"flex-start\",\"kind\":null,\"name\":\"justify_content\"}]},{\"extends\":null,\"module\":null,\"name\":\"GridStack1\",\"overrides\":[],\"properties\":[{\"default\":\"warn\",\"kind\":null,\"name\":\"mode\"},{\"default\":null,\"kind\":null,\"name\":\"ncols\"},{\"default\":null,\"kind\":null,\"name\":\"nrows\"},{\"default\":true,\"kind\":null,\"name\":\"allow_resize\"},{\"default\":true,\"kind\":null,\"name\":\"allow_drag\"},{\"default\":[],\"kind\":null,\"name\":\"state\"}]},{\"extends\":null,\"module\":null,\"name\":\"click1\",\"overrides\":[],\"properties\":[{\"default\":\"\",\"kind\":null,\"name\":\"terminal_output\"},{\"default\":\"\",\"kind\":null,\"name\":\"debug_name\"},{\"default\":0,\"kind\":null,\"name\":\"clears\"}]},{\"extends\":null,\"module\":null,\"name\":\"TemplateActions1\",\"overrides\":[],\"properties\":[{\"default\":0,\"kind\":null,\"name\":\"open_modal\"},{\"default\":0,\"kind\":null,\"name\":\"close_modal\"}]},{\"extends\":null,\"module\":null,\"name\":\"MaterialTemplateActions1\",\"overrides\":[],\"properties\":[{\"default\":0,\"kind\":null,\"name\":\"open_modal\"},{\"default\":0,\"kind\":null,\"name\":\"close_modal\"}]}],\"roots\":{\"references\":[{\"attributes\":{\"coordinates\":null,\"group\":null,\"level\":\"glyph\",\"tile_source\":{\"id\":\"1075\"}},\"id\":\"1078\",\"type\":\"TileRenderer\"},{\"attributes\":{\"fill_color\":{\"field\":\"color\",\"transform\":{\"id\":\"1080\"}},\"hatch_color\":{\"field\":\"color\",\"transform\":{\"id\":\"1080\"}},\"line_color\":{\"field\":\"color\",\"transform\":{\"id\":\"1080\"}},\"size\":{\"field\":\"size\"},\"x\":{\"field\":\"LONGITUDE\"},\"y\":{\"field\":\"LATITUDE\"}},\"id\":\"1087\",\"type\":\"Scatter\"},{\"attributes\":{\"margin\":[5,5,5,5],\"name\":\"HSpacer03006\",\"sizing_mode\":\"stretch_width\"},\"id\":\"1158\",\"type\":\"Spacer\"},{\"attributes\":{\"axis_label\":\"x\",\"coordinates\":null,\"formatter\":{\"id\":\"1050\"},\"group\":null,\"major_label_policy\":{\"id\":\"1055\"},\"ticker\":{\"id\":\"1049\"}},\"id\":\"1026\",\"type\":\"LinearAxis\"},{\"attributes\":{\"fill_color\":{\"field\":\"color\",\"transform\":{\"id\":\"1080\"}},\"hatch_color\":{\"field\":\"color\",\"transform\":{\"id\":\"1080\"}},\"line_color\":{\"field\":\"color\",\"transform\":{\"id\":\"1080\"}},\"size\":{\"field\":\"size\"},\"x\":{\"field\":\"LONGITUDE\"},\"y\":{\"field\":\"LATITUDE\"}},\"id\":\"1086\",\"type\":\"Scatter\"},{\"attributes\":{},\"id\":\"1034\",\"type\":\"SaveTool\"},{\"attributes\":{},\"id\":\"1035\",\"type\":\"PanTool\"},{\"attributes\":{\"dimension\":\"lat\"},\"id\":\"1051\",\"type\":\"MercatorTicker\"},{\"attributes\":{},\"id\":\"1097\",\"type\":\"NoOverlap\"},{\"attributes\":{},\"id\":\"1055\",\"type\":\"AllLabels\"},{\"attributes\":{\"coordinates\":null,\"data_source\":{\"id\":\"1081\"},\"glyph\":{\"id\":\"1084\"},\"group\":null,\"hover_glyph\":{\"id\":\"1087\"},\"muted_glyph\":{\"id\":\"1088\"},\"nonselection_glyph\":{\"id\":\"1085\"},\"selection_glyph\":{\"id\":\"1086\"},\"view\":{\"id\":\"1090\"}},\"id\":\"1089\",\"type\":\"GlyphRenderer\"},{\"attributes\":{\"fill_alpha\":{\"value\":0.2},\"fill_color\":{\"field\":\"color\",\"transform\":{\"id\":\"1080\"}},\"hatch_alpha\":{\"value\":0.2},\"hatch_color\":{\"field\":\"color\",\"transform\":{\"id\":\"1080\"}},\"line_alpha\":{\"value\":0.2},\"line_color\":{\"field\":\"color\",\"transform\":{\"id\":\"1080\"}},\"size\":{\"field\":\"size\"},\"x\":{\"field\":\"LONGITUDE\"},\"y\":{\"field\":\"LATITUDE\"}},\"id\":\"1088\",\"type\":\"Scatter\"},{\"attributes\":{},\"id\":\"1038\",\"type\":\"ResetTool\"},{\"attributes\":{\"zoom_on_axis\":false},\"id\":\"1036\",\"type\":\"WheelZoomTool\"},{\"attributes\":{\"below\":[{\"id\":\"1026\"}],\"center\":[{\"id\":\"1029\"},{\"id\":\"1033\"}],\"frame_height\":500,\"frame_width\":700,\"height\":null,\"left\":[{\"id\":\"1030\"}],\"margin\":[5,5,5,5],\"match_aspect\":true,\"min_border_bottom\":10,\"min_border_left\":10,\"min_border_right\":10,\"min_border_top\":10,\"renderers\":[{\"id\":\"1078\"},{\"id\":\"1089\"}],\"right\":[{\"id\":\"1092\"}],\"sizing_mode\":\"fixed\",\"title\":{\"id\":\"1018\"},\"toolbar\":{\"id\":\"1040\"},\"width\":null,\"x_range\":{\"id\":\"1010\"},\"x_scale\":{\"id\":\"1022\"},\"y_range\":{\"id\":\"1011\"},\"y_scale\":{\"id\":\"1024\"}},\"id\":\"1017\",\"subtype\":\"Figure\",\"type\":\"Plot\"},{\"attributes\":{\"match_aspect\":true,\"overlay\":{\"id\":\"1039\"}},\"id\":\"1037\",\"type\":\"BoxZoomTool\"},{\"attributes\":{},\"id\":\"1099\",\"type\":\"UnionRenderers\"},{\"attributes\":{},\"id\":\"1091\",\"type\":\"BasicTicker\"},{\"attributes\":{\"code\":\"\\n        var projections = Bokeh.require(\\\"core/util/projections\\\");\\n        var x = special_vars.data_x\\n        var y = special_vars.data_y\\n        if (projections.wgs84_mercator.invert == null) {\\n          var coords = projections.wgs84_mercator.inverse([x, y])\\n        } else {\\n          var coords = projections.wgs84_mercator.invert(x, y)\\n        }\\n        return \\\"\\\" + (coords[0]).toFixed(4)\\n    \"},\"id\":\"1093\",\"type\":\"CustomJSHover\"},{\"attributes\":{\"coordinates\":null,\"group\":null,\"text_color\":\"black\",\"text_font_size\":\"12pt\"},\"id\":\"1018\",\"type\":\"Title\"},{\"attributes\":{\"margin\":[5,5,5,5],\"name\":\"HSpacer03005\",\"sizing_mode\":\"stretch_width\"},\"id\":\"1005\",\"type\":\"Spacer\"},{\"attributes\":{\"axis_label\":\"y\",\"coordinates\":null,\"formatter\":{\"id\":\"1052\"},\"group\":null,\"major_label_policy\":{\"id\":\"1062\"},\"ticker\":{\"id\":\"1051\"}},\"id\":\"1030\",\"type\":\"LinearAxis\"},{\"attributes\":{\"source\":{\"id\":\"1081\"}},\"id\":\"1090\",\"type\":\"CDSView\"},{\"attributes\":{},\"id\":\"1024\",\"type\":\"LinearScale\"},{\"attributes\":{\"end\":13004138.364973119,\"min_interval\":5,\"reset_end\":13004138.364973119,\"reset_start\":12822236.762973862,\"start\":12822236.762973862,\"tags\":[[[\"LONGITUDE\",\"LONGITUDE\",null]]]},\"id\":\"1010\",\"type\":\"Range1d\"},{\"attributes\":{\"bar_line_color\":\"black\",\"color_mapper\":{\"id\":\"1080\"},\"coordinates\":null,\"group\":null,\"label_standoff\":8,\"location\":[0,0],\"major_label_policy\":{\"id\":\"1097\"},\"major_tick_line_color\":\"black\",\"ticker\":{\"id\":\"1091\"}},\"id\":\"1092\",\"type\":\"ColorBar\"},{\"attributes\":{\"fill_color\":{\"field\":\"color\",\"transform\":{\"id\":\"1080\"}},\"hatch_color\":{\"field\":\"color\",\"transform\":{\"id\":\"1080\"}},\"line_color\":{\"field\":\"color\",\"transform\":{\"id\":\"1080\"}},\"size\":{\"field\":\"size\"},\"x\":{\"field\":\"LONGITUDE\"},\"y\":{\"field\":\"LATITUDE\"}},\"id\":\"1084\",\"type\":\"Scatter\"},{\"attributes\":{\"bottom_units\":\"screen\",\"coordinates\":null,\"fill_alpha\":0.5,\"fill_color\":\"lightgrey\",\"group\":null,\"left_units\":\"screen\",\"level\":\"overlay\",\"line_alpha\":1.0,\"line_color\":\"black\",\"line_dash\":[4,4],\"line_width\":2,\"right_units\":\"screen\",\"syncable\":false,\"top_units\":\"screen\"},\"id\":\"1039\",\"type\":\"BoxAnnotation\"},{\"attributes\":{\"tools\":[{\"id\":\"1014\"},{\"id\":\"1034\"},{\"id\":\"1035\"},{\"id\":\"1036\"},{\"id\":\"1037\"},{\"id\":\"1038\"}]},\"id\":\"1040\",\"type\":\"Toolbar\"},{\"attributes\":{\"fill_alpha\":{\"value\":0.1},\"fill_color\":{\"field\":\"color\",\"transform\":{\"id\":\"1080\"}},\"hatch_alpha\":{\"value\":0.1},\"hatch_color\":{\"field\":\"color\",\"transform\":{\"id\":\"1080\"}},\"line_alpha\":{\"value\":0.1},\"line_color\":{\"field\":\"color\",\"transform\":{\"id\":\"1080\"}},\"size\":{\"field\":\"size\"},\"x\":{\"field\":\"LONGITUDE\"},\"y\":{\"field\":\"LATITUDE\"}},\"id\":\"1085\",\"type\":\"Scatter\"},{\"attributes\":{},\"id\":\"1062\",\"type\":\"AllLabels\"},{\"attributes\":{\"data\":{\"LATITUDE\":{\"__ndarray__\":\"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\",\"dtype\":\"float64\",\"order\":\"little\",\"shape\":[264]},\"LONGITUDE\":{\"__ndarray__\":\"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\",\"dtype\":\"float64\",\"order\":\"little\",\"shape\":[264]},\"MEDIAN_HOUSE_PRICE\":[490000,921000,452500,1735000,1165000,290000,891000,505000,1545000,585000,560000,478000,540000,446000,360000,475000,440000,623250,590000,876000,676500,872500,446000,751750,560000,511000,565000,488750,605250,788500,1300000,1050000,484000,805000,850000,385000,1000000,1022000,410000,445000,328000,302500,640000,440000,682500,1017500,587500,555000,581000,520000,444000,515000,1595000,2400000,1800000,432000,485000,547500,1025000,822500,550000,1460000,361000,2850000,548750,1250000,648000,1565000,3240000,660000,530000,785000,453000,700000,855000,850000,460000,1475000,1950000,694750,465000,653000,439500,560000,489000,1775000,630000,480000,1075000,465000,387550,660000,770000,424500,840000,350000,490000,617000,810000,1092500,625000,575000,560000,551000,421000,618500,535000,550000,370000,483650,994000,1002500,335000,680000,550175,940000,442000,1005000,944000,642500,737500,575000,660000,1475000,590000,792000,715000,797000,830000,725000,425000,1070000,370000,1022500,502500,492500,711500,589000,375000,331000,645000,388888,787500,1060000,815000,700000,439500,360000,648000,654500,593750,870000,480000,930000,1375000,510000,655000,290000,895000,1300000,386388,340000,358500,835000,410000,540000,1780000,1740000,1250000,595000,1200000,490000,1400000,940000,761000,825500,2115000,420000,650000,1452500,1280000,1271000,687500,1152500,553000,827500,885000,670000,325000,558500,671000,772500,650000,525000,315000,3700000,600000,430000,450000,550000,485000,414000,740000,617500,440000,656000,1375000,460000,1630000,715000,565000,908000,490000,780000,370500,975000,1711500,530000,525000,520000,1300000,1310000,616000,1525000,610000,558000,960000,600000,352500,1627500,572500,2000000,575000,765000,451000,1500000,632500,790000,730000,415000,423000,541000,511000,460000,395000,680000,1670000,568500,1420000,1355000,1419000,835000,870000,399000,881620,657500,875000,591000,997500,630000,1250000,760000,392000,690000],\"SUBURB\":[\"Alexander Heights\",\"Alfred Cove\",\"Alkimos\",\"Applecross\",\"Ardross\",\"Armadale\",\"Ascot\",\"Ashby\",\"Attadale\",\"Atwell\",\"Aubin Grove\",\"Aveley\",\"Balcatta\",\"Baldivis\",\"Balga\",\"Ballajura\",\"Banksia Grove\",\"Baskerville\",\"Bassendean\",\"Bateman\",\"Bayswater\",\"Beaconsfield\",\"Beckenham\",\"Bedford\",\"Beldon\",\"Belmont\",\"Bennett Springs\",\"Bentley\",\"Bibra Lake\",\"Bickley\",\"Bicton\",\"Booragoon\",\"Brabham\",\"Brentwood\",\"Bull Creek\",\"Bullsbrook\",\"Burns Beach\",\"Burswood\",\"Butler\",\"Byford\",\"Calista\",\"Camillo\",\"Canning Vale\",\"Cannington\",\"Cardup\",\"Carine\",\"Carlisle\",\"Carmel\",\"Carramar\",\"Caversham\",\"Champion Lakes\",\"Chidlow\",\"Churchlands\",\"City Beach\",\"Claremont\",\"Clarkson\",\"Cloverdale\",\"Cockburn Central\",\"Como\",\"Connolly\",\"Coolbellup\",\"Coolbinia\",\"Cooloongup\",\"Cottesloe\",\"Craigie\",\"Crawley\",\"Currambine\",\"Daglish\",\"Dalkeith\",\"Darch\",\"Darling Downs\",\"Darlington\",\"Dayton\",\"Dianella\",\"Doubleview\",\"Duncraig\",\"East Cannington\",\"East Fremantle\",\"East Perth\",\"East Victoria Park\",\"Eden Hill\",\"Edgewater\",\"Ellenbrook\",\"Embleton\",\"Ferndale\",\"Floreat\",\"Forrestdale\",\"Forrestfield\",\"Fremantle\",\"Gidgegannup\",\"Girrawheen\",\"Glen Forrest\",\"Gnangara\",\"Golden Bay\",\"Gooseberry Hill\",\"Gosnells\",\"Greenmount\",\"Greenwood\",\"Guildford\",\"Gwelup\",\"Hamersley\",\"Hamilton Hill\",\"Hammond Park\",\"Harrisdale\",\"Haynes\",\"Hazelmere\",\"Heathridge\",\"Henley Brook\",\"Herne Hill\",\"High Wycombe\",\"Highgate\",\"Hillarys\",\"Hillman\",\"Hilton\",\"Hocking\",\"Hovea\",\"Huntingdale\",\"Iluka\",\"Inglewood\",\"Innaloo\",\"Jandakot\",\"Jane Brook\",\"Jindalee\",\"Jolimont\",\"Joondalup\",\"Joondanna\",\"Kalamunda\",\"Kallaroo\",\"Karawara\",\"Kardinya\",\"Karnup\",\"Karrinyup\",\"Kelmscott\",\"Kensington\",\"Kewdale\",\"Kiara\",\"Kingsley\",\"Kinross\",\"Koondoola\",\"Kwinana Town Centre\",\"Landsdale\",\"Langford\",\"Lathlain\",\"Leederville\",\"Leeming\",\"Lesmurdie\",\"Lynwood\",\"Maddington\",\"Madeley\",\"Mahogany Creek\",\"Maida Vale\",\"Manning\",\"Marangaroo\",\"Mariginiup\",\"Marmion\",\"Martin\",\"Maylands\",\"Medina\",\"Melville\",\"Menora\",\"Merriwa\",\"Middle Swan\",\"Midland\",\"Mindarie\",\"Mirrabooka\",\"Morley\",\"Mosman Park\",\"Mount Claremont\",\"Mount Hawthorn\",\"Mount Helena\",\"Mount Lawley\",\"Mount Nasura\",\"Mount Pleasant\",\"Mullaloo\",\"Murdoch\",\"Myaree\",\"Nedlands\",\"Nollamara\",\"Noranda\",\"North Beach\",\"North Coogee\",\"North Fremantle\",\"North Lake\",\"North Perth\",\"O'Connor\",\"Oakford\",\"Ocean Reef\",\"Orange Grove\",\"Orelia\",\"Osborne Park\",\"Padbury\",\"Palmyra\",\"Parkerville\",\"Parkwood\",\"Parmelia\",\"Peppermint Grove\",\"Piara Waters\",\"Port Kennedy\",\"Queens Park\",\"Quinns Rocks\",\"Redcliffe\",\"Ridgewood\",\"Riverton\",\"Rivervale\",\"Rockingham\",\"Roleystone\",\"Rossmoyne\",\"Safety Bay\",\"Salter Point\",\"Samson\",\"Sawyers Valley\",\"Scarborough\",\"Secret Harbour\",\"Serpentine\",\"Seville Grove\",\"Shelley\",\"Shenton Park\",\"Shoalwater\",\"Sinagra\",\"Singleton\",\"Sorrento\",\"South Fremantle\",\"South Guildford\",\"South Perth\",\"Southern River\",\"St James\",\"Stirling\",\"Stoneville\",\"Stratton\",\"Subiaco\",\"Success\",\"Swanbourne\",\"Tapping\",\"The Vines\",\"Thornlie\",\"Trigg\",\"Tuart Hill\",\"Upper Swan\",\"Victoria Park\",\"Viveash\",\"Waikiki\",\"Walliston\",\"Wandi\",\"Wanneroo\",\"Warnbro\",\"Warwick\",\"Watermans Bay\",\"Wattle Grove\",\"Wembley\",\"Wembley Downs\",\"West Leederville\",\"West Perth\",\"West Swan\",\"Westminster\",\"White Gum Valley\",\"Willagee\",\"Willetton\",\"Wilson\",\"Winthrop\",\"Woodbridge\",\"Woodlands\",\"Woodvale\",\"Wooroloo\",\"Yokine\"],\"color\":[490000,921000,452500,1735000,1165000,290000,891000,505000,1545000,585000,560000,478000,540000,446000,360000,475000,440000,623250,590000,876000,676500,872500,446000,751750,560000,511000,565000,488750,605250,788500,1300000,1050000,484000,805000,850000,385000,1000000,1022000,410000,445000,328000,302500,640000,440000,682500,1017500,587500,555000,581000,520000,444000,515000,1595000,2400000,1800000,432000,485000,547500,1025000,822500,550000,1460000,361000,2850000,548750,1250000,648000,1565000,3240000,660000,530000,785000,453000,700000,855000,850000,460000,1475000,1950000,694750,465000,653000,439500,560000,489000,1775000,630000,480000,1075000,465000,387550,660000,770000,424500,840000,350000,490000,617000,810000,1092500,625000,575000,560000,551000,421000,618500,535000,550000,370000,483650,994000,1002500,335000,680000,550175,940000,442000,1005000,944000,642500,737500,575000,660000,1475000,590000,792000,715000,797000,830000,725000,425000,1070000,370000,1022500,502500,492500,711500,589000,375000,331000,645000,388888,787500,1060000,815000,700000,439500,360000,648000,654500,593750,870000,480000,930000,1375000,510000,655000,290000,895000,1300000,386388,340000,358500,835000,410000,540000,1780000,1740000,1250000,595000,1200000,490000,1400000,940000,761000,825500,2115000,420000,650000,1452500,1280000,1271000,687500,1152500,553000,827500,885000,670000,325000,558500,671000,772500,650000,525000,315000,3700000,600000,430000,450000,550000,485000,414000,740000,617500,440000,656000,1375000,460000,1630000,715000,565000,908000,490000,780000,370500,975000,1711500,530000,525000,520000,1300000,1310000,616000,1525000,610000,558000,960000,600000,352500,1627500,572500,2000000,575000,765000,451000,1500000,632500,790000,730000,415000,423000,541000,511000,460000,395000,680000,1670000,568500,1420000,1355000,1419000,835000,870000,399000,881620,657500,875000,591000,997500,630000,1250000,760000,392000,690000],\"size\":{\"__ndarray__\":\"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\",\"dtype\":\"float64\",\"order\":\"little\",\"shape\":[264]}},\"selected\":{\"id\":\"1082\"},\"selection_policy\":{\"id\":\"1099\"}},\"id\":\"1081\",\"type\":\"ColumnDataSource\"},{\"attributes\":{\"attribution\":\"&copy; <a href=\\\"https://www.openstreetmap.org/copyright\\\">OpenStreetMap</a> contributors\",\"url\":\"https://c.tile.openstreetmap.org/{Z}/{X}/{Y}.png\"},\"id\":\"1075\",\"type\":\"WMTSTileSource\"},{\"attributes\":{\"dimension\":\"lat\"},\"id\":\"1052\",\"type\":\"MercatorTickFormatter\"},{\"attributes\":{\"dimension\":\"lon\"},\"id\":\"1049\",\"type\":\"MercatorTicker\"},{\"attributes\":{\"axis\":{\"id\":\"1030\"},\"coordinates\":null,\"dimension\":1,\"grid_line_color\":null,\"group\":null,\"ticker\":null},\"id\":\"1033\",\"type\":\"Grid\"},{\"attributes\":{\"callback\":null,\"formatters\":{\"$x\":{\"id\":\"1093\"},\"$y\":{\"id\":\"1094\"}},\"renderers\":[{\"id\":\"1089\"}],\"tags\":[\"hv_created\"],\"tooltips\":[[\"LONGITUDE\",\"$x{custom}\"],[\"LATITUDE\",\"$y{custom}\"],[\"MEDIAN HOUSE PRICE\",\"@{MEDIAN_HOUSE_PRICE}\"],[\"SUBURB\",\"@{SUBURB}\"]]},\"id\":\"1014\",\"type\":\"HoverTool\"},{\"attributes\":{\"high\":3700000,\"low\":290000,\"palette\":[\"#b3fef5\",\"#b0fef5\",\"#adfdf5\",\"#a9fcf5\",\"#a6fbf6\",\"#a3faf6\",\"#a0faf6\",\"#9df9f6\",\"#9af8f6\",\"#97f7f6\",\"#93f7f6\",\"#90f6f6\",\"#8df5f6\",\"#8af4f7\",\"#87f3f7\",\"#83f2f7\",\"#80f2f7\",\"#7df1f7\",\"#79f0f7\",\"#76eff7\",\"#73eef7\",\"#6fedf8\",\"#6cecf8\",\"#68ecf8\",\"#65ebf8\",\"#61eaf8\",\"#5ee9f8\",\"#5ae8f8\",\"#57e7f8\",\"#53e6f8\",\"#50e5f9\",\"#4ce4f9\",\"#49e3f9\",\"#45e2f9\",\"#42e1f9\",\"#3ee0f9\",\"#3bdff9\",\"#38def9\",\"#35ddf9\",\"#32dcf9\",\"#30dbfa\",\"#2ed9fa\",\"#2dd8fa\",\"#2cd7fa\",\"#2bd6fa\",\"#2bd5fa\",\"#2ad3fa\",\"#2ad2fa\",\"#29d1fa\",\"#29d0fb\",\"#29cffb\",\"#28cdfb\",\"#28ccfb\",\"#28cbfb\",\"#28cafb\",\"#28c8fb\",\"#28c7fb\",\"#29c6fb\",\"#29c5fb\",\"#29c4fb\",\"#29c2fb\",\"#2ac1fb\",\"#2ac0fb\",\"#2bbffb\",\"#2bbdfc\",\"#2cbcfc\",\"#2dbbfc\",\"#2db9fc\",\"#2eb8fc\",\"#2fb7fc\",\"#2fb6fc\",\"#30b4fc\",\"#31b3fc\",\"#32b2fc\",\"#32b0fc\",\"#33affc\",\"#33aefc\",\"#34adfc\",\"#34abfc\",\"#34aafc\",\"#35a9fc\",\"#35a8fc\",\"#35a6fc\",\"#35a5fc\",\"#35a4fc\",\"#35a3fc\",\"#35a1fc\",\"#35a0fc\",\"#359ffc\",\"#359dfc\",\"#359cfc\",\"#359bfc\",\"#349afd\",\"#3498fd\",\"#3497fd\",\"#3396fd\",\"#3395fd\",\"#3293fd\",\"#3292fd\",\"#3191fd\",\"#3090fd\",\"#308ffd\",\"#2f8dfd\",\"#2f8cfd\",\"#2e8bfd\",\"#2e8afd\",\"#2d88fd\",\"#2d87fd\",\"#2c86fd\",\"#2c84fd\",\"#2c83fd\",\"#2c82fd\",\"#2b81fd\",\"#2b7ffd\",\"#2b7efd\",\"#2b7dfd\",\"#2b7bfd\",\"#2b7afd\",\"#2b79fd\",\"#2b77fd\",\"#2b76fd\",\"#2b75fd\",\"#2b73fd\",\"#2c72fd\",\"#2c71fd\",\"#2c6ffd\",\"#2c6efd\",\"#2d6cfd\",\"#2d6bfd\",\"#2d6afc\",\"#2e68fc\",\"#2e67fc\",\"#2e65fc\",\"#2e64fc\",\"#2f62fc\",\"#2f61fc\",\"#2f5ffc\",\"#2f5efc\",\"#2f5dfc\",\"#2f5bfc\",\"#2f5afc\",\"#2f58fb\",\"#2f57fb\",\"#2f55fb\",\"#2f53fb\",\"#2f52fb\",\"#2f50fb\",\"#2f4ffb\",\"#2f4dfb\",\"#2e4cfb\",\"#2e4afb\",\"#2e48fb\",\"#2e47fa\",\"#2d45fa\",\"#2d43fa\",\"#2d42fa\",\"#2d40fa\",\"#2c3efa\",\"#2c3dfa\",\"#2b3bf9\",\"#2b39f9\",\"#2a37f9\",\"#2a36f8\",\"#2934f8\",\"#2832f7\",\"#2831f7\",\"#272ff6\",\"#262ef5\",\"#252cf5\",\"#252af4\",\"#2429f3\",\"#2327f2\",\"#2226f1\",\"#2124f0\",\"#2023ef\",\"#1f22ee\",\"#1e20ed\",\"#1d1feb\",\"#1c1eea\",\"#1b1ce9\",\"#1a1be7\",\"#181ae6\",\"#1719e5\",\"#1618e3\",\"#1417e1\",\"#1316e0\",\"#1215de\",\"#1014dc\",\"#0f13db\",\"#0e12d9\",\"#0d11d7\",\"#0c10d5\",\"#0b0fd3\",\"#0a0ed1\",\"#090dd0\",\"#080dce\",\"#080ccc\",\"#070bca\",\"#070ac8\",\"#0709c6\",\"#0708c4\",\"#0707c2\",\"#0707bf\",\"#0806bd\",\"#0806bb\",\"#0905b9\",\"#0904b7\",\"#0a04b5\",\"#0a04b2\",\"#0b03b0\",\"#0c03ae\",\"#0d02ab\",\"#0e02a9\",\"#0e02a7\",\"#0f02a4\",\"#0f01a2\",\"#1001a0\",\"#10019d\",\"#10019b\",\"#100199\",\"#100197\",\"#100194\",\"#0f0192\",\"#0f0190\",\"#0f018e\",\"#0e018b\",\"#0e0189\",\"#0d0187\",\"#0d0185\",\"#0c0183\",\"#0b0181\",\"#0b017e\",\"#0a017c\",\"#09017a\",\"#090178\",\"#080276\",\"#070274\",\"#060272\",\"#060270\",\"#05026e\",\"#04026c\",\"#030269\",\"#030267\",\"#020265\",\"#010263\",\"#010261\",\"#00025f\",\"#00025d\",\"#00025b\",\"#000259\",\"#000257\",\"#000255\",\"#000154\",\"#000152\",\"#000150\",\"#00004e\"]},\"id\":\"1080\",\"type\":\"LinearColorMapper\"},{\"attributes\":{},\"id\":\"1082\",\"type\":\"Selection\"},{\"attributes\":{\"end\":-3702572.7452877844,\"min_interval\":5,\"reset_end\":-3702572.7452877844,\"reset_start\":-3832502.461001539,\"start\":-3832502.461001539,\"tags\":[[[\"LATITUDE\",\"LATITUDE\",null]]]},\"id\":\"1011\",\"type\":\"Range1d\"},{\"attributes\":{},\"id\":\"1022\",\"type\":\"LinearScale\"},{\"attributes\":{\"code\":\"\\n        var projections = Bokeh.require(\\\"core/util/projections\\\");\\n        var x = special_vars.data_x\\n        var y = special_vars.data_y\\n        if (projections.wgs84_mercator.invert == null) {\\n          var coords = projections.wgs84_mercator.inverse([x, y])\\n        } else {\\n          var coords = projections.wgs84_mercator.invert(x, y)\\n        }\\n        return \\\"\\\" + (coords[1]).toFixed(4)\\n    \"},\"id\":\"1094\",\"type\":\"CustomJSHover\"},{\"attributes\":{\"axis\":{\"id\":\"1026\"},\"coordinates\":null,\"grid_line_color\":null,\"group\":null,\"ticker\":null},\"id\":\"1029\",\"type\":\"Grid\"},{\"attributes\":{\"dimension\":\"lon\"},\"id\":\"1050\",\"type\":\"MercatorTickFormatter\"},{\"attributes\":{\"children\":[{\"id\":\"1005\"},{\"id\":\"1017\"},{\"id\":\"1158\"}],\"margin\":[0,0,0,0],\"name\":\"Row03001\",\"tags\":[\"embedded\"]},\"id\":\"1004\",\"type\":\"Row\"}],\"root_ids\":[\"1004\"]},\"title\":\"Bokeh Application\",\"version\":\"2.4.2\"}};\n",
       "    var render_items = [{\"docid\":\"99250a05-9f60-4ddf-857b-66fe36cdde0d\",\"root_ids\":[\"1004\"],\"roots\":{\"1004\":\"a4e16960-e899-469e-8217-58cef62356d9\"}}];\n",
       "    root.Bokeh.embed.embed_items_notebook(docs_json, render_items);\n",
       "  }\n",
       "  if (root.Bokeh !== undefined && root.Bokeh.Panel !== undefined) {\n",
       "    embed_document(root);\n",
       "  } else {\n",
       "    var attempts = 0;\n",
       "    var timer = setInterval(function(root) {\n",
       "      if (root.Bokeh !== undefined && root.Bokeh.Panel !== undefined) {\n",
       "        clearInterval(timer);\n",
       "        embed_document(root);\n",
       "      } else if (document.readyState == \"complete\") {\n",
       "        attempts++;\n",
       "        if (attempts > 200) {\n",
       "          clearInterval(timer);\n",
       "          console.log(\"Bokeh: ERROR: Unable to run BokehJS code because BokehJS library is missing\");\n",
       "        }\n",
       "      }\n",
       "    }, 25, root)\n",
       "  }\n",
       "})(window);</script>"
      ],
      "text/plain": [
       ":Overlay\n",
       "   .Tiles.I  :Tiles   [x,y]\n",
       "   .Points.I :Points   [LONGITUDE,LATITUDE]   (MEDIAN HOUSE PRICE,SUBURB)"
      ]
     },
     "execution_count": 25,
     "metadata": {
      "application/vnd.holoviews_exec.v0+json": {
       "id": "1004"
      }
     },
     "output_type": "execute_result"
    }
   ],
   "source": [
    "#Full Geo map grouped by suburbs\n",
    "suburbs_df_price.hvplot.points('LONGITUDE',\n",
    "                                       'LATITUDE', \n",
    "                                       geo=True,\n",
    "                                       color='MEDIAN HOUSE PRICE',\n",
    "                                       size='MEDIAN HOUSE PRICE',\n",
    "                                       scale=0.013,\n",
    "                                       tiles='OSM',\n",
    "                                       frame_width=700,\n",
    "                                       frame_height=500,\n",
    "                                       hover = True,\n",
    "                                       hover_cols=['SUBURB','MEDIAN HOUSE PRICE']\n",
    "                                        )"
   ]
  },
  {
   "cell_type": "markdown",
   "id": "c1fd2c4f-84d5-451a-ad15-8bbc54cefa11",
   "metadata": {},
   "source": [
    "Client 1 has come to us andbdgnwgjoekgfpsfk,ps"
   ]
  },
  {
   "cell_type": "code",
   "execution_count": 41,
   "id": "0d44299c-8f46-4357-a4a7-862bb9402cf1",
   "metadata": {},
   "outputs": [
    {
     "name": "stdin",
     "output_type": "stream",
     "text": [
      "Please enter the number of Bedrooms :  5\n",
      "Please enter your budget :  900000\n",
      "Please enter your desired minimum land size :  800\n",
      "Please enter the maximum distance from CBD in metres:  6000\n"
     ]
    },
    {
     "data": {
      "text/html": [
       "<div>\n",
       "<style scoped>\n",
       "    .dataframe tbody tr th:only-of-type {\n",
       "        vertical-align: middle;\n",
       "    }\n",
       "\n",
       "    .dataframe tbody tr th {\n",
       "        vertical-align: top;\n",
       "    }\n",
       "\n",
       "    .dataframe thead th {\n",
       "        text-align: right;\n",
       "    }\n",
       "</style>\n",
       "<table border=\"1\" class=\"dataframe\">\n",
       "  <thead>\n",
       "    <tr style=\"text-align: right;\">\n",
       "      <th></th>\n",
       "      <th>ADDRESS</th>\n",
       "      <th>SUBURB</th>\n",
       "      <th>PRICE</th>\n",
       "      <th>BEDROOMS</th>\n",
       "      <th>BATHROOMS</th>\n",
       "      <th>GARAGE</th>\n",
       "      <th>LAND_AREA</th>\n",
       "      <th>FLOOR_AREA</th>\n",
       "      <th>CBD_DIST</th>\n",
       "      <th>NEAREST_STN</th>\n",
       "      <th>NEAREST_STN_DIST</th>\n",
       "      <th>LATITUDE</th>\n",
       "      <th>LONGITUDE</th>\n",
       "      <th>NEAREST_SCH</th>\n",
       "      <th>NEAREST_SCH_DIST</th>\n",
       "      <th>NEAREST_SCH_RANK</th>\n",
       "    </tr>\n",
       "  </thead>\n",
       "  <tbody>\n",
       "    <tr>\n",
       "      <th>15009</th>\n",
       "      <td>27 Ferrar Street</td>\n",
       "      <td>Menora</td>\n",
       "      <td>875000</td>\n",
       "      <td>5</td>\n",
       "      <td>2</td>\n",
       "      <td>1.0</td>\n",
       "      <td>835</td>\n",
       "      <td>200</td>\n",
       "      <td>3400</td>\n",
       "      <td>Mount Lawley Station</td>\n",
       "      <td>2200</td>\n",
       "      <td>-31.92216</td>\n",
       "      <td>115.86349</td>\n",
       "      <td>MOUNT LAWLEY SENIOR HIGH SCHOOL</td>\n",
       "      <td>0.600062</td>\n",
       "      <td>20.0</td>\n",
       "    </tr>\n",
       "    <tr>\n",
       "      <th>23095</th>\n",
       "      <td>46 Grosvenor Road</td>\n",
       "      <td>Bayswater</td>\n",
       "      <td>699000</td>\n",
       "      <td>5</td>\n",
       "      <td>1</td>\n",
       "      <td>2.0</td>\n",
       "      <td>859</td>\n",
       "      <td>157</td>\n",
       "      <td>5100</td>\n",
       "      <td>Meltham Station</td>\n",
       "      <td>543</td>\n",
       "      <td>-31.92658</td>\n",
       "      <td>115.90329</td>\n",
       "      <td>CHISHOLM CATHOLIC COLLEGE</td>\n",
       "      <td>1.695584</td>\n",
       "      <td>29.0</td>\n",
       "    </tr>\n",
       "    <tr>\n",
       "      <th>23590</th>\n",
       "      <td>49 Acton Avenue</td>\n",
       "      <td>Rivervale</td>\n",
       "      <td>750000</td>\n",
       "      <td>5</td>\n",
       "      <td>2</td>\n",
       "      <td>5.0</td>\n",
       "      <td>906</td>\n",
       "      <td>228</td>\n",
       "      <td>5400</td>\n",
       "      <td>Burswood Station</td>\n",
       "      <td>1600</td>\n",
       "      <td>-31.95611</td>\n",
       "      <td>115.91609</td>\n",
       "      <td>BELMONT CITY COLLEGE</td>\n",
       "      <td>1.758623</td>\n",
       "      <td>57.0</td>\n",
       "    </tr>\n",
       "    <tr>\n",
       "      <th>27574</th>\n",
       "      <td>60 Inverness Crescent</td>\n",
       "      <td>Menora</td>\n",
       "      <td>775000</td>\n",
       "      <td>5</td>\n",
       "      <td>3</td>\n",
       "      <td>4.0</td>\n",
       "      <td>822</td>\n",
       "      <td>55</td>\n",
       "      <td>3700</td>\n",
       "      <td>Perth Station</td>\n",
       "      <td>3600</td>\n",
       "      <td>-31.91858</td>\n",
       "      <td>115.85830</td>\n",
       "      <td>MOUNT LAWLEY SENIOR HIGH SCHOOL</td>\n",
       "      <td>1.120187</td>\n",
       "      <td>20.0</td>\n",
       "    </tr>\n",
       "  </tbody>\n",
       "</table>\n",
       "</div>"
      ],
      "text/plain": [
       "                     ADDRESS     SUBURB   PRICE  BEDROOMS  BATHROOMS  GARAGE  \\\n",
       "15009       27 Ferrar Street     Menora  875000         5          2     1.0   \n",
       "23095      46 Grosvenor Road  Bayswater  699000         5          1     2.0   \n",
       "23590        49 Acton Avenue  Rivervale  750000         5          2     5.0   \n",
       "27574  60 Inverness Crescent     Menora  775000         5          3     4.0   \n",
       "\n",
       "       LAND_AREA  FLOOR_AREA  CBD_DIST           NEAREST_STN  \\\n",
       "15009        835         200      3400  Mount Lawley Station   \n",
       "23095        859         157      5100       Meltham Station   \n",
       "23590        906         228      5400      Burswood Station   \n",
       "27574        822          55      3700         Perth Station   \n",
       "\n",
       "       NEAREST_STN_DIST  LATITUDE  LONGITUDE                      NEAREST_SCH  \\\n",
       "15009              2200 -31.92216  115.86349  MOUNT LAWLEY SENIOR HIGH SCHOOL   \n",
       "23095               543 -31.92658  115.90329        CHISHOLM CATHOLIC COLLEGE   \n",
       "23590              1600 -31.95611  115.91609             BELMONT CITY COLLEGE   \n",
       "27574              3600 -31.91858  115.85830  MOUNT LAWLEY SENIOR HIGH SCHOOL   \n",
       "\n",
       "       NEAREST_SCH_DIST  NEAREST_SCH_RANK  \n",
       "15009          0.600062              20.0  \n",
       "23095          1.695584              29.0  \n",
       "23590          1.758623              57.0  \n",
       "27574          1.120187              20.0  "
      ]
     },
     "execution_count": 41,
     "metadata": {},
     "output_type": "execute_result"
    }
   ],
   "source": [
    "#Input of house parameters\n",
    "df = all_perth_data.drop(columns=['BUILD_YEAR', 'POSTCODE', 'DATE_SOLD'])\n",
    "bedrums = int(input('Please enter the number of Bedrooms : '))\n",
    "plan_budget = int(input('Please enter your budget : '))\n",
    "landsize = int(input('Please enter your desired minimum land size : '))\n",
    "cbddist = int(input('Please enter the maximum distance from CBD in metres: '))\n",
    "client1 = df.loc[(all_perth_data['BEDROOMS'] >= bedrums)\n",
    "                               & (df['PRICE'] <= plan_budget)\n",
    "                               & (df['CBD_DIST'] <= cbddist)\n",
    "                               & (df['LAND_AREA'] >= landsize)]\n",
    "client1"
   ]
  },
  {
   "cell_type": "code",
   "execution_count": 42,
   "id": "14a33a00-955d-4f2b-853d-8b5cb279e338",
   "metadata": {},
   "outputs": [
    {
     "data": {},
     "metadata": {},
     "output_type": "display_data"
    },
    {
     "data": {
      "application/vnd.holoviews_exec.v0+json": "",
      "text/html": [
       "<div id='1927'>\n",
       "\n",
       "\n",
       "\n",
       "\n",
       "\n",
       "  <div class=\"bk-root\" id=\"7d717071-3af6-464a-a7e8-ec4b3aebe039\" data-root-id=\"1927\"></div>\n",
       "</div>\n",
       "<script type=\"application/javascript\">(function(root) {\n",
       "  function embed_document(root) {\n",
       "    var docs_json = {\"9649f0c6-e38c-4b7e-9c2d-0e24dcecbfb7\":{\"defs\":[{\"extends\":null,\"module\":null,\"name\":\"ReactiveHTML1\",\"overrides\":[],\"properties\":[]},{\"extends\":null,\"module\":null,\"name\":\"FlexBox1\",\"overrides\":[],\"properties\":[{\"default\":\"flex-start\",\"kind\":null,\"name\":\"align_content\"},{\"default\":\"flex-start\",\"kind\":null,\"name\":\"align_items\"},{\"default\":\"row\",\"kind\":null,\"name\":\"flex_direction\"},{\"default\":\"wrap\",\"kind\":null,\"name\":\"flex_wrap\"},{\"default\":\"flex-start\",\"kind\":null,\"name\":\"justify_content\"}]},{\"extends\":null,\"module\":null,\"name\":\"GridStack1\",\"overrides\":[],\"properties\":[{\"default\":\"warn\",\"kind\":null,\"name\":\"mode\"},{\"default\":null,\"kind\":null,\"name\":\"ncols\"},{\"default\":null,\"kind\":null,\"name\":\"nrows\"},{\"default\":true,\"kind\":null,\"name\":\"allow_resize\"},{\"default\":true,\"kind\":null,\"name\":\"allow_drag\"},{\"default\":[],\"kind\":null,\"name\":\"state\"}]},{\"extends\":null,\"module\":null,\"name\":\"click1\",\"overrides\":[],\"properties\":[{\"default\":\"\",\"kind\":null,\"name\":\"terminal_output\"},{\"default\":\"\",\"kind\":null,\"name\":\"debug_name\"},{\"default\":0,\"kind\":null,\"name\":\"clears\"}]},{\"extends\":null,\"module\":null,\"name\":\"TemplateActions1\",\"overrides\":[],\"properties\":[{\"default\":0,\"kind\":null,\"name\":\"open_modal\"},{\"default\":0,\"kind\":null,\"name\":\"close_modal\"}]},{\"extends\":null,\"module\":null,\"name\":\"MaterialTemplateActions1\",\"overrides\":[],\"properties\":[{\"default\":0,\"kind\":null,\"name\":\"open_modal\"},{\"default\":0,\"kind\":null,\"name\":\"close_modal\"}]}],\"roots\":{\"references\":[{\"attributes\":{\"fill_alpha\":{\"value\":0.1},\"fill_color\":{\"field\":\"color\",\"transform\":{\"id\":\"2003\"}},\"hatch_alpha\":{\"value\":0.1},\"hatch_color\":{\"field\":\"color\",\"transform\":{\"id\":\"2003\"}},\"line_alpha\":{\"value\":0.1},\"line_color\":{\"field\":\"color\",\"transform\":{\"id\":\"2003\"}},\"size\":{\"field\":\"size\"},\"x\":{\"field\":\"LONGITUDE\"},\"y\":{\"field\":\"LATITUDE\"}},\"id\":\"2008\",\"type\":\"Scatter\"},{\"attributes\":{\"coordinates\":null,\"group\":null,\"text_color\":\"black\",\"text_font_size\":\"12pt\"},\"id\":\"1941\",\"type\":\"Title\"},{\"attributes\":{\"tools\":[{\"id\":\"1937\"},{\"id\":\"1957\"},{\"id\":\"1958\"},{\"id\":\"1959\"},{\"id\":\"1960\"},{\"id\":\"1961\"}]},\"id\":\"1963\",\"type\":\"Toolbar\"},{\"attributes\":{\"axis_label\":\"y\",\"coordinates\":null,\"formatter\":{\"id\":\"1975\"},\"group\":null,\"major_label_policy\":{\"id\":\"1985\"},\"ticker\":{\"id\":\"1974\"}},\"id\":\"1953\",\"type\":\"LinearAxis\"},{\"attributes\":{\"fill_color\":{\"field\":\"color\",\"transform\":{\"id\":\"2003\"}},\"hatch_color\":{\"field\":\"color\",\"transform\":{\"id\":\"2003\"}},\"line_color\":{\"field\":\"color\",\"transform\":{\"id\":\"2003\"}},\"size\":{\"field\":\"size\"},\"x\":{\"field\":\"LONGITUDE\"},\"y\":{\"field\":\"LATITUDE\"}},\"id\":\"2007\",\"type\":\"Scatter\"},{\"attributes\":{},\"id\":\"2005\",\"type\":\"Selection\"},{\"attributes\":{\"bottom_units\":\"screen\",\"coordinates\":null,\"fill_alpha\":0.5,\"fill_color\":\"lightgrey\",\"group\":null,\"left_units\":\"screen\",\"level\":\"overlay\",\"line_alpha\":1.0,\"line_color\":\"black\",\"line_dash\":[4,4],\"line_width\":2,\"right_units\":\"screen\",\"syncable\":false,\"top_units\":\"screen\"},\"id\":\"1962\",\"type\":\"BoxAnnotation\"},{\"attributes\":{\"axis\":{\"id\":\"1949\"},\"coordinates\":null,\"grid_line_color\":null,\"group\":null,\"ticker\":null},\"id\":\"1952\",\"type\":\"Grid\"},{\"attributes\":{\"coordinates\":null,\"data_source\":{\"id\":\"2004\"},\"glyph\":{\"id\":\"2007\"},\"group\":null,\"hover_glyph\":{\"id\":\"2010\"},\"muted_glyph\":{\"id\":\"2011\"},\"nonselection_glyph\":{\"id\":\"2008\"},\"selection_glyph\":{\"id\":\"2009\"},\"view\":{\"id\":\"2013\"}},\"id\":\"2012\",\"type\":\"GlyphRenderer\"},{\"attributes\":{\"attribution\":\"&copy; <a href=\\\"https://www.openstreetmap.org/copyright\\\">OpenStreetMap</a> contributors\",\"url\":\"https://c.tile.openstreetmap.org/{Z}/{X}/{Y}.png\"},\"id\":\"1998\",\"type\":\"WMTSTileSource\"},{\"attributes\":{},\"id\":\"1985\",\"type\":\"AllLabels\"},{\"attributes\":{\"fill_alpha\":{\"value\":0.2},\"fill_color\":{\"field\":\"color\",\"transform\":{\"id\":\"2003\"}},\"hatch_alpha\":{\"value\":0.2},\"hatch_color\":{\"field\":\"color\",\"transform\":{\"id\":\"2003\"}},\"line_alpha\":{\"value\":0.2},\"line_color\":{\"field\":\"color\",\"transform\":{\"id\":\"2003\"}},\"size\":{\"field\":\"size\"},\"x\":{\"field\":\"LONGITUDE\"},\"y\":{\"field\":\"LATITUDE\"}},\"id\":\"2011\",\"type\":\"Scatter\"},{\"attributes\":{\"end\":12904638.665717864,\"min_interval\":5,\"reset_end\":12904638.665717864,\"reset_start\":12896368.408003738,\"start\":12896368.408003738,\"tags\":[[[\"LONGITUDE\",\"LONGITUDE\",null]]]},\"id\":\"1933\",\"type\":\"Range1d\"},{\"attributes\":{\"margin\":[5,5,5,5],\"name\":\"HSpacer05199\",\"sizing_mode\":\"stretch_width\"},\"id\":\"1928\",\"type\":\"Spacer\"},{\"attributes\":{\"coordinates\":null,\"group\":null,\"level\":\"glyph\",\"tile_source\":{\"id\":\"1998\"}},\"id\":\"2001\",\"type\":\"TileRenderer\"},{\"attributes\":{\"axis\":{\"id\":\"1953\"},\"coordinates\":null,\"dimension\":1,\"grid_line_color\":null,\"group\":null,\"ticker\":null},\"id\":\"1956\",\"type\":\"Grid\"},{\"attributes\":{\"fill_color\":{\"field\":\"color\",\"transform\":{\"id\":\"2003\"}},\"hatch_color\":{\"field\":\"color\",\"transform\":{\"id\":\"2003\"}},\"line_color\":{\"field\":\"color\",\"transform\":{\"id\":\"2003\"}},\"size\":{\"field\":\"size\"},\"x\":{\"field\":\"LONGITUDE\"},\"y\":{\"field\":\"LATITUDE\"}},\"id\":\"2009\",\"type\":\"Scatter\"},{\"attributes\":{\"dimension\":\"lon\"},\"id\":\"1972\",\"type\":\"MercatorTicker\"},{\"attributes\":{\"end\":-3752135.5795747945,\"min_interval\":5,\"reset_end\":-3752135.5795747945,\"reset_start\":-3758042.9065134553,\"start\":-3758042.9065134553,\"tags\":[[[\"LATITUDE\",\"LATITUDE\",null]]]},\"id\":\"1934\",\"type\":\"Range1d\"},{\"attributes\":{\"label\":{\"field\":\"color\"},\"renderers\":[{\"id\":\"2012\"}]},\"id\":\"2021\",\"type\":\"LegendItem\"},{\"attributes\":{\"children\":[{\"id\":\"1928\"},{\"id\":\"1940\"},{\"id\":\"2078\"}],\"margin\":[0,0,0,0],\"name\":\"Row05195\",\"tags\":[\"embedded\"]},\"id\":\"1927\",\"type\":\"Row\"},{\"attributes\":{\"click_policy\":\"mute\",\"coordinates\":null,\"group\":null,\"items\":[{\"id\":\"2021\"}],\"location\":[0,0]},\"id\":\"2020\",\"type\":\"Legend\"},{\"attributes\":{\"source\":{\"id\":\"2004\"}},\"id\":\"2013\",\"type\":\"CDSView\"},{\"attributes\":{\"dimension\":\"lat\"},\"id\":\"1975\",\"type\":\"MercatorTickFormatter\"},{\"attributes\":{\"margin\":[5,5,5,5],\"name\":\"HSpacer05200\",\"sizing_mode\":\"stretch_width\"},\"id\":\"2078\",\"type\":\"Spacer\"},{\"attributes\":{\"dimension\":\"lat\"},\"id\":\"1974\",\"type\":\"MercatorTicker\"},{\"attributes\":{\"factors\":[\"27 Ferrar Street\",\"46 Grosvenor Road\",\"49 Acton Avenue\",\"60 Inverness Crescent\"],\"palette\":[\"#1f77b3\",\"#ff7e0e\",\"#2ba02b\",\"#d62628\"]},\"id\":\"2003\",\"type\":\"CategoricalColorMapper\"},{\"attributes\":{\"code\":\"\\n        var projections = Bokeh.require(\\\"core/util/projections\\\");\\n        var x = special_vars.data_x\\n        var y = special_vars.data_y\\n        if (projections.wgs84_mercator.invert == null) {\\n          var coords = projections.wgs84_mercator.inverse([x, y])\\n        } else {\\n          var coords = projections.wgs84_mercator.invert(x, y)\\n        }\\n        return \\\"\\\" + (coords[0]).toFixed(4)\\n    \"},\"id\":\"2022\",\"type\":\"CustomJSHover\"},{\"attributes\":{\"callback\":null,\"formatters\":{\"$x\":{\"id\":\"2022\"},\"$y\":{\"id\":\"2023\"}},\"renderers\":[{\"id\":\"2012\"}],\"tags\":[\"hv_created\"],\"tooltips\":[[\"LONGITUDE\",\"$x{custom}\"],[\"LATITUDE\",\"$y{custom}\"],[\"ADDRESS\",\"@{ADDRESS}\"],[\"PRICE\",\"@{PRICE}\"],[\"SUBURB\",\"@{SUBURB}\"],[\"CBD_DIST\",\"@{CBD_DIST}\"],[\"BEDROOMS\",\"@{BEDROOMS}\"]]},\"id\":\"1937\",\"type\":\"HoverTool\"},{\"attributes\":{},\"id\":\"1947\",\"type\":\"LinearScale\"},{\"attributes\":{\"below\":[{\"id\":\"1949\"}],\"center\":[{\"id\":\"1952\"},{\"id\":\"1956\"}],\"frame_height\":500,\"frame_width\":700,\"height\":null,\"left\":[{\"id\":\"1953\"}],\"margin\":[5,5,5,5],\"match_aspect\":true,\"min_border_bottom\":10,\"min_border_left\":10,\"min_border_right\":10,\"min_border_top\":10,\"renderers\":[{\"id\":\"2001\"},{\"id\":\"2012\"}],\"right\":[{\"id\":\"2020\"}],\"sizing_mode\":\"fixed\",\"title\":{\"id\":\"1941\"},\"toolbar\":{\"id\":\"1963\"},\"width\":null,\"x_range\":{\"id\":\"1933\"},\"x_scale\":{\"id\":\"1945\"},\"y_range\":{\"id\":\"1934\"},\"y_scale\":{\"id\":\"1947\"}},\"id\":\"1940\",\"subtype\":\"Figure\",\"type\":\"Plot\"},{\"attributes\":{},\"id\":\"1957\",\"type\":\"SaveTool\"},{\"attributes\":{\"data\":{\"ADDRESS\":[\"27 Ferrar Street\",\"46 Grosvenor Road\",\"49 Acton Avenue\",\"60 Inverness Crescent\"],\"BEDROOMS\":[5,5,5,5],\"CBD_DIST\":[3400,5100,5400,3700],\"LATITUDE\":{\"__ndarray__\":\"kDTfn0SiTME694V7ZqNMwfofV2H3qkzBF8Xi3FmhTME=\",\"dtype\":\"float64\",\"order\":\"little\",\"shape\":[4]},\"LONGITUDE\":{\"__ndarray__\":\"6qaqFsmZaEGbiivn8ptoQeMtogOlnGhBgr+53oCZaEE=\",\"dtype\":\"float64\",\"order\":\"little\",\"shape\":[4]},\"PRICE\":[875000,699000,750000,775000],\"SUBURB\":[\"Menora\",\"Bayswater\",\"Rivervale\",\"Menora\"],\"color\":[\"27 Ferrar Street\",\"46 Grosvenor Road\",\"49 Acton Avenue\",\"60 Inverness Crescent\"],\"size\":{\"__ndarray__\":\"cXGZ3aZiR0B92mZOzOZEQOX7hAWQpkVAx1vzby4CRkA=\",\"dtype\":\"float64\",\"order\":\"little\",\"shape\":[4]}},\"selected\":{\"id\":\"2005\"},\"selection_policy\":{\"id\":\"2017\"}},\"id\":\"2004\",\"type\":\"ColumnDataSource\"},{\"attributes\":{},\"id\":\"1958\",\"type\":\"PanTool\"},{\"attributes\":{\"dimension\":\"lon\"},\"id\":\"1973\",\"type\":\"MercatorTickFormatter\"},{\"attributes\":{\"axis_label\":\"x\",\"coordinates\":null,\"formatter\":{\"id\":\"1973\"},\"group\":null,\"major_label_policy\":{\"id\":\"1978\"},\"ticker\":{\"id\":\"1972\"}},\"id\":\"1949\",\"type\":\"LinearAxis\"},{\"attributes\":{},\"id\":\"1961\",\"type\":\"ResetTool\"},{\"attributes\":{},\"id\":\"2017\",\"type\":\"UnionRenderers\"},{\"attributes\":{\"zoom_on_axis\":false},\"id\":\"1959\",\"type\":\"WheelZoomTool\"},{\"attributes\":{},\"id\":\"1978\",\"type\":\"AllLabels\"},{\"attributes\":{\"match_aspect\":true,\"overlay\":{\"id\":\"1962\"}},\"id\":\"1960\",\"type\":\"BoxZoomTool\"},{\"attributes\":{\"code\":\"\\n        var projections = Bokeh.require(\\\"core/util/projections\\\");\\n        var x = special_vars.data_x\\n        var y = special_vars.data_y\\n        if (projections.wgs84_mercator.invert == null) {\\n          var coords = projections.wgs84_mercator.inverse([x, y])\\n        } else {\\n          var coords = projections.wgs84_mercator.invert(x, y)\\n        }\\n        return \\\"\\\" + (coords[1]).toFixed(4)\\n    \"},\"id\":\"2023\",\"type\":\"CustomJSHover\"},{\"attributes\":{\"fill_color\":{\"field\":\"color\",\"transform\":{\"id\":\"2003\"}},\"hatch_color\":{\"field\":\"color\",\"transform\":{\"id\":\"2003\"}},\"line_color\":{\"field\":\"color\",\"transform\":{\"id\":\"2003\"}},\"size\":{\"field\":\"size\"},\"x\":{\"field\":\"LONGITUDE\"},\"y\":{\"field\":\"LATITUDE\"}},\"id\":\"2010\",\"type\":\"Scatter\"},{\"attributes\":{},\"id\":\"1945\",\"type\":\"LinearScale\"}],\"root_ids\":[\"1927\"]},\"title\":\"Bokeh Application\",\"version\":\"2.4.2\"}};\n",
       "    var render_items = [{\"docid\":\"9649f0c6-e38c-4b7e-9c2d-0e24dcecbfb7\",\"root_ids\":[\"1927\"],\"roots\":{\"1927\":\"7d717071-3af6-464a-a7e8-ec4b3aebe039\"}}];\n",
       "    root.Bokeh.embed.embed_items_notebook(docs_json, render_items);\n",
       "  }\n",
       "  if (root.Bokeh !== undefined && root.Bokeh.Panel !== undefined) {\n",
       "    embed_document(root);\n",
       "  } else {\n",
       "    var attempts = 0;\n",
       "    var timer = setInterval(function(root) {\n",
       "      if (root.Bokeh !== undefined && root.Bokeh.Panel !== undefined) {\n",
       "        clearInterval(timer);\n",
       "        embed_document(root);\n",
       "      } else if (document.readyState == \"complete\") {\n",
       "        attempts++;\n",
       "        if (attempts > 200) {\n",
       "          clearInterval(timer);\n",
       "          console.log(\"Bokeh: ERROR: Unable to run BokehJS code because BokehJS library is missing\");\n",
       "        }\n",
       "      }\n",
       "    }, 25, root)\n",
       "  }\n",
       "})(window);</script>"
      ],
      "text/plain": [
       ":Overlay\n",
       "   .Tiles.I  :Tiles   [x,y]\n",
       "   .Points.I :Points   [LONGITUDE,LATITUDE]   (ADDRESS,PRICE,SUBURB,CBD_DIST,BEDROOMS)"
      ]
     },
     "execution_count": 42,
     "metadata": {
      "application/vnd.holoviews_exec.v0+json": {
       "id": "1927"
      }
     },
     "output_type": "execute_result"
    }
   ],
   "source": [
    "#Another map to show the options\n",
    "client1.hvplot.points('LONGITUDE',\n",
    "                                       'LATITUDE', \n",
    "                                       geo=True,\n",
    "                                       color='ADDRESS',\n",
    "                                       tiles='OSM',\n",
    "                                       size= 'PRICE',\n",
    "                                       scale= 0.05,\n",
    "                                       frame_width=700,\n",
    "                                       frame_height=500,\n",
    "                                       hover = True,\n",
    "                                       hover_cols=['SUBURB','PRICE', 'CBD_DIST', 'BEDROOMS']\n",
    "                                        )"
   ]
  },
  {
   "cell_type": "code",
   "execution_count": 43,
   "id": "602942f5-1c49-4bfe-86f9-3bd6cfac1e2c",
   "metadata": {},
   "outputs": [
    {
     "ename": "ValueError",
     "evalue": "Can only compare identically-labeled Series objects",
     "output_type": "error",
     "traceback": [
      "\u001b[1;31m---------------------------------------------------------------------------\u001b[0m",
      "\u001b[1;31mValueError\u001b[0m                                Traceback (most recent call last)",
      "\u001b[1;32m~\\AppData\\Local\\Temp\\ipykernel_15352\\396963189.py\u001b[0m in \u001b[0;36m<module>\u001b[1;34m\u001b[0m\n\u001b[1;32m----> 1\u001b[1;33m \u001b[0msuburbs_df_price\u001b[0m\u001b[1;33m.\u001b[0m\u001b[0mloc\u001b[0m\u001b[1;33m[\u001b[0m\u001b[1;33m(\u001b[0m\u001b[0msuburbs_df_price\u001b[0m\u001b[1;33m[\u001b[0m\u001b[1;34m\"SUBURB\"\u001b[0m\u001b[1;33m]\u001b[0m \u001b[1;33m==\u001b[0m \u001b[0mclient1\u001b[0m\u001b[1;33m[\u001b[0m\u001b[1;34m'SUBURB'\u001b[0m\u001b[1;33m]\u001b[0m\u001b[1;33m)\u001b[0m\u001b[1;33m]\u001b[0m\u001b[1;33m\u001b[0m\u001b[1;33m\u001b[0m\u001b[0m\n\u001b[0m",
      "\u001b[1;32m~\\anaconda32\\envs\\dev\\envs\\alpacaenv\\lib\\site-packages\\pandas\\core\\ops\\common.py\u001b[0m in \u001b[0;36mnew_method\u001b[1;34m(self, other)\u001b[0m\n\u001b[0;32m     67\u001b[0m         \u001b[0mother\u001b[0m \u001b[1;33m=\u001b[0m \u001b[0mitem_from_zerodim\u001b[0m\u001b[1;33m(\u001b[0m\u001b[0mother\u001b[0m\u001b[1;33m)\u001b[0m\u001b[1;33m\u001b[0m\u001b[1;33m\u001b[0m\u001b[0m\n\u001b[0;32m     68\u001b[0m \u001b[1;33m\u001b[0m\u001b[0m\n\u001b[1;32m---> 69\u001b[1;33m         \u001b[1;32mreturn\u001b[0m \u001b[0mmethod\u001b[0m\u001b[1;33m(\u001b[0m\u001b[0mself\u001b[0m\u001b[1;33m,\u001b[0m \u001b[0mother\u001b[0m\u001b[1;33m)\u001b[0m\u001b[1;33m\u001b[0m\u001b[1;33m\u001b[0m\u001b[0m\n\u001b[0m\u001b[0;32m     70\u001b[0m \u001b[1;33m\u001b[0m\u001b[0m\n\u001b[0;32m     71\u001b[0m     \u001b[1;32mreturn\u001b[0m \u001b[0mnew_method\u001b[0m\u001b[1;33m\u001b[0m\u001b[1;33m\u001b[0m\u001b[0m\n",
      "\u001b[1;32m~\\anaconda32\\envs\\dev\\envs\\alpacaenv\\lib\\site-packages\\pandas\\core\\arraylike.py\u001b[0m in \u001b[0;36m__eq__\u001b[1;34m(self, other)\u001b[0m\n\u001b[0;32m     30\u001b[0m     \u001b[1;33m@\u001b[0m\u001b[0munpack_zerodim_and_defer\u001b[0m\u001b[1;33m(\u001b[0m\u001b[1;34m\"__eq__\"\u001b[0m\u001b[1;33m)\u001b[0m\u001b[1;33m\u001b[0m\u001b[1;33m\u001b[0m\u001b[0m\n\u001b[0;32m     31\u001b[0m     \u001b[1;32mdef\u001b[0m \u001b[0m__eq__\u001b[0m\u001b[1;33m(\u001b[0m\u001b[0mself\u001b[0m\u001b[1;33m,\u001b[0m \u001b[0mother\u001b[0m\u001b[1;33m)\u001b[0m\u001b[1;33m:\u001b[0m\u001b[1;33m\u001b[0m\u001b[1;33m\u001b[0m\u001b[0m\n\u001b[1;32m---> 32\u001b[1;33m         \u001b[1;32mreturn\u001b[0m \u001b[0mself\u001b[0m\u001b[1;33m.\u001b[0m\u001b[0m_cmp_method\u001b[0m\u001b[1;33m(\u001b[0m\u001b[0mother\u001b[0m\u001b[1;33m,\u001b[0m \u001b[0moperator\u001b[0m\u001b[1;33m.\u001b[0m\u001b[0meq\u001b[0m\u001b[1;33m)\u001b[0m\u001b[1;33m\u001b[0m\u001b[1;33m\u001b[0m\u001b[0m\n\u001b[0m\u001b[0;32m     33\u001b[0m \u001b[1;33m\u001b[0m\u001b[0m\n\u001b[0;32m     34\u001b[0m     \u001b[1;33m@\u001b[0m\u001b[0munpack_zerodim_and_defer\u001b[0m\u001b[1;33m(\u001b[0m\u001b[1;34m\"__ne__\"\u001b[0m\u001b[1;33m)\u001b[0m\u001b[1;33m\u001b[0m\u001b[1;33m\u001b[0m\u001b[0m\n",
      "\u001b[1;32m~\\anaconda32\\envs\\dev\\envs\\alpacaenv\\lib\\site-packages\\pandas\\core\\series.py\u001b[0m in \u001b[0;36m_cmp_method\u001b[1;34m(self, other, op)\u001b[0m\n\u001b[0;32m   5494\u001b[0m \u001b[1;33m\u001b[0m\u001b[0m\n\u001b[0;32m   5495\u001b[0m         \u001b[1;32mif\u001b[0m \u001b[0misinstance\u001b[0m\u001b[1;33m(\u001b[0m\u001b[0mother\u001b[0m\u001b[1;33m,\u001b[0m \u001b[0mSeries\u001b[0m\u001b[1;33m)\u001b[0m \u001b[1;32mand\u001b[0m \u001b[1;32mnot\u001b[0m \u001b[0mself\u001b[0m\u001b[1;33m.\u001b[0m\u001b[0m_indexed_same\u001b[0m\u001b[1;33m(\u001b[0m\u001b[0mother\u001b[0m\u001b[1;33m)\u001b[0m\u001b[1;33m:\u001b[0m\u001b[1;33m\u001b[0m\u001b[1;33m\u001b[0m\u001b[0m\n\u001b[1;32m-> 5496\u001b[1;33m             \u001b[1;32mraise\u001b[0m \u001b[0mValueError\u001b[0m\u001b[1;33m(\u001b[0m\u001b[1;34m\"Can only compare identically-labeled Series objects\"\u001b[0m\u001b[1;33m)\u001b[0m\u001b[1;33m\u001b[0m\u001b[1;33m\u001b[0m\u001b[0m\n\u001b[0m\u001b[0;32m   5497\u001b[0m \u001b[1;33m\u001b[0m\u001b[0m\n\u001b[0;32m   5498\u001b[0m         \u001b[0mlvalues\u001b[0m \u001b[1;33m=\u001b[0m \u001b[0mself\u001b[0m\u001b[1;33m.\u001b[0m\u001b[0m_values\u001b[0m\u001b[1;33m\u001b[0m\u001b[1;33m\u001b[0m\u001b[0m\n",
      "\u001b[1;31mValueError\u001b[0m: Can only compare identically-labeled Series objects"
     ]
    }
   ],
   "source": [
    "suburbs_df_price.loc[(suburbs_df_price[\"SUBURB\"] == client1['SUBURB'])]"
   ]
  },
  {
   "cell_type": "code",
   "execution_count": null,
   "id": "32298068-5fb6-40bc-a39b-7829e8b90f87",
   "metadata": {},
   "outputs": [],
   "source": [
    "#Calculators\n",
    "def mortgagecalculator (mortgage, years, interest):\n",
    "    interest = interest / 100\n",
    "    nper = years*12\n",
    "    interest_monthly = interest/12\n",
    "    numerator = interest_monthly*((1+interest_monthly)**nper)\n",
    "    denominator = (1+interest_monthly)**nper-1\n",
    "    payment = float(\"{0:.2f}\".format(mortgage*numerator/denominator))\n",
    "    return(payment)"
   ]
  },
  {
   "cell_type": "code",
   "execution_count": null,
   "id": "f42a7076-a889-4bb2-b19d-3f1ea31e24c3",
   "metadata": {},
   "outputs": [],
   "source": [
    "x=int(input('What is the mortgage amount? '))\n",
    "y=int(input('For how many years? '))\n",
    "z=int(input('What interest rate? '))\n",
    "mortgagecalculator(x,y,z)"
   ]
  },
  {
   "cell_type": "code",
   "execution_count": null,
   "id": "3f3e8daf-03e3-40a7-a52f-b6e13a6c1805",
   "metadata": {},
   "outputs": [],
   "source": [
    "def stampdutycalculator (purchase_price):\n",
    "    if purchase_price <= 120000:\n",
    "        stamp_duty = purchase_price*0.019\n",
    "    elif purchase_price > 120000 and purchase_price <= 150000:\n",
    "        stamp_duty = 2280 + (purchase_price - 120000) * 0.0285\n",
    "    elif purchase_price > 150000 and purchase_price <= 360000:\n",
    "        stamp_duty = 3135 + (purchase_price - 150000) * 0.038\n",
    "    elif purchase_price > 360000 and purchase_price <= 725000:\n",
    "        stamp_duty = 11175 + (purchase_price - 360000) * 0.0475\n",
    "    else:\n",
    "        stamp_duty = 28453 + (purchase_price - 725000) * 0.0515\n",
    "    \n",
    "    return stamp_duty"
   ]
  },
  {
   "cell_type": "code",
   "execution_count": null,
   "id": "4f268d5f-bed0-4a29-b706-1d30efe051b4",
   "metadata": {},
   "outputs": [],
   "source": [
    "q=int(input('What is the property value? '))\n",
    "stampdutycalculator(q)"
   ]
  },
  {
   "cell_type": "code",
   "execution_count": null,
   "id": "aa1f257e-d996-4ec5-a285-47ac78c3eac9",
   "metadata": {},
   "outputs": [],
   "source": [
    "#A new client story and parameters"
   ]
  },
  {
   "cell_type": "code",
   "execution_count": null,
   "id": "6c6a31c6-b1cf-4697-b21d-a9622d98d132",
   "metadata": {},
   "outputs": [],
   "source": [
    "#New geo plot that contains house options for client B"
   ]
  },
  {
   "cell_type": "code",
   "execution_count": null,
   "id": "1e7763ad-051a-4958-b89c-080127d8e13f",
   "metadata": {},
   "outputs": [],
   "source": [
    "#Calculators"
   ]
  },
  {
   "cell_type": "code",
   "execution_count": null,
   "id": "f9c99d13-5262-4517-9c0a-2e76b2276043",
   "metadata": {},
   "outputs": [],
   "source": [
    "#A couple of analysis questions including: If you had unlimited money, where would be the best value for money for an investment price per land area etc\n",
    "\n",
    "#What are the top 3 suburbs to invest in by future growth percentage\n",
    "\n",
    "#What are the top 3 suburbs to avoid by future growth percentage"
   ]
  },
  {
   "cell_type": "code",
   "execution_count": 34,
   "id": "19fb82f9-761f-46e7-b7c9-499a5af7a2f5",
   "metadata": {},
   "outputs": [],
   "source": [
    "suburbs_df_price = suburbs_df_price.sort_values(['GROWTH PERCENTAGE'], ascending=False)"
   ]
  },
  {
   "cell_type": "code",
   "execution_count": 35,
   "id": "f882c8d3-8eb8-4c92-bb47-0fd7e97d0357",
   "metadata": {},
   "outputs": [
    {
     "data": {
      "text/html": [
       "<div>\n",
       "<style scoped>\n",
       "    .dataframe tbody tr th:only-of-type {\n",
       "        vertical-align: middle;\n",
       "    }\n",
       "\n",
       "    .dataframe tbody tr th {\n",
       "        vertical-align: top;\n",
       "    }\n",
       "\n",
       "    .dataframe thead th {\n",
       "        text-align: right;\n",
       "    }\n",
       "</style>\n",
       "<table border=\"1\" class=\"dataframe\">\n",
       "  <thead>\n",
       "    <tr style=\"text-align: right;\">\n",
       "      <th></th>\n",
       "      <th>SUBURB</th>\n",
       "      <th>MEDIAN HOUSE PRICE</th>\n",
       "      <th>GROWTH PERCENTAGE</th>\n",
       "      <th>LATITUDE</th>\n",
       "      <th>LONGITUDE</th>\n",
       "    </tr>\n",
       "    <tr>\n",
       "      <th>SUBURB</th>\n",
       "      <th></th>\n",
       "      <th></th>\n",
       "      <th></th>\n",
       "      <th></th>\n",
       "      <th></th>\n",
       "    </tr>\n",
       "  </thead>\n",
       "  <tbody>\n",
       "    <tr>\n",
       "      <th>Gnangara</th>\n",
       "      <td>Gnangara</td>\n",
       "      <td>770000</td>\n",
       "      <td>94.6</td>\n",
       "      <td>-31.775330</td>\n",
       "      <td>115.848851</td>\n",
       "    </tr>\n",
       "    <tr>\n",
       "      <th>Hovea</th>\n",
       "      <td>Hovea</td>\n",
       "      <td>940000</td>\n",
       "      <td>82.5</td>\n",
       "      <td>-31.887604</td>\n",
       "      <td>116.113356</td>\n",
       "    </tr>\n",
       "    <tr>\n",
       "      <th>East Perth</th>\n",
       "      <td>East Perth</td>\n",
       "      <td>1950000</td>\n",
       "      <td>77.3</td>\n",
       "      <td>-31.952803</td>\n",
       "      <td>115.874626</td>\n",
       "    </tr>\n",
       "    <tr>\n",
       "      <th>Upper Swan</th>\n",
       "      <td>Upper Swan</td>\n",
       "      <td>790000</td>\n",
       "      <td>61.2</td>\n",
       "      <td>-31.769674</td>\n",
       "      <td>116.029006</td>\n",
       "    </tr>\n",
       "    <tr>\n",
       "      <th>Watermans Bay</th>\n",
       "      <td>Watermans Bay</td>\n",
       "      <td>1670000</td>\n",
       "      <td>51.8</td>\n",
       "      <td>-31.849449</td>\n",
       "      <td>115.755512</td>\n",
       "    </tr>\n",
       "  </tbody>\n",
       "</table>\n",
       "</div>"
      ],
      "text/plain": [
       "                      SUBURB  MEDIAN HOUSE PRICE  GROWTH PERCENTAGE  \\\n",
       "SUBURB                                                                \n",
       "Gnangara            Gnangara              770000               94.6   \n",
       "Hovea                  Hovea              940000               82.5   \n",
       "East Perth        East Perth             1950000               77.3   \n",
       "Upper Swan        Upper Swan              790000               61.2   \n",
       "Watermans Bay  Watermans Bay             1670000               51.8   \n",
       "\n",
       "                LATITUDE   LONGITUDE  \n",
       "SUBURB                                \n",
       "Gnangara      -31.775330  115.848851  \n",
       "Hovea         -31.887604  116.113356  \n",
       "East Perth    -31.952803  115.874626  \n",
       "Upper Swan    -31.769674  116.029006  \n",
       "Watermans Bay -31.849449  115.755512  "
      ]
     },
     "metadata": {},
     "output_type": "display_data"
    },
    {
     "data": {
      "text/html": [
       "<div>\n",
       "<style scoped>\n",
       "    .dataframe tbody tr th:only-of-type {\n",
       "        vertical-align: middle;\n",
       "    }\n",
       "\n",
       "    .dataframe tbody tr th {\n",
       "        vertical-align: top;\n",
       "    }\n",
       "\n",
       "    .dataframe thead th {\n",
       "        text-align: right;\n",
       "    }\n",
       "</style>\n",
       "<table border=\"1\" class=\"dataframe\">\n",
       "  <thead>\n",
       "    <tr style=\"text-align: right;\">\n",
       "      <th></th>\n",
       "      <th>SUBURB</th>\n",
       "      <th>MEDIAN HOUSE PRICE</th>\n",
       "      <th>GROWTH PERCENTAGE</th>\n",
       "      <th>LATITUDE</th>\n",
       "      <th>LONGITUDE</th>\n",
       "    </tr>\n",
       "    <tr>\n",
       "      <th>SUBURB</th>\n",
       "      <th></th>\n",
       "      <th></th>\n",
       "      <th></th>\n",
       "      <th></th>\n",
       "      <th></th>\n",
       "    </tr>\n",
       "  </thead>\n",
       "  <tbody>\n",
       "    <tr>\n",
       "      <th>Maylands</th>\n",
       "      <td>Maylands</td>\n",
       "      <td>655000</td>\n",
       "      <td>-5.1</td>\n",
       "      <td>-31.934201</td>\n",
       "      <td>115.900674</td>\n",
       "    </tr>\n",
       "    <tr>\n",
       "      <th>Sawyers Valley</th>\n",
       "      <td>Sawyers Valley</td>\n",
       "      <td>565000</td>\n",
       "      <td>-5.8</td>\n",
       "      <td>-31.893090</td>\n",
       "      <td>116.220120</td>\n",
       "    </tr>\n",
       "    <tr>\n",
       "      <th>Herne Hill</th>\n",
       "      <td>Herne Hill</td>\n",
       "      <td>370000</td>\n",
       "      <td>-11.9</td>\n",
       "      <td>-31.829031</td>\n",
       "      <td>116.027816</td>\n",
       "    </tr>\n",
       "    <tr>\n",
       "      <th>Darling Downs</th>\n",
       "      <td>Darling Downs</td>\n",
       "      <td>530000</td>\n",
       "      <td>-13.3</td>\n",
       "      <td>-32.199243</td>\n",
       "      <td>115.992782</td>\n",
       "    </tr>\n",
       "    <tr>\n",
       "      <th>Carmel</th>\n",
       "      <td>Carmel</td>\n",
       "      <td>555000</td>\n",
       "      <td>-14.6</td>\n",
       "      <td>-32.014680</td>\n",
       "      <td>116.072370</td>\n",
       "    </tr>\n",
       "  </tbody>\n",
       "</table>\n",
       "</div>"
      ],
      "text/plain": [
       "                        SUBURB  MEDIAN HOUSE PRICE  GROWTH PERCENTAGE  \\\n",
       "SUBURB                                                                  \n",
       "Maylands              Maylands              655000               -5.1   \n",
       "Sawyers Valley  Sawyers Valley              565000               -5.8   \n",
       "Herne Hill          Herne Hill              370000              -11.9   \n",
       "Darling Downs    Darling Downs              530000              -13.3   \n",
       "Carmel                  Carmel              555000              -14.6   \n",
       "\n",
       "                 LATITUDE   LONGITUDE  \n",
       "SUBURB                                 \n",
       "Maylands       -31.934201  115.900674  \n",
       "Sawyers Valley -31.893090  116.220120  \n",
       "Herne Hill     -31.829031  116.027816  \n",
       "Darling Downs  -32.199243  115.992782  \n",
       "Carmel         -32.014680  116.072370  "
      ]
     },
     "metadata": {},
     "output_type": "display_data"
    }
   ],
   "source": [
    "display(suburbs_df_price.head(5), suburbs_df_price.tail(5))"
   ]
  },
  {
   "cell_type": "code",
   "execution_count": null,
   "id": "cd32492b-d3d6-44bf-93e7-256522eecd7a",
   "metadata": {},
   "outputs": [],
   "source": []
  }
 ],
 "metadata": {
  "kernelspec": {
   "display_name": "Python 3 (ipykernel)",
   "language": "python",
   "name": "python3"
  },
  "language_info": {
   "codemirror_mode": {
    "name": "ipython",
    "version": 3
   },
   "file_extension": ".py",
   "mimetype": "text/x-python",
   "name": "python",
   "nbconvert_exporter": "python",
   "pygments_lexer": "ipython3",
   "version": "3.7.13"
  }
 },
 "nbformat": 4,
 "nbformat_minor": 5
}
