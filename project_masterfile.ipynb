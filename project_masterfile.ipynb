{
 "cells": [
  {
   "cell_type": "code",
   "execution_count": 1,
   "id": "281e2a57-e1c9-4d2c-b96d-8cbc377cb98e",
   "metadata": {},
   "outputs": [],
   "source": [
    "#Background situation"
   ]
  },
  {
   "cell_type": "code",
   "execution_count": 9,
   "id": "101aac2a-57d9-471b-9433-2ac1ddeee3f9",
   "metadata": {},
   "outputs": [],
   "source": [
    "#Import Libraries\n",
    "import pandas as pd\n",
    "from pathlib import Path\n",
    "import os\n",
    "import hvplot.pandas\n",
    "import numpy as np\n",
    "from datetime import date\n",
    "import seaborn as sns\n",
    "import json\n",
    "import kaggle"
   ]
  },
  {
   "cell_type": "code",
   "execution_count": 10,
   "id": "2592f49b-d32f-4d18-ba8f-74854ec11767",
   "metadata": {},
   "outputs": [
    {
     "data": {
      "text/plain": [
       "False"
      ]
     },
     "execution_count": 10,
     "metadata": {},
     "output_type": "execute_result"
    }
   ],
   "source": [
    "#Import file from API (MUST HAVE KAGGLE INSTALLED: (\"conda install kaggle\")\n",
    "from kaggle.api.kaggle_api_extended import KaggleApi\n",
    "api = KaggleApi()\n",
    "api.authenticate()\n",
    "\n",
    "\n",
    "api.dataset_download_file('syuzai/perth-house-prices','all_perth_310121.csv')"
   ]
  },
  {
   "cell_type": "code",
   "execution_count": 11,
   "id": "a2bc52bb-bf07-4453-836e-f6d26415d413",
   "metadata": {},
   "outputs": [],
   "source": [
    "#CSV file was unzipped from downloaded file\n",
    "\n",
    "#Read CSV file\n",
    "all_perth_data = pd.read_csv(\"all_perth_310121.csv\")"
   ]
  },
  {
   "cell_type": "code",
   "execution_count": 12,
   "id": "ac14749e-c1d9-4e89-85d0-9b0bb13c09ea",
   "metadata": {},
   "outputs": [
    {
     "data": {
      "text/plain": [
       "ADDRESS             0\n",
       "SUBURB              0\n",
       "PRICE               0\n",
       "BEDROOMS            0\n",
       "BATHROOMS           0\n",
       "GARAGE              0\n",
       "LAND_AREA           0\n",
       "FLOOR_AREA          0\n",
       "BUILD_YEAR          0\n",
       "CBD_DIST            0\n",
       "NEAREST_STN         0\n",
       "NEAREST_STN_DIST    0\n",
       "DATE_SOLD           0\n",
       "POSTCODE            0\n",
       "LATITUDE            0\n",
       "LONGITUDE           0\n",
       "NEAREST_SCH         0\n",
       "NEAREST_SCH_DIST    0\n",
       "NEAREST_SCH_RANK    0\n",
       "dtype: int64"
      ]
     },
     "execution_count": 12,
     "metadata": {},
     "output_type": "execute_result"
    }
   ],
   "source": [
    "#Drop NAs\n",
    "all_perth_data = all_perth_data.dropna()\n",
    "\n",
    "#Confirming all nulls have been removed\n",
    "all_perth_data.isnull().sum()"
   ]
  },
  {
   "cell_type": "code",
   "execution_count": 13,
   "id": "3d7a2451-a906-40f4-9af8-9052726a4ef8",
   "metadata": {},
   "outputs": [],
   "source": [
    "#Remove \\r from the Date_Sold column\n",
    "all_perth_data['DATE_SOLD'] = all_perth_data['DATE_SOLD'].str.strip('\\r')\n",
    "all_perth_data['DATE_SOLD'] = pd.to_datetime(all_perth_data['DATE_SOLD'])"
   ]
  },
  {
   "cell_type": "code",
   "execution_count": 14,
   "id": "37744961-ebc7-467f-8f59-0d6dc95f6244",
   "metadata": {},
   "outputs": [],
   "source": [
    "# Second option concatenation with another csv file\n",
    "project_path_2 = Path(\"./residential_property_price.csv\")"
   ]
  },
  {
   "cell_type": "code",
   "execution_count": 15,
   "id": "e4eca710-5e82-4e7b-ac67-cc04bdc44ae2",
   "metadata": {},
   "outputs": [
    {
     "data": {
      "text/html": [
       "<div>\n",
       "<style scoped>\n",
       "    .dataframe tbody tr th:only-of-type {\n",
       "        vertical-align: middle;\n",
       "    }\n",
       "\n",
       "    .dataframe tbody tr th {\n",
       "        vertical-align: top;\n",
       "    }\n",
       "\n",
       "    .dataframe thead th {\n",
       "        text-align: right;\n",
       "    }\n",
       "</style>\n",
       "<table border=\"1\" class=\"dataframe\">\n",
       "  <thead>\n",
       "    <tr style=\"text-align: right;\">\n",
       "      <th></th>\n",
       "      <th>SUBURB</th>\n",
       "      <th>MEDIAN HOUSE PRICE</th>\n",
       "      <th>GROWTH PERCENTAGE</th>\n",
       "    </tr>\n",
       "    <tr>\n",
       "      <th>SUBURB</th>\n",
       "      <th></th>\n",
       "      <th></th>\n",
       "      <th></th>\n",
       "    </tr>\n",
       "  </thead>\n",
       "  <tbody>\n",
       "    <tr>\n",
       "      <th>Alexander Heights</th>\n",
       "      <td>Alexander Heights</td>\n",
       "      <td>490000</td>\n",
       "      <td>8.90%</td>\n",
       "    </tr>\n",
       "    <tr>\n",
       "      <th>Alfred Cove</th>\n",
       "      <td>Alfred Cove</td>\n",
       "      <td>921000</td>\n",
       "      <td>17.00%</td>\n",
       "    </tr>\n",
       "    <tr>\n",
       "      <th>Alkimos</th>\n",
       "      <td>Alkimos</td>\n",
       "      <td>452500</td>\n",
       "      <td>10.40%</td>\n",
       "    </tr>\n",
       "    <tr>\n",
       "      <th>Applecross</th>\n",
       "      <td>Applecross</td>\n",
       "      <td>1735000</td>\n",
       "      <td>-0.60%</td>\n",
       "    </tr>\n",
       "    <tr>\n",
       "      <th>Ardross</th>\n",
       "      <td>Ardross</td>\n",
       "      <td>1165000</td>\n",
       "      <td>15.90%</td>\n",
       "    </tr>\n",
       "  </tbody>\n",
       "</table>\n",
       "</div>"
      ],
      "text/plain": [
       "                              SUBURB  MEDIAN HOUSE PRICE GROWTH PERCENTAGE\n",
       "SUBURB                                                                    \n",
       "Alexander Heights  Alexander Heights              490000             8.90%\n",
       "Alfred Cove              Alfred Cove              921000            17.00%\n",
       "Alkimos                      Alkimos              452500            10.40%\n",
       "Applecross                Applecross             1735000            -0.60%\n",
       "Ardross                      Ardross             1165000            15.90%"
      ]
     },
     "execution_count": 15,
     "metadata": {},
     "output_type": "execute_result"
    }
   ],
   "source": [
    "# Reading the residential_property_price data \n",
    "price_df = pd.read_csv(project_path_2)\n",
    "#Filtering data points where MEDIAN HOUSE PRICE is greater than zero. \n",
    "price_df = price_df[price_df['MEDIAN HOUSE PRICE'] > 0]\n",
    "#Setting the index of the data frame as SUBURB\n",
    "price_df = price_df.set_index(price_df[\"SUBURB\"])\n",
    "#Displaying the first few rows of the Data frame\n",
    "price_df.head()"
   ]
  },
  {
   "cell_type": "code",
   "execution_count": 16,
   "id": "209106b7-557c-48bb-a069-5f08fd0213af",
   "metadata": {},
   "outputs": [
    {
     "data": {
      "text/html": [
       "<div>\n",
       "<style scoped>\n",
       "    .dataframe tbody tr th:only-of-type {\n",
       "        vertical-align: middle;\n",
       "    }\n",
       "\n",
       "    .dataframe tbody tr th {\n",
       "        vertical-align: top;\n",
       "    }\n",
       "\n",
       "    .dataframe thead th {\n",
       "        text-align: right;\n",
       "    }\n",
       "</style>\n",
       "<table border=\"1\" class=\"dataframe\">\n",
       "  <thead>\n",
       "    <tr style=\"text-align: right;\">\n",
       "      <th></th>\n",
       "      <th>SUBURB</th>\n",
       "      <th>MEDIAN HOUSE PRICE</th>\n",
       "      <th>GROWTH PERCENTAGE</th>\n",
       "      <th>LATITUDE</th>\n",
       "      <th>LONGITUDE</th>\n",
       "    </tr>\n",
       "    <tr>\n",
       "      <th>SUBURB</th>\n",
       "      <th></th>\n",
       "      <th></th>\n",
       "      <th></th>\n",
       "      <th></th>\n",
       "      <th></th>\n",
       "    </tr>\n",
       "  </thead>\n",
       "  <tbody>\n",
       "    <tr>\n",
       "      <th>Alexander Heights</th>\n",
       "      <td>Alexander Heights</td>\n",
       "      <td>490000</td>\n",
       "      <td>8.90%</td>\n",
       "      <td>-31.830310</td>\n",
       "      <td>115.866293</td>\n",
       "    </tr>\n",
       "    <tr>\n",
       "      <th>Alfred Cove</th>\n",
       "      <td>Alfred Cove</td>\n",
       "      <td>921000</td>\n",
       "      <td>17.00%</td>\n",
       "      <td>-32.033908</td>\n",
       "      <td>115.816117</td>\n",
       "    </tr>\n",
       "    <tr>\n",
       "      <th>Alkimos</th>\n",
       "      <td>Alkimos</td>\n",
       "      <td>452500</td>\n",
       "      <td>10.40%</td>\n",
       "      <td>-31.618988</td>\n",
       "      <td>115.691004</td>\n",
       "    </tr>\n",
       "    <tr>\n",
       "      <th>Applecross</th>\n",
       "      <td>Applecross</td>\n",
       "      <td>1735000</td>\n",
       "      <td>-0.60%</td>\n",
       "      <td>-32.013569</td>\n",
       "      <td>115.838399</td>\n",
       "    </tr>\n",
       "    <tr>\n",
       "      <th>Ardross</th>\n",
       "      <td>Ardross</td>\n",
       "      <td>1165000</td>\n",
       "      <td>15.90%</td>\n",
       "      <td>-32.026691</td>\n",
       "      <td>115.838054</td>\n",
       "    </tr>\n",
       "  </tbody>\n",
       "</table>\n",
       "</div>"
      ],
      "text/plain": [
       "                              SUBURB  MEDIAN HOUSE PRICE GROWTH PERCENTAGE  \\\n",
       "SUBURB                                                                       \n",
       "Alexander Heights  Alexander Heights              490000             8.90%   \n",
       "Alfred Cove              Alfred Cove              921000            17.00%   \n",
       "Alkimos                      Alkimos              452500            10.40%   \n",
       "Applecross                Applecross             1735000            -0.60%   \n",
       "Ardross                      Ardross             1165000            15.90%   \n",
       "\n",
       "                    LATITUDE   LONGITUDE  \n",
       "SUBURB                                    \n",
       "Alexander Heights -31.830310  115.866293  \n",
       "Alfred Cove       -32.033908  115.816117  \n",
       "Alkimos           -31.618988  115.691004  \n",
       "Applecross        -32.013569  115.838399  \n",
       "Ardross           -32.026691  115.838054  "
      ]
     },
     "execution_count": 16,
     "metadata": {},
     "output_type": "execute_result"
    }
   ],
   "source": [
    "#Selecting specific columns from the data frame\n",
    "suburbs_df = all_perth_data[['SUBURB', 'LATITUDE', 'LONGITUDE']].groupby(['SUBURB']).mean()\n",
    "#Concatinating both the data frames.\n",
    "suburbs_df_price = pd.concat([price_df, suburbs_df], axis=\"columns\", join=\"inner\")\n",
    "#Displaying first few data points of data frame\n",
    "suburbs_df_price.head()"
   ]
  },
  {
   "cell_type": "code",
   "execution_count": 17,
   "id": "1206a6a2-9e0c-478e-abae-281978a61e61",
   "metadata": {},
   "outputs": [],
   "source": [
    "#Turning Growth Percentage to Float data type to sort correctly\n",
    "suburbs_df_price['GROWTH PERCENTAGE'] = suburbs_df_price['GROWTH PERCENTAGE'].str.strip('%')\n",
    "suburbs_df_price['GROWTH PERCENTAGE'] = suburbs_df_price['GROWTH PERCENTAGE'].astype(float)"
   ]
  },
  {
   "cell_type": "code",
   "execution_count": 18,
   "id": "16d82117-d8b8-4222-a138-137fc259756d",
   "metadata": {},
   "outputs": [
    {
     "data": {},
     "metadata": {},
     "output_type": "display_data"
    },
    {
     "data": {
      "application/vnd.holoviews_exec.v0+json": "",
      "text/html": [
       "<div id='1004'>\n",
       "\n",
       "\n",
       "\n",
       "\n",
       "\n",
       "  <div class=\"bk-root\" id=\"6e383570-391c-4183-97fb-db1a384fad81\" data-root-id=\"1004\"></div>\n",
       "</div>\n",
       "<script type=\"application/javascript\">(function(root) {\n",
       "  function embed_document(root) {\n",
       "    var docs_json = {\"34ab3f8c-def3-4e01-92b3-4308d034a964\":{\"defs\":[{\"extends\":null,\"module\":null,\"name\":\"ReactiveHTML1\",\"overrides\":[],\"properties\":[]},{\"extends\":null,\"module\":null,\"name\":\"FlexBox1\",\"overrides\":[],\"properties\":[{\"default\":\"flex-start\",\"kind\":null,\"name\":\"align_content\"},{\"default\":\"flex-start\",\"kind\":null,\"name\":\"align_items\"},{\"default\":\"row\",\"kind\":null,\"name\":\"flex_direction\"},{\"default\":\"wrap\",\"kind\":null,\"name\":\"flex_wrap\"},{\"default\":\"flex-start\",\"kind\":null,\"name\":\"justify_content\"}]},{\"extends\":null,\"module\":null,\"name\":\"GridStack1\",\"overrides\":[],\"properties\":[{\"default\":\"warn\",\"kind\":null,\"name\":\"mode\"},{\"default\":null,\"kind\":null,\"name\":\"ncols\"},{\"default\":null,\"kind\":null,\"name\":\"nrows\"},{\"default\":true,\"kind\":null,\"name\":\"allow_resize\"},{\"default\":true,\"kind\":null,\"name\":\"allow_drag\"},{\"default\":[],\"kind\":null,\"name\":\"state\"}]},{\"extends\":null,\"module\":null,\"name\":\"click1\",\"overrides\":[],\"properties\":[{\"default\":\"\",\"kind\":null,\"name\":\"terminal_output\"},{\"default\":\"\",\"kind\":null,\"name\":\"debug_name\"},{\"default\":0,\"kind\":null,\"name\":\"clears\"}]},{\"extends\":null,\"module\":null,\"name\":\"TemplateActions1\",\"overrides\":[],\"properties\":[{\"default\":0,\"kind\":null,\"name\":\"open_modal\"},{\"default\":0,\"kind\":null,\"name\":\"close_modal\"}]},{\"extends\":null,\"module\":null,\"name\":\"MaterialTemplateActions1\",\"overrides\":[],\"properties\":[{\"default\":0,\"kind\":null,\"name\":\"open_modal\"},{\"default\":0,\"kind\":null,\"name\":\"close_modal\"}]}],\"roots\":{\"references\":[{\"attributes\":{\"axis\":{\"id\":\"1026\"},\"coordinates\":null,\"grid_line_color\":null,\"group\":null,\"ticker\":null},\"id\":\"1029\",\"type\":\"Grid\"},{\"attributes\":{\"data\":{\"LATITUDE\":{\"__ndarray__\":\"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\",\"dtype\":\"float64\",\"order\":\"little\",\"shape\":[264]},\"LONGITUDE\":{\"__ndarray__\":\"/xTBGPCZaEH1lozmNZdoQWyB3fNokGhBieNj8muYaEHWFlolZ5hoQX75a2xmoWhBGhOo58ScaEFV8TsBSJZoQSr10pRzlmhB+nkVIt+ZaEEEo2KyxJloQagtpV1voGhBEnD3I62XaEGoAx57C5doQWnqfKkQmWhBqBE0dMKbaEGp3JANj5ZoQSC1goMApGhBbpwvd8mdaEGP4Bkp55hoQY6MzgBdnGhBtpr8tYKUaEE0bppkEp9oQb8gSYdLm2hBUfw6/l6UaEEaZdN5pZ1oQb3KMhO+nGhB2PQRHgGdaEH67ekloJhoQblisXG+pWhBpkqVKZWVaEEPxK9aL5hoQQG1Fe6Dn2hBjkjdKSOZaEE+q6axx5loQXA4JorQo2hBqClFg06SaEHQZli3p5toQZFSLTAlkWhBQNc3Ec6gaEHDzAz5pZZoQbPcgkE2oWhBMrO6dTadaEG4rojfvJ1oQX6i22dGoGhB5CQj5j2VaEHDzRSG7ZxoQdBF9KMjpWhBsMuKd7KVaEHLIN8Ntp9oQZPq/ZO3oGhBLq5gSMmvaEFSbLVK85VoQR+HP8FqlGhBm44p2nOVaEEfuF3Lx5FoQReP+uVCnmhBdtWJbAWZaEF7aGnb7ploQQArxICkk2hBhtD5W1SWaEFSXUTXPploQeFA6BkVlGhBKu1X+yuUaEGLEhVMcJRoQZ5e7sdPl2hB30WT5GKTaEGViqow4pZoQT1WiQdIlmhBo/BTatKYaEH84QQv0KBoQTONYgKZpWhBm532E6+faEGhXmBZmJpoQT6IAzxqlWhBrs+VEA2VaEFm93hf655oQYQXf1ePlGhBt9qMC2SaaEFM4bWP2ZtoQXOCG2DrnWhB0rkqnHiVaEHYS+MkrZ9oQba2R3hAnGhBPi4vyiqdaEGlICMjBpZoQd1ckuCznWhBaGSnEUGhaEFu7/GyRJRoQfpALjY+rGhB7BwI+lGZaEFy1Ivo36ZoQYd7mWH9mGhBIVT9oCqUaEFk82nhxKNoQa+Ruwu3oGhBQHHW2fCkaEGQspSTJJZoQawAAL/bn2hBvSr9ayGWaEH8zZqhc5doQfeoHAORlWhBIXk0S/iYaEFLrxy2Zp1oQXw6zpQgoGhB5A5zFcigaEGpow9nD5RoQQ8IQeP0n2hBhYCNq7eiaEFSDLU4fKFoQchu3GAummhBULEODFGTaEF+uWNYZpRoQb6RQ0OQlWhB4zoiTWqXaEEKhKjzXadoQZ0eAxNDn2hBNFBCmIeSaEFLhPa68ZpoQc9LRWc8lmhByXMOOy6baEF9yIBulaNoQTak26ZvkGhB+C7oIt+WaEHhmzFTdJRoQasNW/tcmGhBcK66QSukaEEnIzc+WpNoQf/SY76tmmhBexDfcVyXaEF6ysRJc5VoQVy11ww3lWhBaYmI6U+iaEFN+89hwppoQRsKeEmgnWhBBcBET6edaEGtKEioy5VoQXXAItssk2hB7PGqlraZaEFWjfAoKZdoQXvtfQNXmWhBDhJCgPidaEGxFyc+2ptoQU5AW5eYmGhB+j00bO2ZaEHlt7/VGKRoQeKsTvdonWhBIAYqvYqhaEEGP9Tt3JdoQVnwafpSqGhBnmwljU6iaEEYYhDDHJpoQVyccuBwmGhBToPyCa+YaEGU1UWe/pNoQTJL9Rg7omhBF5Mogs6baEHZiIBSpJZoQQFRynFplmhBf25NpaSZaEExdaTUk5FoQRfOYYpHomhBgvXkTuWhaEFXBGxRP5FoQbsPAa7jmWhB51iyB+ybaEEORmhFYpRoQaBTxNtklWhB9X2R+nuYaEHylguinqxoQWtBOMNpmmhB75tJqXeiaEHJw+IR9phoQV4AU5tTk2hBorwZyiWYaEENVY6tIZdoQT0XDDeQlmhBGxV9+CWYaEEss/IgiZtoQdX8Th0alGhBA9xCMvKTaEGUKWl67pNoQbE5ugK3mGhB9VmjkDyZaEH9HURB8JVoQSrPdFmTnmhBOD7MJ+2SaEGPSyXKUKJoQQOVmXWdl2hB+7z2QLuXaEFFCM+Th5RoQRT+x3CWlWhBBCa5LM6naEFn1tUOlpxoQVHud+Opl2hB2vDVHmGUaEHKAC2pzpxoQZnNtxOUk2hBi4hRBUKeaEEjsfp0vJBoQVUQu7xYnmhBR2iaNPCRaEEVkom2kZtoQfIrq/oCnWhBats6AjiTaEF+tqdYG6VoQcYTHC4MmmhBWeyWaLmSaEEbytjO/JloQXr3dyc0lmhBOCOukSutaEG32+KOjZRoQaWxSQUtlGhBkVzP9iGeaEGMGg5soKBoQYOmP92mmmhBDCxGEAeXaEHdXVY2npFoQWN5//KdlmhBWkCQtvOTaEHaa50t4pNoQQXd1dfdk2hBc5QLP1+gaEFxrCfTGJpoQUcDCKpvnmhBTT0y3GWcaEFAJpjnF5doQbXep+7UqmhBR9X6c0WjaEG2QXgWh5doQYCCV2cDmWhBVQR2EJ6UaEH6D5reJ5ZoQY0njFl3oWhBaz5mGJeeaEGLp0sPEpRoQf9/G1JGmGhBo9+BO8iiaEGpomUmiJtoQfXtubQroWhBLQKxp12TaEHH0U3+/aRoQc0ldZbEmWhB3dsZRduWaEHwoJnbxJNoQZBwGVs1lmhB7saIlOqTaEGKV/zwiqBoQQLRR1Vhl2hBAln11fCUaEHXAvsrI5hoQdSNCTblmGhBUsyda5KgaEFs9W7MfphoQaMxoS+ylGhByBes7oeWaEHzdPN84ZpoQeQKVcQVnWhBjNPVMsqXaEGNU8a92aBoQdHNnn3dlWhBHSDCtOCVaEHcojrwH7JoQQggdSMHmWhB\",\"dtype\":\"float64\",\"order\":\"little\",\"shape\":[264]},\"MEDIAN_HOUSE_PRICE\":[490000,921000,452500,1735000,1165000,290000,891000,505000,1545000,585000,560000,478000,540000,446000,360000,475000,440000,623250,590000,876000,676500,872500,446000,751750,560000,511000,565000,488750,605250,788500,1300000,1050000,484000,805000,850000,385000,1000000,1022000,410000,445000,328000,302500,640000,440000,682500,1017500,587500,555000,581000,520000,444000,515000,1595000,2400000,1800000,432000,485000,547500,1025000,822500,550000,1460000,361000,2850000,548750,1250000,648000,1565000,3240000,660000,530000,785000,453000,700000,855000,850000,460000,1475000,1950000,694750,465000,653000,439500,560000,489000,1775000,630000,480000,1075000,465000,387550,660000,770000,424500,840000,350000,490000,617000,810000,1092500,625000,575000,560000,551000,421000,618500,535000,550000,370000,483650,994000,1002500,335000,680000,550175,940000,442000,1005000,944000,642500,737500,575000,660000,1475000,590000,792000,715000,797000,830000,725000,425000,1070000,370000,1022500,502500,492500,711500,589000,375000,331000,645000,388888,787500,1060000,815000,700000,439500,360000,648000,654500,593750,870000,480000,930000,1375000,510000,655000,290000,895000,1300000,386388,340000,358500,835000,410000,540000,1780000,1740000,1250000,595000,1200000,490000,1400000,940000,761000,825500,2115000,420000,650000,1452500,1280000,1271000,687500,1152500,553000,827500,885000,670000,325000,558500,671000,772500,650000,525000,315000,3700000,600000,430000,450000,550000,485000,414000,740000,617500,440000,656000,1375000,460000,1630000,715000,565000,908000,490000,780000,370500,975000,1711500,530000,525000,520000,1300000,1310000,616000,1525000,610000,558000,960000,600000,352500,1627500,572500,2000000,575000,765000,451000,1500000,632500,790000,730000,415000,423000,541000,511000,460000,395000,680000,1670000,568500,1420000,1355000,1419000,835000,870000,399000,881620,657500,875000,591000,997500,630000,1250000,760000,392000,690000],\"SUBURB\":[\"Alexander Heights\",\"Alfred Cove\",\"Alkimos\",\"Applecross\",\"Ardross\",\"Armadale\",\"Ascot\",\"Ashby\",\"Attadale\",\"Atwell\",\"Aubin Grove\",\"Aveley\",\"Balcatta\",\"Baldivis\",\"Balga\",\"Ballajura\",\"Banksia Grove\",\"Baskerville\",\"Bassendean\",\"Bateman\",\"Bayswater\",\"Beaconsfield\",\"Beckenham\",\"Bedford\",\"Beldon\",\"Belmont\",\"Bennett Springs\",\"Bentley\",\"Bibra Lake\",\"Bickley\",\"Bicton\",\"Booragoon\",\"Brabham\",\"Brentwood\",\"Bull Creek\",\"Bullsbrook\",\"Burns Beach\",\"Burswood\",\"Butler\",\"Byford\",\"Calista\",\"Camillo\",\"Canning Vale\",\"Cannington\",\"Cardup\",\"Carine\",\"Carlisle\",\"Carmel\",\"Carramar\",\"Caversham\",\"Champion Lakes\",\"Chidlow\",\"Churchlands\",\"City Beach\",\"Claremont\",\"Clarkson\",\"Cloverdale\",\"Cockburn Central\",\"Como\",\"Connolly\",\"Coolbellup\",\"Coolbinia\",\"Cooloongup\",\"Cottesloe\",\"Craigie\",\"Crawley\",\"Currambine\",\"Daglish\",\"Dalkeith\",\"Darch\",\"Darling Downs\",\"Darlington\",\"Dayton\",\"Dianella\",\"Doubleview\",\"Duncraig\",\"East Cannington\",\"East Fremantle\",\"East Perth\",\"East Victoria Park\",\"Eden Hill\",\"Edgewater\",\"Ellenbrook\",\"Embleton\",\"Ferndale\",\"Floreat\",\"Forrestdale\",\"Forrestfield\",\"Fremantle\",\"Gidgegannup\",\"Girrawheen\",\"Glen Forrest\",\"Gnangara\",\"Golden Bay\",\"Gooseberry Hill\",\"Gosnells\",\"Greenmount\",\"Greenwood\",\"Guildford\",\"Gwelup\",\"Hamersley\",\"Hamilton Hill\",\"Hammond Park\",\"Harrisdale\",\"Haynes\",\"Hazelmere\",\"Heathridge\",\"Henley Brook\",\"Herne Hill\",\"High Wycombe\",\"Highgate\",\"Hillarys\",\"Hillman\",\"Hilton\",\"Hocking\",\"Hovea\",\"Huntingdale\",\"Iluka\",\"Inglewood\",\"Innaloo\",\"Jandakot\",\"Jane Brook\",\"Jindalee\",\"Jolimont\",\"Joondalup\",\"Joondanna\",\"Kalamunda\",\"Kallaroo\",\"Karawara\",\"Kardinya\",\"Karnup\",\"Karrinyup\",\"Kelmscott\",\"Kensington\",\"Kewdale\",\"Kiara\",\"Kingsley\",\"Kinross\",\"Koondoola\",\"Kwinana Town Centre\",\"Landsdale\",\"Langford\",\"Lathlain\",\"Leederville\",\"Leeming\",\"Lesmurdie\",\"Lynwood\",\"Maddington\",\"Madeley\",\"Mahogany Creek\",\"Maida Vale\",\"Manning\",\"Marangaroo\",\"Mariginiup\",\"Marmion\",\"Martin\",\"Maylands\",\"Medina\",\"Melville\",\"Menora\",\"Merriwa\",\"Middle Swan\",\"Midland\",\"Mindarie\",\"Mirrabooka\",\"Morley\",\"Mosman Park\",\"Mount Claremont\",\"Mount Hawthorn\",\"Mount Helena\",\"Mount Lawley\",\"Mount Nasura\",\"Mount Pleasant\",\"Mullaloo\",\"Murdoch\",\"Myaree\",\"Nedlands\",\"Nollamara\",\"Noranda\",\"North Beach\",\"North Coogee\",\"North Fremantle\",\"North Lake\",\"North Perth\",\"O'Connor\",\"Oakford\",\"Ocean Reef\",\"Orange Grove\",\"Orelia\",\"Osborne Park\",\"Padbury\",\"Palmyra\",\"Parkerville\",\"Parkwood\",\"Parmelia\",\"Peppermint Grove\",\"Piara Waters\",\"Port Kennedy\",\"Queens Park\",\"Quinns Rocks\",\"Redcliffe\",\"Ridgewood\",\"Riverton\",\"Rivervale\",\"Rockingham\",\"Roleystone\",\"Rossmoyne\",\"Safety Bay\",\"Salter Point\",\"Samson\",\"Sawyers Valley\",\"Scarborough\",\"Secret Harbour\",\"Serpentine\",\"Seville Grove\",\"Shelley\",\"Shenton Park\",\"Shoalwater\",\"Sinagra\",\"Singleton\",\"Sorrento\",\"South Fremantle\",\"South Guildford\",\"South Perth\",\"Southern River\",\"St James\",\"Stirling\",\"Stoneville\",\"Stratton\",\"Subiaco\",\"Success\",\"Swanbourne\",\"Tapping\",\"The Vines\",\"Thornlie\",\"Trigg\",\"Tuart Hill\",\"Upper Swan\",\"Victoria Park\",\"Viveash\",\"Waikiki\",\"Walliston\",\"Wandi\",\"Wanneroo\",\"Warnbro\",\"Warwick\",\"Watermans Bay\",\"Wattle Grove\",\"Wembley\",\"Wembley Downs\",\"West Leederville\",\"West Perth\",\"West Swan\",\"Westminster\",\"White Gum Valley\",\"Willagee\",\"Willetton\",\"Wilson\",\"Winthrop\",\"Woodbridge\",\"Woodlands\",\"Woodvale\",\"Wooroloo\",\"Yokine\"],\"color\":[490000,921000,452500,1735000,1165000,290000,891000,505000,1545000,585000,560000,478000,540000,446000,360000,475000,440000,623250,590000,876000,676500,872500,446000,751750,560000,511000,565000,488750,605250,788500,1300000,1050000,484000,805000,850000,385000,1000000,1022000,410000,445000,328000,302500,640000,440000,682500,1017500,587500,555000,581000,520000,444000,515000,1595000,2400000,1800000,432000,485000,547500,1025000,822500,550000,1460000,361000,2850000,548750,1250000,648000,1565000,3240000,660000,530000,785000,453000,700000,855000,850000,460000,1475000,1950000,694750,465000,653000,439500,560000,489000,1775000,630000,480000,1075000,465000,387550,660000,770000,424500,840000,350000,490000,617000,810000,1092500,625000,575000,560000,551000,421000,618500,535000,550000,370000,483650,994000,1002500,335000,680000,550175,940000,442000,1005000,944000,642500,737500,575000,660000,1475000,590000,792000,715000,797000,830000,725000,425000,1070000,370000,1022500,502500,492500,711500,589000,375000,331000,645000,388888,787500,1060000,815000,700000,439500,360000,648000,654500,593750,870000,480000,930000,1375000,510000,655000,290000,895000,1300000,386388,340000,358500,835000,410000,540000,1780000,1740000,1250000,595000,1200000,490000,1400000,940000,761000,825500,2115000,420000,650000,1452500,1280000,1271000,687500,1152500,553000,827500,885000,670000,325000,558500,671000,772500,650000,525000,315000,3700000,600000,430000,450000,550000,485000,414000,740000,617500,440000,656000,1375000,460000,1630000,715000,565000,908000,490000,780000,370500,975000,1711500,530000,525000,520000,1300000,1310000,616000,1525000,610000,558000,960000,600000,352500,1627500,572500,2000000,575000,765000,451000,1500000,632500,790000,730000,415000,423000,541000,511000,460000,395000,680000,1670000,568500,1420000,1355000,1419000,835000,870000,399000,881620,657500,875000,591000,997500,630000,1250000,760000,392000,690000],\"size\":{\"__ndarray__\":\"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\",\"dtype\":\"float64\",\"order\":\"little\",\"shape\":[264]}},\"selected\":{\"id\":\"1082\"},\"selection_policy\":{\"id\":\"1099\"}},\"id\":\"1081\",\"type\":\"ColumnDataSource\"},{\"attributes\":{\"end\":-3702572.7452877844,\"min_interval\":5,\"reset_end\":-3702572.7452877844,\"reset_start\":-3832502.461001539,\"start\":-3832502.461001539,\"tags\":[[[\"LATITUDE\",\"LATITUDE\",null]]]},\"id\":\"1011\",\"type\":\"Range1d\"},{\"attributes\":{\"bar_line_color\":\"black\",\"color_mapper\":{\"id\":\"1080\"},\"coordinates\":null,\"group\":null,\"label_standoff\":8,\"location\":[0,0],\"major_label_policy\":{\"id\":\"1097\"},\"major_tick_line_color\":\"black\",\"ticker\":{\"id\":\"1091\"}},\"id\":\"1092\",\"type\":\"ColorBar\"},{\"attributes\":{},\"id\":\"1024\",\"type\":\"LinearScale\"},{\"attributes\":{\"coordinates\":null,\"data_source\":{\"id\":\"1081\"},\"glyph\":{\"id\":\"1084\"},\"group\":null,\"hover_glyph\":{\"id\":\"1087\"},\"muted_glyph\":{\"id\":\"1088\"},\"nonselection_glyph\":{\"id\":\"1085\"},\"selection_glyph\":{\"id\":\"1086\"},\"view\":{\"id\":\"1090\"}},\"id\":\"1089\",\"type\":\"GlyphRenderer\"},{\"attributes\":{\"bottom_units\":\"screen\",\"coordinates\":null,\"fill_alpha\":0.5,\"fill_color\":\"lightgrey\",\"group\":null,\"left_units\":\"screen\",\"level\":\"overlay\",\"line_alpha\":1.0,\"line_color\":\"black\",\"line_dash\":[4,4],\"line_width\":2,\"right_units\":\"screen\",\"syncable\":false,\"top_units\":\"screen\"},\"id\":\"1039\",\"type\":\"BoxAnnotation\"},{\"attributes\":{\"dimension\":\"lon\"},\"id\":\"1049\",\"type\":\"MercatorTicker\"},{\"attributes\":{\"axis_label\":\"y\",\"coordinates\":null,\"formatter\":{\"id\":\"1052\"},\"group\":null,\"major_label_policy\":{\"id\":\"1062\"},\"ticker\":{\"id\":\"1051\"}},\"id\":\"1030\",\"type\":\"LinearAxis\"},{\"attributes\":{\"axis_label\":\"x\",\"coordinates\":null,\"formatter\":{\"id\":\"1050\"},\"group\":null,\"major_label_policy\":{\"id\":\"1055\"},\"ticker\":{\"id\":\"1049\"}},\"id\":\"1026\",\"type\":\"LinearAxis\"},{\"attributes\":{},\"id\":\"1062\",\"type\":\"AllLabels\"},{\"attributes\":{\"fill_alpha\":{\"value\":0.1},\"fill_color\":{\"field\":\"color\",\"transform\":{\"id\":\"1080\"}},\"hatch_alpha\":{\"value\":0.1},\"hatch_color\":{\"field\":\"color\",\"transform\":{\"id\":\"1080\"}},\"line_alpha\":{\"value\":0.1},\"line_color\":{\"field\":\"color\",\"transform\":{\"id\":\"1080\"}},\"size\":{\"field\":\"size\"},\"x\":{\"field\":\"LONGITUDE\"},\"y\":{\"field\":\"LATITUDE\"}},\"id\":\"1085\",\"type\":\"Scatter\"},{\"attributes\":{\"code\":\"\\n        var projections = Bokeh.require(\\\"core/util/projections\\\");\\n        var x = special_vars.data_x\\n        var y = special_vars.data_y\\n        if (projections.wgs84_mercator.invert == null) {\\n          var coords = projections.wgs84_mercator.inverse([x, y])\\n        } else {\\n          var coords = projections.wgs84_mercator.invert(x, y)\\n        }\\n        return \\\"\\\" + (coords[0]).toFixed(4)\\n    \"},\"id\":\"1093\",\"type\":\"CustomJSHover\"},{\"attributes\":{\"tools\":[{\"id\":\"1014\"},{\"id\":\"1034\"},{\"id\":\"1035\"},{\"id\":\"1036\"},{\"id\":\"1037\"},{\"id\":\"1038\"}]},\"id\":\"1040\",\"type\":\"Toolbar\"},{\"attributes\":{\"axis\":{\"id\":\"1030\"},\"coordinates\":null,\"dimension\":1,\"grid_line_color\":null,\"group\":null,\"ticker\":null},\"id\":\"1033\",\"type\":\"Grid\"},{\"attributes\":{\"coordinates\":null,\"group\":null,\"level\":\"glyph\",\"tile_source\":{\"id\":\"1075\"}},\"id\":\"1078\",\"type\":\"TileRenderer\"},{\"attributes\":{\"attribution\":\"&copy; <a href=\\\"https://www.openstreetmap.org/copyright\\\">OpenStreetMap</a> contributors\",\"url\":\"https://c.tile.openstreetmap.org/{Z}/{X}/{Y}.png\"},\"id\":\"1075\",\"type\":\"WMTSTileSource\"},{\"attributes\":{},\"id\":\"1082\",\"type\":\"Selection\"},{\"attributes\":{\"margin\":[5,5,5,5],\"name\":\"HSpacer02974\",\"sizing_mode\":\"stretch_width\"},\"id\":\"1005\",\"type\":\"Spacer\"},{\"attributes\":{\"callback\":null,\"formatters\":{\"$x\":{\"id\":\"1093\"},\"$y\":{\"id\":\"1094\"}},\"renderers\":[{\"id\":\"1089\"}],\"tags\":[\"hv_created\"],\"tooltips\":[[\"LONGITUDE\",\"$x{custom}\"],[\"LATITUDE\",\"$y{custom}\"],[\"MEDIAN HOUSE PRICE\",\"@{MEDIAN_HOUSE_PRICE}\"],[\"SUBURB\",\"@{SUBURB}\"]]},\"id\":\"1014\",\"type\":\"HoverTool\"},{\"attributes\":{\"dimension\":\"lon\"},\"id\":\"1050\",\"type\":\"MercatorTickFormatter\"},{\"attributes\":{\"fill_color\":{\"field\":\"color\",\"transform\":{\"id\":\"1080\"}},\"hatch_color\":{\"field\":\"color\",\"transform\":{\"id\":\"1080\"}},\"line_color\":{\"field\":\"color\",\"transform\":{\"id\":\"1080\"}},\"size\":{\"field\":\"size\"},\"x\":{\"field\":\"LONGITUDE\"},\"y\":{\"field\":\"LATITUDE\"}},\"id\":\"1087\",\"type\":\"Scatter\"},{\"attributes\":{},\"id\":\"1055\",\"type\":\"AllLabels\"},{\"attributes\":{\"dimension\":\"lat\"},\"id\":\"1052\",\"type\":\"MercatorTickFormatter\"},{\"attributes\":{\"fill_alpha\":{\"value\":0.2},\"fill_color\":{\"field\":\"color\",\"transform\":{\"id\":\"1080\"}},\"hatch_alpha\":{\"value\":0.2},\"hatch_color\":{\"field\":\"color\",\"transform\":{\"id\":\"1080\"}},\"line_alpha\":{\"value\":0.2},\"line_color\":{\"field\":\"color\",\"transform\":{\"id\":\"1080\"}},\"size\":{\"field\":\"size\"},\"x\":{\"field\":\"LONGITUDE\"},\"y\":{\"field\":\"LATITUDE\"}},\"id\":\"1088\",\"type\":\"Scatter\"},{\"attributes\":{\"coordinates\":null,\"group\":null,\"text_color\":\"black\",\"text_font_size\":\"12pt\"},\"id\":\"1018\",\"type\":\"Title\"},{\"attributes\":{\"children\":[{\"id\":\"1005\"},{\"id\":\"1017\"},{\"id\":\"1158\"}],\"margin\":[0,0,0,0],\"name\":\"Row02970\",\"tags\":[\"embedded\"]},\"id\":\"1004\",\"type\":\"Row\"},{\"attributes\":{},\"id\":\"1034\",\"type\":\"SaveTool\"},{\"attributes\":{\"end\":13004138.364973119,\"min_interval\":5,\"reset_end\":13004138.364973119,\"reset_start\":12822236.762973862,\"start\":12822236.762973862,\"tags\":[[[\"LONGITUDE\",\"LONGITUDE\",null]]]},\"id\":\"1010\",\"type\":\"Range1d\"},{\"attributes\":{\"fill_color\":{\"field\":\"color\",\"transform\":{\"id\":\"1080\"}},\"hatch_color\":{\"field\":\"color\",\"transform\":{\"id\":\"1080\"}},\"line_color\":{\"field\":\"color\",\"transform\":{\"id\":\"1080\"}},\"size\":{\"field\":\"size\"},\"x\":{\"field\":\"LONGITUDE\"},\"y\":{\"field\":\"LATITUDE\"}},\"id\":\"1086\",\"type\":\"Scatter\"},{\"attributes\":{},\"id\":\"1035\",\"type\":\"PanTool\"},{\"attributes\":{},\"id\":\"1091\",\"type\":\"BasicTicker\"},{\"attributes\":{\"zoom_on_axis\":false},\"id\":\"1036\",\"type\":\"WheelZoomTool\"},{\"attributes\":{\"dimension\":\"lat\"},\"id\":\"1051\",\"type\":\"MercatorTicker\"},{\"attributes\":{\"margin\":[5,5,5,5],\"name\":\"HSpacer02975\",\"sizing_mode\":\"stretch_width\"},\"id\":\"1158\",\"type\":\"Spacer\"},{\"attributes\":{\"match_aspect\":true,\"overlay\":{\"id\":\"1039\"}},\"id\":\"1037\",\"type\":\"BoxZoomTool\"},{\"attributes\":{\"high\":3700000,\"low\":290000,\"palette\":[\"#b3fef5\",\"#b0fef5\",\"#adfdf5\",\"#a9fcf5\",\"#a6fbf6\",\"#a3faf6\",\"#a0faf6\",\"#9df9f6\",\"#9af8f6\",\"#97f7f6\",\"#93f7f6\",\"#90f6f6\",\"#8df5f6\",\"#8af4f7\",\"#87f3f7\",\"#83f2f7\",\"#80f2f7\",\"#7df1f7\",\"#79f0f7\",\"#76eff7\",\"#73eef7\",\"#6fedf8\",\"#6cecf8\",\"#68ecf8\",\"#65ebf8\",\"#61eaf8\",\"#5ee9f8\",\"#5ae8f8\",\"#57e7f8\",\"#53e6f8\",\"#50e5f9\",\"#4ce4f9\",\"#49e3f9\",\"#45e2f9\",\"#42e1f9\",\"#3ee0f9\",\"#3bdff9\",\"#38def9\",\"#35ddf9\",\"#32dcf9\",\"#30dbfa\",\"#2ed9fa\",\"#2dd8fa\",\"#2cd7fa\",\"#2bd6fa\",\"#2bd5fa\",\"#2ad3fa\",\"#2ad2fa\",\"#29d1fa\",\"#29d0fb\",\"#29cffb\",\"#28cdfb\",\"#28ccfb\",\"#28cbfb\",\"#28cafb\",\"#28c8fb\",\"#28c7fb\",\"#29c6fb\",\"#29c5fb\",\"#29c4fb\",\"#29c2fb\",\"#2ac1fb\",\"#2ac0fb\",\"#2bbffb\",\"#2bbdfc\",\"#2cbcfc\",\"#2dbbfc\",\"#2db9fc\",\"#2eb8fc\",\"#2fb7fc\",\"#2fb6fc\",\"#30b4fc\",\"#31b3fc\",\"#32b2fc\",\"#32b0fc\",\"#33affc\",\"#33aefc\",\"#34adfc\",\"#34abfc\",\"#34aafc\",\"#35a9fc\",\"#35a8fc\",\"#35a6fc\",\"#35a5fc\",\"#35a4fc\",\"#35a3fc\",\"#35a1fc\",\"#35a0fc\",\"#359ffc\",\"#359dfc\",\"#359cfc\",\"#359bfc\",\"#349afd\",\"#3498fd\",\"#3497fd\",\"#3396fd\",\"#3395fd\",\"#3293fd\",\"#3292fd\",\"#3191fd\",\"#3090fd\",\"#308ffd\",\"#2f8dfd\",\"#2f8cfd\",\"#2e8bfd\",\"#2e8afd\",\"#2d88fd\",\"#2d87fd\",\"#2c86fd\",\"#2c84fd\",\"#2c83fd\",\"#2c82fd\",\"#2b81fd\",\"#2b7ffd\",\"#2b7efd\",\"#2b7dfd\",\"#2b7bfd\",\"#2b7afd\",\"#2b79fd\",\"#2b77fd\",\"#2b76fd\",\"#2b75fd\",\"#2b73fd\",\"#2c72fd\",\"#2c71fd\",\"#2c6ffd\",\"#2c6efd\",\"#2d6cfd\",\"#2d6bfd\",\"#2d6afc\",\"#2e68fc\",\"#2e67fc\",\"#2e65fc\",\"#2e64fc\",\"#2f62fc\",\"#2f61fc\",\"#2f5ffc\",\"#2f5efc\",\"#2f5dfc\",\"#2f5bfc\",\"#2f5afc\",\"#2f58fb\",\"#2f57fb\",\"#2f55fb\",\"#2f53fb\",\"#2f52fb\",\"#2f50fb\",\"#2f4ffb\",\"#2f4dfb\",\"#2e4cfb\",\"#2e4afb\",\"#2e48fb\",\"#2e47fa\",\"#2d45fa\",\"#2d43fa\",\"#2d42fa\",\"#2d40fa\",\"#2c3efa\",\"#2c3dfa\",\"#2b3bf9\",\"#2b39f9\",\"#2a37f9\",\"#2a36f8\",\"#2934f8\",\"#2832f7\",\"#2831f7\",\"#272ff6\",\"#262ef5\",\"#252cf5\",\"#252af4\",\"#2429f3\",\"#2327f2\",\"#2226f1\",\"#2124f0\",\"#2023ef\",\"#1f22ee\",\"#1e20ed\",\"#1d1feb\",\"#1c1eea\",\"#1b1ce9\",\"#1a1be7\",\"#181ae6\",\"#1719e5\",\"#1618e3\",\"#1417e1\",\"#1316e0\",\"#1215de\",\"#1014dc\",\"#0f13db\",\"#0e12d9\",\"#0d11d7\",\"#0c10d5\",\"#0b0fd3\",\"#0a0ed1\",\"#090dd0\",\"#080dce\",\"#080ccc\",\"#070bca\",\"#070ac8\",\"#0709c6\",\"#0708c4\",\"#0707c2\",\"#0707bf\",\"#0806bd\",\"#0806bb\",\"#0905b9\",\"#0904b7\",\"#0a04b5\",\"#0a04b2\",\"#0b03b0\",\"#0c03ae\",\"#0d02ab\",\"#0e02a9\",\"#0e02a7\",\"#0f02a4\",\"#0f01a2\",\"#1001a0\",\"#10019d\",\"#10019b\",\"#100199\",\"#100197\",\"#100194\",\"#0f0192\",\"#0f0190\",\"#0f018e\",\"#0e018b\",\"#0e0189\",\"#0d0187\",\"#0d0185\",\"#0c0183\",\"#0b0181\",\"#0b017e\",\"#0a017c\",\"#09017a\",\"#090178\",\"#080276\",\"#070274\",\"#060272\",\"#060270\",\"#05026e\",\"#04026c\",\"#030269\",\"#030267\",\"#020265\",\"#010263\",\"#010261\",\"#00025f\",\"#00025d\",\"#00025b\",\"#000259\",\"#000257\",\"#000255\",\"#000154\",\"#000152\",\"#000150\",\"#00004e\"]},\"id\":\"1080\",\"type\":\"LinearColorMapper\"},{\"attributes\":{},\"id\":\"1099\",\"type\":\"UnionRenderers\"},{\"attributes\":{\"below\":[{\"id\":\"1026\"}],\"center\":[{\"id\":\"1029\"},{\"id\":\"1033\"}],\"frame_height\":500,\"frame_width\":700,\"height\":null,\"left\":[{\"id\":\"1030\"}],\"margin\":[5,5,5,5],\"match_aspect\":true,\"min_border_bottom\":10,\"min_border_left\":10,\"min_border_right\":10,\"min_border_top\":10,\"renderers\":[{\"id\":\"1078\"},{\"id\":\"1089\"}],\"right\":[{\"id\":\"1092\"}],\"sizing_mode\":\"fixed\",\"title\":{\"id\":\"1018\"},\"toolbar\":{\"id\":\"1040\"},\"width\":null,\"x_range\":{\"id\":\"1010\"},\"x_scale\":{\"id\":\"1022\"},\"y_range\":{\"id\":\"1011\"},\"y_scale\":{\"id\":\"1024\"}},\"id\":\"1017\",\"subtype\":\"Figure\",\"type\":\"Plot\"},{\"attributes\":{},\"id\":\"1097\",\"type\":\"NoOverlap\"},{\"attributes\":{\"source\":{\"id\":\"1081\"}},\"id\":\"1090\",\"type\":\"CDSView\"},{\"attributes\":{\"fill_color\":{\"field\":\"color\",\"transform\":{\"id\":\"1080\"}},\"hatch_color\":{\"field\":\"color\",\"transform\":{\"id\":\"1080\"}},\"line_color\":{\"field\":\"color\",\"transform\":{\"id\":\"1080\"}},\"size\":{\"field\":\"size\"},\"x\":{\"field\":\"LONGITUDE\"},\"y\":{\"field\":\"LATITUDE\"}},\"id\":\"1084\",\"type\":\"Scatter\"},{\"attributes\":{},\"id\":\"1038\",\"type\":\"ResetTool\"},{\"attributes\":{},\"id\":\"1022\",\"type\":\"LinearScale\"},{\"attributes\":{\"code\":\"\\n        var projections = Bokeh.require(\\\"core/util/projections\\\");\\n        var x = special_vars.data_x\\n        var y = special_vars.data_y\\n        if (projections.wgs84_mercator.invert == null) {\\n          var coords = projections.wgs84_mercator.inverse([x, y])\\n        } else {\\n          var coords = projections.wgs84_mercator.invert(x, y)\\n        }\\n        return \\\"\\\" + (coords[1]).toFixed(4)\\n    \"},\"id\":\"1094\",\"type\":\"CustomJSHover\"}],\"root_ids\":[\"1004\"]},\"title\":\"Bokeh Application\",\"version\":\"2.4.2\"}};\n",
       "    var render_items = [{\"docid\":\"34ab3f8c-def3-4e01-92b3-4308d034a964\",\"root_ids\":[\"1004\"],\"roots\":{\"1004\":\"6e383570-391c-4183-97fb-db1a384fad81\"}}];\n",
       "    root.Bokeh.embed.embed_items_notebook(docs_json, render_items);\n",
       "  }\n",
       "  if (root.Bokeh !== undefined && root.Bokeh.Panel !== undefined) {\n",
       "    embed_document(root);\n",
       "  } else {\n",
       "    var attempts = 0;\n",
       "    var timer = setInterval(function(root) {\n",
       "      if (root.Bokeh !== undefined && root.Bokeh.Panel !== undefined) {\n",
       "        clearInterval(timer);\n",
       "        embed_document(root);\n",
       "      } else if (document.readyState == \"complete\") {\n",
       "        attempts++;\n",
       "        if (attempts > 200) {\n",
       "          clearInterval(timer);\n",
       "          console.log(\"Bokeh: ERROR: Unable to run BokehJS code because BokehJS library is missing\");\n",
       "        }\n",
       "      }\n",
       "    }, 25, root)\n",
       "  }\n",
       "})(window);</script>"
      ],
      "text/plain": [
       ":Overlay\n",
       "   .Tiles.I  :Tiles   [x,y]\n",
       "   .Points.I :Points   [LONGITUDE,LATITUDE]   (MEDIAN HOUSE PRICE,SUBURB)"
      ]
     },
     "execution_count": 18,
     "metadata": {
      "application/vnd.holoviews_exec.v0+json": {
       "id": "1004"
      }
     },
     "output_type": "execute_result"
    }
   ],
   "source": [
    "#Full Geo map grouped by suburbs\n",
    "suburbs_df_price.hvplot.points('LONGITUDE',\n",
    "                                       'LATITUDE', \n",
    "                                       geo=True,\n",
    "                                       color='MEDIAN HOUSE PRICE',\n",
    "                                       size='MEDIAN HOUSE PRICE',\n",
    "                                       scale=0.013,\n",
    "                                       tiles='OSM',\n",
    "                                       frame_width=700,\n",
    "                                       frame_height=500,\n",
    "                                       hover = True,\n",
    "                                       hover_cols=['SUBURB','MEDIAN HOUSE PRICE']\n",
    "                                        )"
   ]
  },
  {
   "cell_type": "markdown",
   "id": "c1fd2c4f-84d5-451a-ad15-8bbc54cefa11",
   "metadata": {},
   "source": [
    "#CLIENT 1\n",
    "\n",
    "Client 1 has come to us asking for a two bedroom house within their $300,000. They're not bothered about the land size, as long as it is within 2km of the CBD"
   ]
  },
  {
   "cell_type": "code",
   "execution_count": 31,
   "id": "0d44299c-8f46-4357-a4a7-862bb9402cf1",
   "metadata": {},
   "outputs": [
    {
     "name": "stdin",
     "output_type": "stream",
     "text": [
      "Please enter your budget :  300000\n",
      "Please enter the number of Bedrooms :  2\n",
      "Please enter your desired minimum land size :  1\n",
      "Please enter the maximum distance from CBD in metres:  2000\n"
     ]
    },
    {
     "data": {
      "text/html": [
       "<div>\n",
       "<style scoped>\n",
       "    .dataframe tbody tr th:only-of-type {\n",
       "        vertical-align: middle;\n",
       "    }\n",
       "\n",
       "    .dataframe tbody tr th {\n",
       "        vertical-align: top;\n",
       "    }\n",
       "\n",
       "    .dataframe thead th {\n",
       "        text-align: right;\n",
       "    }\n",
       "</style>\n",
       "<table border=\"1\" class=\"dataframe\">\n",
       "  <thead>\n",
       "    <tr style=\"text-align: right;\">\n",
       "      <th></th>\n",
       "      <th>ADDRESS</th>\n",
       "      <th>SUBURB</th>\n",
       "      <th>PRICE</th>\n",
       "      <th>BEDROOMS</th>\n",
       "      <th>BATHROOMS</th>\n",
       "      <th>GARAGE</th>\n",
       "      <th>LAND_AREA</th>\n",
       "      <th>FLOOR_AREA</th>\n",
       "      <th>CBD_DIST</th>\n",
       "      <th>NEAREST_STN</th>\n",
       "      <th>NEAREST_STN_DIST</th>\n",
       "      <th>LATITUDE</th>\n",
       "      <th>LONGITUDE</th>\n",
       "      <th>NEAREST_SCH</th>\n",
       "      <th>NEAREST_SCH_DIST</th>\n",
       "      <th>NEAREST_SCH_RANK</th>\n",
       "    </tr>\n",
       "  </thead>\n",
       "  <tbody>\n",
       "    <tr>\n",
       "      <th>20398</th>\n",
       "      <td>39/193 Hay Street</td>\n",
       "      <td>East Perth</td>\n",
       "      <td>258000</td>\n",
       "      <td>2</td>\n",
       "      <td>1</td>\n",
       "      <td>1.0</td>\n",
       "      <td>2425</td>\n",
       "      <td>80</td>\n",
       "      <td>1600</td>\n",
       "      <td>Claisebrook Station</td>\n",
       "      <td>1100</td>\n",
       "      <td>-31.959205</td>\n",
       "      <td>115.873203</td>\n",
       "      <td>MERCEDES COLLEGE</td>\n",
       "      <td>0.665447</td>\n",
       "      <td>15.0</td>\n",
       "    </tr>\n",
       "    <tr>\n",
       "      <th>23351</th>\n",
       "      <td>47 Smith Street</td>\n",
       "      <td>Highgate</td>\n",
       "      <td>284000</td>\n",
       "      <td>2</td>\n",
       "      <td>1</td>\n",
       "      <td>2.0</td>\n",
       "      <td>238</td>\n",
       "      <td>101</td>\n",
       "      <td>1700</td>\n",
       "      <td>East Perth Station</td>\n",
       "      <td>644</td>\n",
       "      <td>-31.941076</td>\n",
       "      <td>115.870885</td>\n",
       "      <td>PERTH COLLEGE</td>\n",
       "      <td>1.183227</td>\n",
       "      <td>9.0</td>\n",
       "    </tr>\n",
       "    <tr>\n",
       "      <th>28248</th>\n",
       "      <td>65/273 Hay Street</td>\n",
       "      <td>East Perth</td>\n",
       "      <td>290000</td>\n",
       "      <td>2</td>\n",
       "      <td>1</td>\n",
       "      <td>1.0</td>\n",
       "      <td>1882</td>\n",
       "      <td>80</td>\n",
       "      <td>1300</td>\n",
       "      <td>McIver Station</td>\n",
       "      <td>822</td>\n",
       "      <td>-31.958307</td>\n",
       "      <td>115.870264</td>\n",
       "      <td>MERCEDES COLLEGE</td>\n",
       "      <td>0.378614</td>\n",
       "      <td>15.0</td>\n",
       "    </tr>\n",
       "  </tbody>\n",
       "</table>\n",
       "</div>"
      ],
      "text/plain": [
       "                 ADDRESS      SUBURB   PRICE  BEDROOMS  BATHROOMS  GARAGE  \\\n",
       "20398  39/193 Hay Street  East Perth  258000         2          1     1.0   \n",
       "23351    47 Smith Street    Highgate  284000         2          1     2.0   \n",
       "28248  65/273 Hay Street  East Perth  290000         2          1     1.0   \n",
       "\n",
       "       LAND_AREA  FLOOR_AREA  CBD_DIST          NEAREST_STN  NEAREST_STN_DIST  \\\n",
       "20398       2425          80      1600  Claisebrook Station              1100   \n",
       "23351        238         101      1700   East Perth Station               644   \n",
       "28248       1882          80      1300       McIver Station               822   \n",
       "\n",
       "        LATITUDE   LONGITUDE       NEAREST_SCH  NEAREST_SCH_DIST  \\\n",
       "20398 -31.959205  115.873203  MERCEDES COLLEGE          0.665447   \n",
       "23351 -31.941076  115.870885     PERTH COLLEGE          1.183227   \n",
       "28248 -31.958307  115.870264  MERCEDES COLLEGE          0.378614   \n",
       "\n",
       "       NEAREST_SCH_RANK  \n",
       "20398              15.0  \n",
       "23351               9.0  \n",
       "28248              15.0  "
      ]
     },
     "execution_count": 31,
     "metadata": {},
     "output_type": "execute_result"
    }
   ],
   "source": [
    "#Input of client requirements\n",
    "#Creating a new data frame df by dropping Build_year, postcode, date sold\n",
    "df = all_perth_data.drop(columns=['BUILD_YEAR', 'POSTCODE', 'DATE_SOLD'])\n",
    "#Requesting the clients property requirements\n",
    "plan_budget = int(input('Please enter your budget : '))\n",
    "bedrooms = int(input('Please enter the number of Bedrooms : '))\n",
    "landsize = int(input('Please enter your desired minimum land size : '))\n",
    "cbddist = int(input('Please enter the maximum distance from CBD in metres: '))\n",
    "#Filtering out properties based on clients requirements\n",
    "client1 = df.loc[(all_perth_data['BEDROOMS'] >= bedrooms)\n",
    "                               & (df['PRICE'] <= plan_budget)\n",
    "                               & (df['CBD_DIST'] <= cbddist)\n",
    "                               & (df['LAND_AREA'] >= landsize)]\n",
    "#Displaying the properties which meet clients requirements\n",
    "client1"
   ]
  },
  {
   "cell_type": "code",
   "execution_count": 21,
   "id": "14a33a00-955d-4f2b-853d-8b5cb279e338",
   "metadata": {},
   "outputs": [
    {
     "data": {},
     "metadata": {},
     "output_type": "display_data"
    },
    {
     "data": {
      "application/vnd.holoviews_exec.v0+json": "",
      "text/html": [
       "<div id='1378'>\n",
       "\n",
       "\n",
       "\n",
       "\n",
       "\n",
       "  <div class=\"bk-root\" id=\"e8d09ec5-982e-4741-aef8-2edff4a9c6f0\" data-root-id=\"1378\"></div>\n",
       "</div>\n",
       "<script type=\"application/javascript\">(function(root) {\n",
       "  function embed_document(root) {\n",
       "    var docs_json = {\"c1e516df-fb25-4410-b016-badf1e6d2a32\":{\"defs\":[{\"extends\":null,\"module\":null,\"name\":\"ReactiveHTML1\",\"overrides\":[],\"properties\":[]},{\"extends\":null,\"module\":null,\"name\":\"FlexBox1\",\"overrides\":[],\"properties\":[{\"default\":\"flex-start\",\"kind\":null,\"name\":\"align_content\"},{\"default\":\"flex-start\",\"kind\":null,\"name\":\"align_items\"},{\"default\":\"row\",\"kind\":null,\"name\":\"flex_direction\"},{\"default\":\"wrap\",\"kind\":null,\"name\":\"flex_wrap\"},{\"default\":\"flex-start\",\"kind\":null,\"name\":\"justify_content\"}]},{\"extends\":null,\"module\":null,\"name\":\"GridStack1\",\"overrides\":[],\"properties\":[{\"default\":\"warn\",\"kind\":null,\"name\":\"mode\"},{\"default\":null,\"kind\":null,\"name\":\"ncols\"},{\"default\":null,\"kind\":null,\"name\":\"nrows\"},{\"default\":true,\"kind\":null,\"name\":\"allow_resize\"},{\"default\":true,\"kind\":null,\"name\":\"allow_drag\"},{\"default\":[],\"kind\":null,\"name\":\"state\"}]},{\"extends\":null,\"module\":null,\"name\":\"click1\",\"overrides\":[],\"properties\":[{\"default\":\"\",\"kind\":null,\"name\":\"terminal_output\"},{\"default\":\"\",\"kind\":null,\"name\":\"debug_name\"},{\"default\":0,\"kind\":null,\"name\":\"clears\"}]},{\"extends\":null,\"module\":null,\"name\":\"TemplateActions1\",\"overrides\":[],\"properties\":[{\"default\":0,\"kind\":null,\"name\":\"open_modal\"},{\"default\":0,\"kind\":null,\"name\":\"close_modal\"}]},{\"extends\":null,\"module\":null,\"name\":\"MaterialTemplateActions1\",\"overrides\":[],\"properties\":[{\"default\":0,\"kind\":null,\"name\":\"open_modal\"},{\"default\":0,\"kind\":null,\"name\":\"close_modal\"}]}],\"roots\":{\"references\":[{\"attributes\":{\"dimension\":\"lat\"},\"id\":\"1425\",\"type\":\"MercatorTicker\"},{\"attributes\":{\"margin\":[5,5,5,5],\"name\":\"HSpacer03780\",\"sizing_mode\":\"stretch_width\"},\"id\":\"1529\",\"type\":\"Spacer\"},{\"attributes\":{\"end\":12900780.070037972,\"min_interval\":5,\"reset_end\":12900780.070037972,\"reset_start\":12896784.737861522,\"start\":12896784.737861522,\"tags\":[[[\"LONGITUDE\",\"LONGITUDE\",null]]]},\"id\":\"1384\",\"type\":\"Range1d\"},{\"attributes\":{\"coordinates\":null,\"group\":null,\"text_color\":\"black\",\"text_font_size\":\"12pt\"},\"id\":\"1392\",\"type\":\"Title\"},{\"attributes\":{\"axis_label\":\"y\",\"coordinates\":null,\"formatter\":{\"id\":\"1426\"},\"group\":null,\"major_label_policy\":{\"id\":\"1436\"},\"ticker\":{\"id\":\"1425\"}},\"id\":\"1404\",\"type\":\"LinearAxis\"},{\"attributes\":{\"axis\":{\"id\":\"1404\"},\"coordinates\":null,\"dimension\":1,\"grid_line_color\":null,\"group\":null,\"ticker\":null},\"id\":\"1407\",\"type\":\"Grid\"},{\"attributes\":{\"coordinates\":null,\"data_source\":{\"id\":\"1455\"},\"glyph\":{\"id\":\"1458\"},\"group\":null,\"hover_glyph\":{\"id\":\"1461\"},\"muted_glyph\":{\"id\":\"1462\"},\"nonselection_glyph\":{\"id\":\"1459\"},\"selection_glyph\":{\"id\":\"1460\"},\"view\":{\"id\":\"1464\"}},\"id\":\"1463\",\"type\":\"GlyphRenderer\"},{\"attributes\":{\"end\":-3755340.668844161,\"min_interval\":5,\"reset_end\":-3755340.668844161,\"reset_start\":-3758194.477541625,\"start\":-3758194.477541625,\"tags\":[[[\"LATITUDE\",\"LATITUDE\",null]]]},\"id\":\"1385\",\"type\":\"Range1d\"},{\"attributes\":{\"attribution\":\"&copy; <a href=\\\"https://www.openstreetmap.org/copyright\\\">OpenStreetMap</a> contributors\",\"url\":\"https://c.tile.openstreetmap.org/{Z}/{X}/{Y}.png\"},\"id\":\"1449\",\"type\":\"WMTSTileSource\"},{\"attributes\":{\"label\":{\"field\":\"color\"},\"renderers\":[{\"id\":\"1463\"}]},\"id\":\"1472\",\"type\":\"LegendItem\"},{\"attributes\":{\"factors\":[\"39/193 Hay Street\",\"47 Smith Street\",\"65/273 Hay Street\"],\"palette\":[\"#1f77b3\",\"#ff7e0e\",\"#2ba02b\"]},\"id\":\"1454\",\"type\":\"CategoricalColorMapper\"},{\"attributes\":{\"dimension\":\"lat\"},\"id\":\"1426\",\"type\":\"MercatorTickFormatter\"},{\"attributes\":{\"tools\":[{\"id\":\"1388\"},{\"id\":\"1408\"},{\"id\":\"1409\"},{\"id\":\"1410\"},{\"id\":\"1411\"},{\"id\":\"1412\"}]},\"id\":\"1414\",\"type\":\"Toolbar\"},{\"attributes\":{\"callback\":null,\"formatters\":{\"$x\":{\"id\":\"1473\"},\"$y\":{\"id\":\"1474\"}},\"renderers\":[{\"id\":\"1463\"}],\"tags\":[\"hv_created\"],\"tooltips\":[[\"LONGITUDE\",\"$x{custom}\"],[\"LATITUDE\",\"$y{custom}\"],[\"ADDRESS\",\"@{ADDRESS}\"],[\"PRICE\",\"@{PRICE}\"],[\"SUBURB\",\"@{SUBURB}\"],[\"CBD_DIST\",\"@{CBD_DIST}\"],[\"BEDROOMS\",\"@{BEDROOMS}\"]]},\"id\":\"1388\",\"type\":\"HoverTool\"},{\"attributes\":{\"click_policy\":\"mute\",\"coordinates\":null,\"group\":null,\"items\":[{\"id\":\"1472\"}],\"location\":[0,0]},\"id\":\"1471\",\"type\":\"Legend\"},{\"attributes\":{\"dimension\":\"lon\"},\"id\":\"1424\",\"type\":\"MercatorTickFormatter\"},{\"attributes\":{\"bottom_units\":\"screen\",\"coordinates\":null,\"fill_alpha\":0.5,\"fill_color\":\"lightgrey\",\"group\":null,\"left_units\":\"screen\",\"level\":\"overlay\",\"line_alpha\":1.0,\"line_color\":\"black\",\"line_dash\":[4,4],\"line_width\":2,\"right_units\":\"screen\",\"syncable\":false,\"top_units\":\"screen\"},\"id\":\"1413\",\"type\":\"BoxAnnotation\"},{\"attributes\":{},\"id\":\"1408\",\"type\":\"SaveTool\"},{\"attributes\":{\"fill_color\":{\"field\":\"color\",\"transform\":{\"id\":\"1454\"}},\"hatch_color\":{\"field\":\"color\",\"transform\":{\"id\":\"1454\"}},\"line_color\":{\"field\":\"color\",\"transform\":{\"id\":\"1454\"}},\"size\":{\"field\":\"size\"},\"x\":{\"field\":\"LONGITUDE\"},\"y\":{\"field\":\"LATITUDE\"}},\"id\":\"1458\",\"type\":\"Scatter\"},{\"attributes\":{},\"id\":\"1409\",\"type\":\"PanTool\"},{\"attributes\":{\"coordinates\":null,\"group\":null,\"level\":\"glyph\",\"tile_source\":{\"id\":\"1449\"}},\"id\":\"1452\",\"type\":\"TileRenderer\"},{\"attributes\":{\"data\":{\"ADDRESS\":[\"39/193 Hay Street\",\"47 Smith Street\",\"65/273 Hay Street\"],\"BEDROOMS\":[2,2,2],\"CBD_DIST\":[1600,1700,1300],\"LATITUDE\":{\"__ndarray__\":\"uzJLZcKrTMFsa3ItHadMwcLtxYKHq0zB\",\"dtype\":\"float64\",\"order\":\"little\",\"shape\":[3]},\"LONGITUDE\":{\"__ndarray__\":\"CQZCP1CaaEEELGH+L5poQQFKmFonmmhB\",\"dtype\":\"float64\",\"order\":\"little\",\"shape\":[3]},\"PRICE\":[258000,284000,290000],\"SUBURB\":[\"East Perth\",\"Highgate\",\"East Perth\"],\"color\":[\"39/193 Hay Street\",\"47 Smith Street\",\"65/273 Hay Street\"],\"size\":{\"__ndarray__\":\"qYp/+ZdlOUB1d7HMVKU6QHAQ080C7TpA\",\"dtype\":\"float64\",\"order\":\"little\",\"shape\":[3]}},\"selected\":{\"id\":\"1456\"},\"selection_policy\":{\"id\":\"1468\"}},\"id\":\"1455\",\"type\":\"ColumnDataSource\"},{\"attributes\":{},\"id\":\"1412\",\"type\":\"ResetTool\"},{\"attributes\":{\"code\":\"\\n        var projections = Bokeh.require(\\\"core/util/projections\\\");\\n        var x = special_vars.data_x\\n        var y = special_vars.data_y\\n        if (projections.wgs84_mercator.invert == null) {\\n          var coords = projections.wgs84_mercator.inverse([x, y])\\n        } else {\\n          var coords = projections.wgs84_mercator.invert(x, y)\\n        }\\n        return \\\"\\\" + (coords[0]).toFixed(4)\\n    \"},\"id\":\"1473\",\"type\":\"CustomJSHover\"},{\"attributes\":{\"zoom_on_axis\":false},\"id\":\"1410\",\"type\":\"WheelZoomTool\"},{\"attributes\":{},\"id\":\"1468\",\"type\":\"UnionRenderers\"},{\"attributes\":{},\"id\":\"1396\",\"type\":\"LinearScale\"},{\"attributes\":{\"dimension\":\"lon\"},\"id\":\"1423\",\"type\":\"MercatorTicker\"},{\"attributes\":{},\"id\":\"1456\",\"type\":\"Selection\"},{\"attributes\":{\"margin\":[5,5,5,5],\"name\":\"HSpacer03779\",\"sizing_mode\":\"stretch_width\"},\"id\":\"1379\",\"type\":\"Spacer\"},{\"attributes\":{\"match_aspect\":true,\"overlay\":{\"id\":\"1413\"}},\"id\":\"1411\",\"type\":\"BoxZoomTool\"},{\"attributes\":{},\"id\":\"1429\",\"type\":\"AllLabels\"},{\"attributes\":{\"code\":\"\\n        var projections = Bokeh.require(\\\"core/util/projections\\\");\\n        var x = special_vars.data_x\\n        var y = special_vars.data_y\\n        if (projections.wgs84_mercator.invert == null) {\\n          var coords = projections.wgs84_mercator.inverse([x, y])\\n        } else {\\n          var coords = projections.wgs84_mercator.invert(x, y)\\n        }\\n        return \\\"\\\" + (coords[1]).toFixed(4)\\n    \"},\"id\":\"1474\",\"type\":\"CustomJSHover\"},{\"attributes\":{\"below\":[{\"id\":\"1400\"}],\"center\":[{\"id\":\"1403\"},{\"id\":\"1407\"}],\"frame_height\":500,\"frame_width\":700,\"height\":null,\"left\":[{\"id\":\"1404\"}],\"margin\":[5,5,5,5],\"match_aspect\":true,\"min_border_bottom\":10,\"min_border_left\":10,\"min_border_right\":10,\"min_border_top\":10,\"renderers\":[{\"id\":\"1452\"},{\"id\":\"1463\"}],\"right\":[{\"id\":\"1471\"}],\"sizing_mode\":\"fixed\",\"title\":{\"id\":\"1392\"},\"toolbar\":{\"id\":\"1414\"},\"width\":null,\"x_range\":{\"id\":\"1384\"},\"x_scale\":{\"id\":\"1396\"},\"y_range\":{\"id\":\"1385\"},\"y_scale\":{\"id\":\"1398\"}},\"id\":\"1391\",\"subtype\":\"Figure\",\"type\":\"Plot\"},{\"attributes\":{\"fill_color\":{\"field\":\"color\",\"transform\":{\"id\":\"1454\"}},\"hatch_color\":{\"field\":\"color\",\"transform\":{\"id\":\"1454\"}},\"line_color\":{\"field\":\"color\",\"transform\":{\"id\":\"1454\"}},\"size\":{\"field\":\"size\"},\"x\":{\"field\":\"LONGITUDE\"},\"y\":{\"field\":\"LATITUDE\"}},\"id\":\"1460\",\"type\":\"Scatter\"},{\"attributes\":{\"source\":{\"id\":\"1455\"}},\"id\":\"1464\",\"type\":\"CDSView\"},{\"attributes\":{\"fill_alpha\":{\"value\":0.1},\"fill_color\":{\"field\":\"color\",\"transform\":{\"id\":\"1454\"}},\"hatch_alpha\":{\"value\":0.1},\"hatch_color\":{\"field\":\"color\",\"transform\":{\"id\":\"1454\"}},\"line_alpha\":{\"value\":0.1},\"line_color\":{\"field\":\"color\",\"transform\":{\"id\":\"1454\"}},\"size\":{\"field\":\"size\"},\"x\":{\"field\":\"LONGITUDE\"},\"y\":{\"field\":\"LATITUDE\"}},\"id\":\"1459\",\"type\":\"Scatter\"},{\"attributes\":{\"axis\":{\"id\":\"1400\"},\"coordinates\":null,\"grid_line_color\":null,\"group\":null,\"ticker\":null},\"id\":\"1403\",\"type\":\"Grid\"},{\"attributes\":{\"fill_alpha\":{\"value\":0.2},\"fill_color\":{\"field\":\"color\",\"transform\":{\"id\":\"1454\"}},\"hatch_alpha\":{\"value\":0.2},\"hatch_color\":{\"field\":\"color\",\"transform\":{\"id\":\"1454\"}},\"line_alpha\":{\"value\":0.2},\"line_color\":{\"field\":\"color\",\"transform\":{\"id\":\"1454\"}},\"size\":{\"field\":\"size\"},\"x\":{\"field\":\"LONGITUDE\"},\"y\":{\"field\":\"LATITUDE\"}},\"id\":\"1462\",\"type\":\"Scatter\"},{\"attributes\":{\"children\":[{\"id\":\"1379\"},{\"id\":\"1391\"},{\"id\":\"1529\"}],\"margin\":[0,0,0,0],\"name\":\"Row03775\",\"tags\":[\"embedded\"]},\"id\":\"1378\",\"type\":\"Row\"},{\"attributes\":{},\"id\":\"1398\",\"type\":\"LinearScale\"},{\"attributes\":{\"fill_color\":{\"field\":\"color\",\"transform\":{\"id\":\"1454\"}},\"hatch_color\":{\"field\":\"color\",\"transform\":{\"id\":\"1454\"}},\"line_color\":{\"field\":\"color\",\"transform\":{\"id\":\"1454\"}},\"size\":{\"field\":\"size\"},\"x\":{\"field\":\"LONGITUDE\"},\"y\":{\"field\":\"LATITUDE\"}},\"id\":\"1461\",\"type\":\"Scatter\"},{\"attributes\":{\"axis_label\":\"x\",\"coordinates\":null,\"formatter\":{\"id\":\"1424\"},\"group\":null,\"major_label_policy\":{\"id\":\"1429\"},\"ticker\":{\"id\":\"1423\"}},\"id\":\"1400\",\"type\":\"LinearAxis\"},{\"attributes\":{},\"id\":\"1436\",\"type\":\"AllLabels\"}],\"root_ids\":[\"1378\"]},\"title\":\"Bokeh Application\",\"version\":\"2.4.2\"}};\n",
       "    var render_items = [{\"docid\":\"c1e516df-fb25-4410-b016-badf1e6d2a32\",\"root_ids\":[\"1378\"],\"roots\":{\"1378\":\"e8d09ec5-982e-4741-aef8-2edff4a9c6f0\"}}];\n",
       "    root.Bokeh.embed.embed_items_notebook(docs_json, render_items);\n",
       "  }\n",
       "  if (root.Bokeh !== undefined && root.Bokeh.Panel !== undefined) {\n",
       "    embed_document(root);\n",
       "  } else {\n",
       "    var attempts = 0;\n",
       "    var timer = setInterval(function(root) {\n",
       "      if (root.Bokeh !== undefined && root.Bokeh.Panel !== undefined) {\n",
       "        clearInterval(timer);\n",
       "        embed_document(root);\n",
       "      } else if (document.readyState == \"complete\") {\n",
       "        attempts++;\n",
       "        if (attempts > 200) {\n",
       "          clearInterval(timer);\n",
       "          console.log(\"Bokeh: ERROR: Unable to run BokehJS code because BokehJS library is missing\");\n",
       "        }\n",
       "      }\n",
       "    }, 25, root)\n",
       "  }\n",
       "})(window);</script>"
      ],
      "text/plain": [
       ":Overlay\n",
       "   .Tiles.I  :Tiles   [x,y]\n",
       "   .Points.I :Points   [LONGITUDE,LATITUDE]   (ADDRESS,PRICE,SUBURB,CBD_DIST,BEDROOMS)"
      ]
     },
     "execution_count": 21,
     "metadata": {
      "application/vnd.holoviews_exec.v0+json": {
       "id": "1378"
      }
     },
     "output_type": "execute_result"
    }
   ],
   "source": [
    "#Visualization displaying the properties which meet clients requirements\n",
    "client1.hvplot.points('LONGITUDE',\n",
    "                                       'LATITUDE', \n",
    "                                       geo=True,\n",
    "                                       color='ADDRESS',\n",
    "                                       tiles='OSM',\n",
    "                                       size= 'PRICE',\n",
    "                                       scale= 0.05,\n",
    "                                       frame_width=700,\n",
    "                                       frame_height=500,\n",
    "                                       hover = True,\n",
    "                                       hover_cols=['SUBURB','PRICE', 'CBD_DIST', 'BEDROOMS']\n",
    "                                        )"
   ]
  },
  {
   "cell_type": "code",
   "execution_count": 32,
   "id": "602942f5-1c49-4bfe-86f9-3bd6cfac1e2c",
   "metadata": {},
   "outputs": [
    {
     "data": {
      "text/html": [
       "<div>\n",
       "<style scoped>\n",
       "    .dataframe tbody tr th:only-of-type {\n",
       "        vertical-align: middle;\n",
       "    }\n",
       "\n",
       "    .dataframe tbody tr th {\n",
       "        vertical-align: top;\n",
       "    }\n",
       "\n",
       "    .dataframe thead th {\n",
       "        text-align: right;\n",
       "    }\n",
       "</style>\n",
       "<table border=\"1\" class=\"dataframe\">\n",
       "  <thead>\n",
       "    <tr style=\"text-align: right;\">\n",
       "      <th></th>\n",
       "      <th>SUBURB</th>\n",
       "      <th>MEDIAN HOUSE PRICE</th>\n",
       "      <th>GROWTH PERCENTAGE</th>\n",
       "    </tr>\n",
       "    <tr>\n",
       "      <th>SUBURB</th>\n",
       "      <th></th>\n",
       "      <th></th>\n",
       "      <th></th>\n",
       "    </tr>\n",
       "  </thead>\n",
       "  <tbody>\n",
       "    <tr>\n",
       "      <th>East Perth</th>\n",
       "      <td>East Perth</td>\n",
       "      <td>1950000</td>\n",
       "      <td>77.30%</td>\n",
       "    </tr>\n",
       "    <tr>\n",
       "      <th>Highgate</th>\n",
       "      <td>Highgate</td>\n",
       "      <td>994000</td>\n",
       "      <td>10.50%</td>\n",
       "    </tr>\n",
       "  </tbody>\n",
       "</table>\n",
       "</div>"
      ],
      "text/plain": [
       "                SUBURB  MEDIAN HOUSE PRICE GROWTH PERCENTAGE\n",
       "SUBURB                                                      \n",
       "East Perth  East Perth             1950000            77.30%\n",
       "Highgate      Highgate              994000            10.50%"
      ]
     },
     "metadata": {},
     "output_type": "display_data"
    }
   ],
   "source": [
    "#Creating an empty list\n",
    "temp_list = {}\n",
    "#Loading the suburb which the property is located in.\n",
    "temp_list = client1['SUBURB']\n",
    "#Printing the median price and the growth rate of the property.\n",
    "display(price_df[price_df['SUBURB'].isin(temp_list)])"
   ]
  },
  {
   "cell_type": "code",
   "execution_count": 23,
   "id": "32298068-5fb6-40bc-a39b-7829e8b90f87",
   "metadata": {},
   "outputs": [],
   "source": [
    "#Defining mortgage calculator \n",
    "def mortgagecalculator (mortgage, years, interest):\n",
    "#Converting decimal input to floating point value\n",
    "    interest = interest / 100\n",
    "#Calculating the number of periods per year   \n",
    "    nper = years*12\n",
    "#Calculating the monthly intrest payment\n",
    "    interest_monthly = interest/12\n",
    "    numerator = interest_monthly*((1+interest_monthly)**nper)\n",
    "    denominator = (1+interest_monthly)**nper-1\n",
    "#Returning the result to function call and formatting the displayes numerical.\n",
    "    payment = float(\"{0:.2f}\".format(mortgage*numerator/denominator))\n",
    "    return(payment)"
   ]
  },
  {
   "cell_type": "code",
   "execution_count": 34,
   "id": "f42a7076-a889-4bb2-b19d-3f1ea31e24c3",
   "metadata": {},
   "outputs": [
    {
     "name": "stdin",
     "output_type": "stream",
     "text": [
      "What is the mortgage amount?  280000\n",
      "For how many years?  30\n",
      "What interest rate?  4\n"
     ]
    },
    {
     "data": {
      "text/plain": [
       "1336.76"
      ]
     },
     "execution_count": 34,
     "metadata": {},
     "output_type": "execute_result"
    }
   ],
   "source": [
    "#Collecting clients mortgage details.\n",
    "#Requesting client the loan amount\n",
    "mortgate_amount=int(input('What is the mortgage amount? '))\n",
    "#Enquiring clint of the duration to repay the loan\n",
    "no_of_years=int(input('For how many years? '))\n",
    "#Collecting the intrest rate information from the bank\n",
    "intrest_rate=int(input('What interest rate? '))\n",
    "#Calling the function to provide the monthly repayment\n",
    "mortgagecalculator(mortgate_amount,no_of_years,intrest_rate)"
   ]
  },
  {
   "cell_type": "code",
   "execution_count": 25,
   "id": "3f3e8daf-03e3-40a7-a52f-b6e13a6c1805",
   "metadata": {},
   "outputs": [],
   "source": [
    "#Definition of stamp duty calculator\n",
    "#Calculating the stamp duty based on the value of the property.\n",
    "def stampdutycalculator (purchase_price):\n",
    "    if purchase_price <= 120000:\n",
    "        stamp_duty = purchase_price*0.019\n",
    "    elif purchase_price > 120000 and purchase_price <= 150000:\n",
    "        stamp_duty = 2280 + (purchase_price - 120000) * 0.0285\n",
    "    elif purchase_price > 150000 and purchase_price <= 360000:\n",
    "        stamp_duty = 3135 + (purchase_price - 150000) * 0.038\n",
    "    elif purchase_price > 360000 and purchase_price <= 725000:\n",
    "        stamp_duty = 11175 + (purchase_price - 360000) * 0.0475\n",
    "    else:\n",
    "        stamp_duty = 28453 + (purchase_price - 725000) * 0.0515\n",
    "#Returning the calculated stamp duty to the function call   \n",
    "    return stamp_duty"
   ]
  },
  {
   "cell_type": "code",
   "execution_count": 35,
   "id": "4f268d5f-bed0-4a29-b706-1d30efe051b4",
   "metadata": {},
   "outputs": [
    {
     "name": "stdin",
     "output_type": "stream",
     "text": [
      "What is the property value?  285000\n"
     ]
    },
    {
     "data": {
      "text/plain": [
       "8265.0"
      ]
     },
     "execution_count": 35,
     "metadata": {},
     "output_type": "execute_result"
    }
   ],
   "source": [
    "#Entering the property value dynamically.\n",
    "property_value=int(input('What is the property value? '))\n",
    "#Calling the function definition to calculate the property_value\n",
    "stampdutycalculator(property_value)"
   ]
  },
  {
   "cell_type": "code",
   "execution_count": 37,
   "id": "42fae0e7-7d20-492e-af9d-2df298d20ef7",
   "metadata": {},
   "outputs": [
    {
     "data": {
      "text/plain": [
       "65265.0"
      ]
     },
     "execution_count": 37,
     "metadata": {},
     "output_type": "execute_result"
    }
   ],
   "source": [
    "deposit = (property_value * 0.2) + 8265\n",
    "deposit"
   ]
  },
  {
   "cell_type": "markdown",
   "id": "ef1e7551-f59e-42dc-9199-95f2bc8a7f5b",
   "metadata": {},
   "source": [
    "Client 2 has requested a larger house and property that can be further away from the CBD if needed. They also have a larger budget to facilitate this request."
   ]
  },
  {
   "cell_type": "code",
   "execution_count": 38,
   "id": "4c6030d5-dc9f-411a-a031-06cd32b193e7",
   "metadata": {},
   "outputs": [
    {
     "name": "stdin",
     "output_type": "stream",
     "text": [
      "Please enter your budget :  900000\n",
      "Please enter the number of Bedrooms :  5\n",
      "Please enter your desired minimum land size :  800\n",
      "Please enter the maximum distance from CBD in metres:  7000\n"
     ]
    },
    {
     "data": {
      "text/html": [
       "<div>\n",
       "<style scoped>\n",
       "    .dataframe tbody tr th:only-of-type {\n",
       "        vertical-align: middle;\n",
       "    }\n",
       "\n",
       "    .dataframe tbody tr th {\n",
       "        vertical-align: top;\n",
       "    }\n",
       "\n",
       "    .dataframe thead th {\n",
       "        text-align: right;\n",
       "    }\n",
       "</style>\n",
       "<table border=\"1\" class=\"dataframe\">\n",
       "  <thead>\n",
       "    <tr style=\"text-align: right;\">\n",
       "      <th></th>\n",
       "      <th>ADDRESS</th>\n",
       "      <th>SUBURB</th>\n",
       "      <th>PRICE</th>\n",
       "      <th>BEDROOMS</th>\n",
       "      <th>BATHROOMS</th>\n",
       "      <th>GARAGE</th>\n",
       "      <th>LAND_AREA</th>\n",
       "      <th>FLOOR_AREA</th>\n",
       "      <th>CBD_DIST</th>\n",
       "      <th>NEAREST_STN</th>\n",
       "      <th>NEAREST_STN_DIST</th>\n",
       "      <th>LATITUDE</th>\n",
       "      <th>LONGITUDE</th>\n",
       "      <th>NEAREST_SCH</th>\n",
       "      <th>NEAREST_SCH_DIST</th>\n",
       "      <th>NEAREST_SCH_RANK</th>\n",
       "    </tr>\n",
       "  </thead>\n",
       "  <tbody>\n",
       "    <tr>\n",
       "      <th>10254</th>\n",
       "      <td>2 Crawshaw Crescent</td>\n",
       "      <td>Manning</td>\n",
       "      <td>850000</td>\n",
       "      <td>5</td>\n",
       "      <td>2</td>\n",
       "      <td>2.0</td>\n",
       "      <td>856</td>\n",
       "      <td>105</td>\n",
       "      <td>6100</td>\n",
       "      <td>Canning Bridge Station</td>\n",
       "      <td>884</td>\n",
       "      <td>-32.006520</td>\n",
       "      <td>115.86473</td>\n",
       "      <td>COMO SECONDARY COLLEGE</td>\n",
       "      <td>0.684223</td>\n",
       "      <td>87.0</td>\n",
       "    </tr>\n",
       "    <tr>\n",
       "      <th>11060</th>\n",
       "      <td>20 Downey Drive</td>\n",
       "      <td>Manning</td>\n",
       "      <td>769000</td>\n",
       "      <td>5</td>\n",
       "      <td>2</td>\n",
       "      <td>3.0</td>\n",
       "      <td>800</td>\n",
       "      <td>158</td>\n",
       "      <td>6700</td>\n",
       "      <td>Canning Bridge Station</td>\n",
       "      <td>1000</td>\n",
       "      <td>-32.012480</td>\n",
       "      <td>115.86644</td>\n",
       "      <td>COMO SECONDARY COLLEGE</td>\n",
       "      <td>1.076696</td>\n",
       "      <td>87.0</td>\n",
       "    </tr>\n",
       "    <tr>\n",
       "      <th>12981</th>\n",
       "      <td>23 Goss Avenue</td>\n",
       "      <td>Manning</td>\n",
       "      <td>825000</td>\n",
       "      <td>5</td>\n",
       "      <td>2</td>\n",
       "      <td>2.0</td>\n",
       "      <td>870</td>\n",
       "      <td>184</td>\n",
       "      <td>6400</td>\n",
       "      <td>Canning Bridge Station</td>\n",
       "      <td>1600</td>\n",
       "      <td>-32.008656</td>\n",
       "      <td>115.87305</td>\n",
       "      <td>COMO SECONDARY COLLEGE</td>\n",
       "      <td>0.583289</td>\n",
       "      <td>87.0</td>\n",
       "    </tr>\n",
       "    <tr>\n",
       "      <th>15009</th>\n",
       "      <td>27 Ferrar Street</td>\n",
       "      <td>Menora</td>\n",
       "      <td>875000</td>\n",
       "      <td>5</td>\n",
       "      <td>2</td>\n",
       "      <td>1.0</td>\n",
       "      <td>835</td>\n",
       "      <td>200</td>\n",
       "      <td>3400</td>\n",
       "      <td>Mount Lawley Station</td>\n",
       "      <td>2200</td>\n",
       "      <td>-31.922160</td>\n",
       "      <td>115.86349</td>\n",
       "      <td>MOUNT LAWLEY SENIOR HIGH SCHOOL</td>\n",
       "      <td>0.600062</td>\n",
       "      <td>20.0</td>\n",
       "    </tr>\n",
       "    <tr>\n",
       "      <th>23095</th>\n",
       "      <td>46 Grosvenor Road</td>\n",
       "      <td>Bayswater</td>\n",
       "      <td>699000</td>\n",
       "      <td>5</td>\n",
       "      <td>1</td>\n",
       "      <td>2.0</td>\n",
       "      <td>859</td>\n",
       "      <td>157</td>\n",
       "      <td>5100</td>\n",
       "      <td>Meltham Station</td>\n",
       "      <td>543</td>\n",
       "      <td>-31.926580</td>\n",
       "      <td>115.90329</td>\n",
       "      <td>CHISHOLM CATHOLIC COLLEGE</td>\n",
       "      <td>1.695584</td>\n",
       "      <td>29.0</td>\n",
       "    </tr>\n",
       "    <tr>\n",
       "      <th>23590</th>\n",
       "      <td>49 Acton Avenue</td>\n",
       "      <td>Rivervale</td>\n",
       "      <td>750000</td>\n",
       "      <td>5</td>\n",
       "      <td>2</td>\n",
       "      <td>5.0</td>\n",
       "      <td>906</td>\n",
       "      <td>228</td>\n",
       "      <td>5400</td>\n",
       "      <td>Burswood Station</td>\n",
       "      <td>1600</td>\n",
       "      <td>-31.956110</td>\n",
       "      <td>115.91609</td>\n",
       "      <td>BELMONT CITY COLLEGE</td>\n",
       "      <td>1.758623</td>\n",
       "      <td>57.0</td>\n",
       "    </tr>\n",
       "    <tr>\n",
       "      <th>27574</th>\n",
       "      <td>60 Inverness Crescent</td>\n",
       "      <td>Menora</td>\n",
       "      <td>775000</td>\n",
       "      <td>5</td>\n",
       "      <td>3</td>\n",
       "      <td>4.0</td>\n",
       "      <td>822</td>\n",
       "      <td>55</td>\n",
       "      <td>3700</td>\n",
       "      <td>Perth Station</td>\n",
       "      <td>3600</td>\n",
       "      <td>-31.918580</td>\n",
       "      <td>115.85830</td>\n",
       "      <td>MOUNT LAWLEY SENIOR HIGH SCHOOL</td>\n",
       "      <td>1.120187</td>\n",
       "      <td>20.0</td>\n",
       "    </tr>\n",
       "  </tbody>\n",
       "</table>\n",
       "</div>"
      ],
      "text/plain": [
       "                     ADDRESS     SUBURB   PRICE  BEDROOMS  BATHROOMS  GARAGE  \\\n",
       "10254    2 Crawshaw Crescent    Manning  850000         5          2     2.0   \n",
       "11060        20 Downey Drive    Manning  769000         5          2     3.0   \n",
       "12981         23 Goss Avenue    Manning  825000         5          2     2.0   \n",
       "15009       27 Ferrar Street     Menora  875000         5          2     1.0   \n",
       "23095      46 Grosvenor Road  Bayswater  699000         5          1     2.0   \n",
       "23590        49 Acton Avenue  Rivervale  750000         5          2     5.0   \n",
       "27574  60 Inverness Crescent     Menora  775000         5          3     4.0   \n",
       "\n",
       "       LAND_AREA  FLOOR_AREA  CBD_DIST             NEAREST_STN  \\\n",
       "10254        856         105      6100  Canning Bridge Station   \n",
       "11060        800         158      6700  Canning Bridge Station   \n",
       "12981        870         184      6400  Canning Bridge Station   \n",
       "15009        835         200      3400    Mount Lawley Station   \n",
       "23095        859         157      5100         Meltham Station   \n",
       "23590        906         228      5400        Burswood Station   \n",
       "27574        822          55      3700           Perth Station   \n",
       "\n",
       "       NEAREST_STN_DIST   LATITUDE  LONGITUDE  \\\n",
       "10254               884 -32.006520  115.86473   \n",
       "11060              1000 -32.012480  115.86644   \n",
       "12981              1600 -32.008656  115.87305   \n",
       "15009              2200 -31.922160  115.86349   \n",
       "23095               543 -31.926580  115.90329   \n",
       "23590              1600 -31.956110  115.91609   \n",
       "27574              3600 -31.918580  115.85830   \n",
       "\n",
       "                           NEAREST_SCH  NEAREST_SCH_DIST  NEAREST_SCH_RANK  \n",
       "10254           COMO SECONDARY COLLEGE          0.684223              87.0  \n",
       "11060           COMO SECONDARY COLLEGE          1.076696              87.0  \n",
       "12981           COMO SECONDARY COLLEGE          0.583289              87.0  \n",
       "15009  MOUNT LAWLEY SENIOR HIGH SCHOOL          0.600062              20.0  \n",
       "23095        CHISHOLM CATHOLIC COLLEGE          1.695584              29.0  \n",
       "23590             BELMONT CITY COLLEGE          1.758623              57.0  \n",
       "27574  MOUNT LAWLEY SENIOR HIGH SCHOOL          1.120187              20.0  "
      ]
     },
     "execution_count": 38,
     "metadata": {},
     "output_type": "execute_result"
    }
   ],
   "source": [
    "#Input of client 2's requirements\n",
    "#Requesting the clients property requirements\n",
    "plan_budget2 = int(input('Please enter your budget : '))\n",
    "bedrooms2 = int(input('Please enter the number of Bedrooms : '))\n",
    "landsize2 = int(input('Please enter your desired minimum land size : '))\n",
    "cbddist2 = int(input('Please enter the maximum distance from CBD in metres: '))\n",
    "#Filtering out properties based on clients requirements \n",
    "client2 = df.loc[(all_perth_data['BEDROOMS'] >= bedrooms2)\n",
    "                               & (df['PRICE'] <= plan_budget2)\n",
    "                               & (df['CBD_DIST'] <= cbddist2)\n",
    "                               & (df['LAND_AREA'] >= landsize2)]\n",
    "#Displaying the properties which meet clients requirements\n",
    "client2"
   ]
  },
  {
   "cell_type": "code",
   "execution_count": 39,
   "id": "6c6a31c6-b1cf-4697-b21d-a9622d98d132",
   "metadata": {},
   "outputs": [
    {
     "data": {},
     "metadata": {},
     "output_type": "display_data"
    },
    {
     "data": {
      "application/vnd.holoviews_exec.v0+json": "",
      "text/html": [
       "<div id='1561'>\n",
       "\n",
       "\n",
       "\n",
       "\n",
       "\n",
       "  <div class=\"bk-root\" id=\"3c54ee76-373f-429b-8bc3-6478d827ab14\" data-root-id=\"1561\"></div>\n",
       "</div>\n",
       "<script type=\"application/javascript\">(function(root) {\n",
       "  function embed_document(root) {\n",
       "    var docs_json = {\"40448612-0218-4c64-a664-af847f10b0fa\":{\"defs\":[{\"extends\":null,\"module\":null,\"name\":\"ReactiveHTML1\",\"overrides\":[],\"properties\":[]},{\"extends\":null,\"module\":null,\"name\":\"FlexBox1\",\"overrides\":[],\"properties\":[{\"default\":\"flex-start\",\"kind\":null,\"name\":\"align_content\"},{\"default\":\"flex-start\",\"kind\":null,\"name\":\"align_items\"},{\"default\":\"row\",\"kind\":null,\"name\":\"flex_direction\"},{\"default\":\"wrap\",\"kind\":null,\"name\":\"flex_wrap\"},{\"default\":\"flex-start\",\"kind\":null,\"name\":\"justify_content\"}]},{\"extends\":null,\"module\":null,\"name\":\"GridStack1\",\"overrides\":[],\"properties\":[{\"default\":\"warn\",\"kind\":null,\"name\":\"mode\"},{\"default\":null,\"kind\":null,\"name\":\"ncols\"},{\"default\":null,\"kind\":null,\"name\":\"nrows\"},{\"default\":true,\"kind\":null,\"name\":\"allow_resize\"},{\"default\":true,\"kind\":null,\"name\":\"allow_drag\"},{\"default\":[],\"kind\":null,\"name\":\"state\"}]},{\"extends\":null,\"module\":null,\"name\":\"click1\",\"overrides\":[],\"properties\":[{\"default\":\"\",\"kind\":null,\"name\":\"terminal_output\"},{\"default\":\"\",\"kind\":null,\"name\":\"debug_name\"},{\"default\":0,\"kind\":null,\"name\":\"clears\"}]},{\"extends\":null,\"module\":null,\"name\":\"TemplateActions1\",\"overrides\":[],\"properties\":[{\"default\":0,\"kind\":null,\"name\":\"open_modal\"},{\"default\":0,\"kind\":null,\"name\":\"close_modal\"}]},{\"extends\":null,\"module\":null,\"name\":\"MaterialTemplateActions1\",\"overrides\":[],\"properties\":[{\"default\":0,\"kind\":null,\"name\":\"open_modal\"},{\"default\":0,\"kind\":null,\"name\":\"close_modal\"}]}],\"roots\":{\"references\":[{\"attributes\":{},\"id\":\"1579\",\"type\":\"LinearScale\"},{\"attributes\":{},\"id\":\"1595\",\"type\":\"ResetTool\"},{\"attributes\":{\"factors\":[\"2 Crawshaw Crescent\",\"20 Downey Drive\",\"23 Goss Avenue\",\"27 Ferrar Street\",\"46 Grosvenor Road\",\"49 Acton Avenue\",\"60 Inverness Crescent\"],\"palette\":[\"#1f77b3\",\"#ff7e0e\",\"#2ba02b\",\"#d62628\",\"#9367bc\",\"#8c564b\",\"#e277c1\"]},\"id\":\"1637\",\"type\":\"CategoricalColorMapper\"},{\"attributes\":{\"match_aspect\":true,\"overlay\":{\"id\":\"1596\"}},\"id\":\"1594\",\"type\":\"BoxZoomTool\"},{\"attributes\":{\"below\":[{\"id\":\"1583\"}],\"center\":[{\"id\":\"1586\"},{\"id\":\"1590\"}],\"frame_height\":500,\"frame_width\":700,\"height\":null,\"left\":[{\"id\":\"1587\"}],\"margin\":[5,5,5,5],\"match_aspect\":true,\"min_border_bottom\":10,\"min_border_left\":10,\"min_border_right\":10,\"min_border_top\":10,\"renderers\":[{\"id\":\"1635\"},{\"id\":\"1646\"}],\"right\":[{\"id\":\"1654\"}],\"sizing_mode\":\"fixed\",\"title\":{\"id\":\"1575\"},\"toolbar\":{\"id\":\"1597\"},\"width\":null,\"x_range\":{\"id\":\"1567\"},\"x_scale\":{\"id\":\"1579\"},\"y_range\":{\"id\":\"1568\"},\"y_scale\":{\"id\":\"1581\"}},\"id\":\"1574\",\"subtype\":\"Figure\",\"type\":\"Plot\"},{\"attributes\":{\"axis\":{\"id\":\"1583\"},\"coordinates\":null,\"grid_line_color\":null,\"group\":null,\"ticker\":null},\"id\":\"1586\",\"type\":\"Grid\"},{\"attributes\":{\"end\":12910853.13022532,\"min_interval\":5,\"reset_end\":12910853.13022532,\"reset_start\":12890153.943496283,\"start\":12890153.943496283,\"tags\":[[[\"LONGITUDE\",\"LONGITUDE\",null]]]},\"id\":\"1567\",\"type\":\"Range1d\"},{\"attributes\":{},\"id\":\"1612\",\"type\":\"AllLabels\"},{\"attributes\":{\"children\":[{\"id\":\"1562\"},{\"id\":\"1574\"},{\"id\":\"1712\"}],\"margin\":[0,0,0,0],\"name\":\"Row04188\",\"tags\":[\"embedded\"]},\"id\":\"1561\",\"type\":\"Row\"},{\"attributes\":{},\"id\":\"1639\",\"type\":\"Selection\"},{\"attributes\":{},\"id\":\"1581\",\"type\":\"LinearScale\"},{\"attributes\":{\"tools\":[{\"id\":\"1571\"},{\"id\":\"1591\"},{\"id\":\"1592\"},{\"id\":\"1593\"},{\"id\":\"1594\"},{\"id\":\"1595\"}]},\"id\":\"1597\",\"type\":\"Toolbar\"},{\"attributes\":{\"label\":{\"field\":\"color\"},\"renderers\":[{\"id\":\"1646\"}]},\"id\":\"1655\",\"type\":\"LegendItem\"},{\"attributes\":{\"axis_label\":\"y\",\"coordinates\":null,\"formatter\":{\"id\":\"1609\"},\"group\":null,\"major_label_policy\":{\"id\":\"1619\"},\"ticker\":{\"id\":\"1608\"}},\"id\":\"1587\",\"type\":\"LinearAxis\"},{\"attributes\":{\"axis_label\":\"x\",\"coordinates\":null,\"formatter\":{\"id\":\"1607\"},\"group\":null,\"major_label_policy\":{\"id\":\"1612\"},\"ticker\":{\"id\":\"1606\"}},\"id\":\"1583\",\"type\":\"LinearAxis\"},{\"attributes\":{\"bottom_units\":\"screen\",\"coordinates\":null,\"fill_alpha\":0.5,\"fill_color\":\"lightgrey\",\"group\":null,\"left_units\":\"screen\",\"level\":\"overlay\",\"line_alpha\":1.0,\"line_color\":\"black\",\"line_dash\":[4,4],\"line_width\":2,\"right_units\":\"screen\",\"syncable\":false,\"top_units\":\"screen\"},\"id\":\"1596\",\"type\":\"BoxAnnotation\"},{\"attributes\":{\"margin\":[5,5,5,5],\"name\":\"HSpacer04192\",\"sizing_mode\":\"stretch_width\"},\"id\":\"1562\",\"type\":\"Spacer\"},{\"attributes\":{\"fill_color\":{\"field\":\"color\",\"transform\":{\"id\":\"1637\"}},\"hatch_color\":{\"field\":\"color\",\"transform\":{\"id\":\"1637\"}},\"line_color\":{\"field\":\"color\",\"transform\":{\"id\":\"1637\"}},\"size\":{\"field\":\"size\"},\"x\":{\"field\":\"LONGITUDE\"},\"y\":{\"field\":\"LATITUDE\"}},\"id\":\"1643\",\"type\":\"Scatter\"},{\"attributes\":{},\"id\":\"1619\",\"type\":\"AllLabels\"},{\"attributes\":{\"dimension\":\"lat\"},\"id\":\"1609\",\"type\":\"MercatorTickFormatter\"},{\"attributes\":{\"dimension\":\"lon\"},\"id\":\"1606\",\"type\":\"MercatorTicker\"},{\"attributes\":{\"end\":-3751395.762371526,\"min_interval\":5,\"reset_end\":-3751395.762371526,\"reset_start\":-3766180.895749408,\"start\":-3766180.895749408,\"tags\":[[[\"LATITUDE\",\"LATITUDE\",null]]]},\"id\":\"1568\",\"type\":\"Range1d\"},{\"attributes\":{\"axis\":{\"id\":\"1587\"},\"coordinates\":null,\"dimension\":1,\"grid_line_color\":null,\"group\":null,\"ticker\":null},\"id\":\"1590\",\"type\":\"Grid\"},{\"attributes\":{\"fill_color\":{\"field\":\"color\",\"transform\":{\"id\":\"1637\"}},\"hatch_color\":{\"field\":\"color\",\"transform\":{\"id\":\"1637\"}},\"line_color\":{\"field\":\"color\",\"transform\":{\"id\":\"1637\"}},\"size\":{\"field\":\"size\"},\"x\":{\"field\":\"LONGITUDE\"},\"y\":{\"field\":\"LATITUDE\"}},\"id\":\"1644\",\"type\":\"Scatter\"},{\"attributes\":{\"coordinates\":null,\"group\":null,\"text_color\":\"black\",\"text_font_size\":\"12pt\"},\"id\":\"1575\",\"type\":\"Title\"},{\"attributes\":{},\"id\":\"1651\",\"type\":\"UnionRenderers\"},{\"attributes\":{\"data\":{\"ADDRESS\":[\"2 Crawshaw Crescent\",\"20 Downey Drive\",\"23 Goss Avenue\",\"27 Ferrar Street\",\"46 Grosvenor Road\",\"49 Acton Avenue\",\"60 Inverness Crescent\"],\"BEDROOMS\":[5,5,5,5,5,5,5],\"CBD_DIST\":[6100,6700,6400,3400,5100,5400,3700],\"LATITUDE\":{\"__ndarray__\":\"v2wjQeO3TMEo7153arlMwYmjLnhvuEzBkDTfn0SiTME694V7ZqNMwfofV2H3qkzBF8Xi3FmhTME=\",\"dtype\":\"float64\",\"order\":\"little\",\"shape\":[7]},\"LONGITUDE\":{\"__ndarray__\":\"7vHSV9qZaEGL/jkj8ploQeIS0BxOmmhB6qaqFsmZaEGbiivn8ptoQeMtogOlnGhBgr+53oCZaEE=\",\"dtype\":\"float64\",\"order\":\"little\",\"shape\":[7]},\"PRICE\":[850000,769000,825000,875000,699000,750000,775000],\"SUBURB\":[\"Manning\",\"Manning\",\"Manning\",\"Menora\",\"Bayswater\",\"Rivervale\",\"Menora\"],\"color\":[\"2 Crawshaw Crescent\",\"20 Downey Drive\",\"23 Goss Avenue\",\"27 Ferrar Street\",\"46 Grosvenor Road\",\"49 Acton Avenue\",\"60 Inverness Crescent\"],\"size\":{\"__ndarray__\":\"QTr0KYIMR0BgrwBMVOxFQF9JubMWtUZAcXGZ3aZiR0B92mZOzOZEQOX7hAWQpkVAx1vzby4CRkA=\",\"dtype\":\"float64\",\"order\":\"little\",\"shape\":[7]}},\"selected\":{\"id\":\"1639\"},\"selection_policy\":{\"id\":\"1651\"}},\"id\":\"1638\",\"type\":\"ColumnDataSource\"},{\"attributes\":{\"source\":{\"id\":\"1638\"}},\"id\":\"1647\",\"type\":\"CDSView\"},{\"attributes\":{\"fill_alpha\":{\"value\":0.2},\"fill_color\":{\"field\":\"color\",\"transform\":{\"id\":\"1637\"}},\"hatch_alpha\":{\"value\":0.2},\"hatch_color\":{\"field\":\"color\",\"transform\":{\"id\":\"1637\"}},\"line_alpha\":{\"value\":0.2},\"line_color\":{\"field\":\"color\",\"transform\":{\"id\":\"1637\"}},\"size\":{\"field\":\"size\"},\"x\":{\"field\":\"LONGITUDE\"},\"y\":{\"field\":\"LATITUDE\"}},\"id\":\"1645\",\"type\":\"Scatter\"},{\"attributes\":{\"dimension\":\"lat\"},\"id\":\"1608\",\"type\":\"MercatorTicker\"},{\"attributes\":{\"margin\":[5,5,5,5],\"name\":\"HSpacer04193\",\"sizing_mode\":\"stretch_width\"},\"id\":\"1712\",\"type\":\"Spacer\"},{\"attributes\":{\"click_policy\":\"mute\",\"coordinates\":null,\"group\":null,\"items\":[{\"id\":\"1655\"}],\"location\":[0,0]},\"id\":\"1654\",\"type\":\"Legend\"},{\"attributes\":{\"fill_color\":{\"field\":\"color\",\"transform\":{\"id\":\"1637\"}},\"hatch_color\":{\"field\":\"color\",\"transform\":{\"id\":\"1637\"}},\"line_color\":{\"field\":\"color\",\"transform\":{\"id\":\"1637\"}},\"size\":{\"field\":\"size\"},\"x\":{\"field\":\"LONGITUDE\"},\"y\":{\"field\":\"LATITUDE\"}},\"id\":\"1641\",\"type\":\"Scatter\"},{\"attributes\":{\"code\":\"\\n        var projections = Bokeh.require(\\\"core/util/projections\\\");\\n        var x = special_vars.data_x\\n        var y = special_vars.data_y\\n        if (projections.wgs84_mercator.invert == null) {\\n          var coords = projections.wgs84_mercator.inverse([x, y])\\n        } else {\\n          var coords = projections.wgs84_mercator.invert(x, y)\\n        }\\n        return \\\"\\\" + (coords[0]).toFixed(4)\\n    \"},\"id\":\"1656\",\"type\":\"CustomJSHover\"},{\"attributes\":{\"attribution\":\"&copy; <a href=\\\"https://www.openstreetmap.org/copyright\\\">OpenStreetMap</a> contributors\",\"url\":\"https://c.tile.openstreetmap.org/{Z}/{X}/{Y}.png\"},\"id\":\"1632\",\"type\":\"WMTSTileSource\"},{\"attributes\":{\"coordinates\":null,\"group\":null,\"level\":\"glyph\",\"tile_source\":{\"id\":\"1632\"}},\"id\":\"1635\",\"type\":\"TileRenderer\"},{\"attributes\":{\"callback\":null,\"formatters\":{\"$x\":{\"id\":\"1656\"},\"$y\":{\"id\":\"1657\"}},\"renderers\":[{\"id\":\"1646\"}],\"tags\":[\"hv_created\"],\"tooltips\":[[\"LONGITUDE\",\"$x{custom}\"],[\"LATITUDE\",\"$y{custom}\"],[\"ADDRESS\",\"@{ADDRESS}\"],[\"PRICE\",\"@{PRICE}\"],[\"SUBURB\",\"@{SUBURB}\"],[\"CBD_DIST\",\"@{CBD_DIST}\"],[\"BEDROOMS\",\"@{BEDROOMS}\"]]},\"id\":\"1571\",\"type\":\"HoverTool\"},{\"attributes\":{},\"id\":\"1591\",\"type\":\"SaveTool\"},{\"attributes\":{\"fill_alpha\":{\"value\":0.1},\"fill_color\":{\"field\":\"color\",\"transform\":{\"id\":\"1637\"}},\"hatch_alpha\":{\"value\":0.1},\"hatch_color\":{\"field\":\"color\",\"transform\":{\"id\":\"1637\"}},\"line_alpha\":{\"value\":0.1},\"line_color\":{\"field\":\"color\",\"transform\":{\"id\":\"1637\"}},\"size\":{\"field\":\"size\"},\"x\":{\"field\":\"LONGITUDE\"},\"y\":{\"field\":\"LATITUDE\"}},\"id\":\"1642\",\"type\":\"Scatter\"},{\"attributes\":{},\"id\":\"1592\",\"type\":\"PanTool\"},{\"attributes\":{\"dimension\":\"lon\"},\"id\":\"1607\",\"type\":\"MercatorTickFormatter\"},{\"attributes\":{\"code\":\"\\n        var projections = Bokeh.require(\\\"core/util/projections\\\");\\n        var x = special_vars.data_x\\n        var y = special_vars.data_y\\n        if (projections.wgs84_mercator.invert == null) {\\n          var coords = projections.wgs84_mercator.inverse([x, y])\\n        } else {\\n          var coords = projections.wgs84_mercator.invert(x, y)\\n        }\\n        return \\\"\\\" + (coords[1]).toFixed(4)\\n    \"},\"id\":\"1657\",\"type\":\"CustomJSHover\"},{\"attributes\":{\"zoom_on_axis\":false},\"id\":\"1593\",\"type\":\"WheelZoomTool\"},{\"attributes\":{\"coordinates\":null,\"data_source\":{\"id\":\"1638\"},\"glyph\":{\"id\":\"1641\"},\"group\":null,\"hover_glyph\":{\"id\":\"1644\"},\"muted_glyph\":{\"id\":\"1645\"},\"nonselection_glyph\":{\"id\":\"1642\"},\"selection_glyph\":{\"id\":\"1643\"},\"view\":{\"id\":\"1647\"}},\"id\":\"1646\",\"type\":\"GlyphRenderer\"}],\"root_ids\":[\"1561\"]},\"title\":\"Bokeh Application\",\"version\":\"2.4.2\"}};\n",
       "    var render_items = [{\"docid\":\"40448612-0218-4c64-a664-af847f10b0fa\",\"root_ids\":[\"1561\"],\"roots\":{\"1561\":\"3c54ee76-373f-429b-8bc3-6478d827ab14\"}}];\n",
       "    root.Bokeh.embed.embed_items_notebook(docs_json, render_items);\n",
       "  }\n",
       "  if (root.Bokeh !== undefined && root.Bokeh.Panel !== undefined) {\n",
       "    embed_document(root);\n",
       "  } else {\n",
       "    var attempts = 0;\n",
       "    var timer = setInterval(function(root) {\n",
       "      if (root.Bokeh !== undefined && root.Bokeh.Panel !== undefined) {\n",
       "        clearInterval(timer);\n",
       "        embed_document(root);\n",
       "      } else if (document.readyState == \"complete\") {\n",
       "        attempts++;\n",
       "        if (attempts > 200) {\n",
       "          clearInterval(timer);\n",
       "          console.log(\"Bokeh: ERROR: Unable to run BokehJS code because BokehJS library is missing\");\n",
       "        }\n",
       "      }\n",
       "    }, 25, root)\n",
       "  }\n",
       "})(window);</script>"
      ],
      "text/plain": [
       ":Overlay\n",
       "   .Tiles.I  :Tiles   [x,y]\n",
       "   .Points.I :Points   [LONGITUDE,LATITUDE]   (ADDRESS,PRICE,SUBURB,CBD_DIST,BEDROOMS)"
      ]
     },
     "execution_count": 39,
     "metadata": {
      "application/vnd.holoviews_exec.v0+json": {
       "id": "1561"
      }
     },
     "output_type": "execute_result"
    }
   ],
   "source": [
    "#New geo plot that contains house options for client B\n",
    "client2.hvplot.points('LONGITUDE',\n",
    "                                       'LATITUDE', \n",
    "                                       geo=True,\n",
    "                                       color='ADDRESS',\n",
    "                                       tiles='OSM',\n",
    "                                       size= 'PRICE',\n",
    "                                       scale= 0.05,\n",
    "                                       frame_width=700,\n",
    "                                       frame_height=500,\n",
    "                                       hover = True,\n",
    "                                       hover_cols=['SUBURB','PRICE', 'CBD_DIST', 'BEDROOMS']\n",
    "                                        )"
   ]
  },
  {
   "cell_type": "code",
   "execution_count": 41,
   "id": "fe5fa384-9c83-4f39-bdb4-c8fab2b8efa6",
   "metadata": {},
   "outputs": [
    {
     "data": {
      "text/html": [
       "<div>\n",
       "<style scoped>\n",
       "    .dataframe tbody tr th:only-of-type {\n",
       "        vertical-align: middle;\n",
       "    }\n",
       "\n",
       "    .dataframe tbody tr th {\n",
       "        vertical-align: top;\n",
       "    }\n",
       "\n",
       "    .dataframe thead th {\n",
       "        text-align: right;\n",
       "    }\n",
       "</style>\n",
       "<table border=\"1\" class=\"dataframe\">\n",
       "  <thead>\n",
       "    <tr style=\"text-align: right;\">\n",
       "      <th></th>\n",
       "      <th>SUBURB</th>\n",
       "      <th>MEDIAN HOUSE PRICE</th>\n",
       "      <th>GROWTH PERCENTAGE</th>\n",
       "    </tr>\n",
       "    <tr>\n",
       "      <th>SUBURB</th>\n",
       "      <th></th>\n",
       "      <th></th>\n",
       "      <th></th>\n",
       "    </tr>\n",
       "  </thead>\n",
       "  <tbody>\n",
       "    <tr>\n",
       "      <th>Bayswater</th>\n",
       "      <td>Bayswater</td>\n",
       "      <td>676500</td>\n",
       "      <td>9.10%</td>\n",
       "    </tr>\n",
       "    <tr>\n",
       "      <th>Manning</th>\n",
       "      <td>Manning</td>\n",
       "      <td>870000</td>\n",
       "      <td>17.60%</td>\n",
       "    </tr>\n",
       "    <tr>\n",
       "      <th>Menora</th>\n",
       "      <td>Menora</td>\n",
       "      <td>1300000</td>\n",
       "      <td>12.10%</td>\n",
       "    </tr>\n",
       "    <tr>\n",
       "      <th>Rivervale</th>\n",
       "      <td>Rivervale</td>\n",
       "      <td>617500</td>\n",
       "      <td>12.30%</td>\n",
       "    </tr>\n",
       "  </tbody>\n",
       "</table>\n",
       "</div>"
      ],
      "text/plain": [
       "              SUBURB  MEDIAN HOUSE PRICE GROWTH PERCENTAGE\n",
       "SUBURB                                                    \n",
       "Bayswater  Bayswater              676500             9.10%\n",
       "Manning      Manning              870000            17.60%\n",
       "Menora        Menora             1300000            12.10%\n",
       "Rivervale  Rivervale              617500            12.30%"
      ]
     },
     "metadata": {},
     "output_type": "display_data"
    }
   ],
   "source": [
    "#Creating an empty list\n",
    "temp_list2 = {}\n",
    "#Loading the suburb which the property is located in.\n",
    "temp_list2 = client2['SUBURB']\n",
    "#Printing the median price and the growth rate of the property.\n",
    "display(price_df[price_df['SUBURB'].isin(temp_list2)])"
   ]
  },
  {
   "cell_type": "code",
   "execution_count": 44,
   "id": "1e7763ad-051a-4958-b89c-080127d8e13f",
   "metadata": {},
   "outputs": [
    {
     "name": "stdin",
     "output_type": "stream",
     "text": [
      "What is the mortgage amount?  700000\n",
      "For how many years?  30\n",
      "What interest rate?  4\n"
     ]
    },
    {
     "data": {
      "text/plain": [
       "3341.91"
      ]
     },
     "execution_count": 44,
     "metadata": {},
     "output_type": "execute_result"
    }
   ],
   "source": [
    "#Collecting clients mortgage details.\n",
    "#Requesting client the loan amount\n",
    "mortgate_amount=int(input('What is the mortgage amount? '))\n",
    "#Enquiring clint of the duration to repay the loan\n",
    "no_of_years=int(input('For how many years? '))\n",
    "#Collecting the intrest rate information from the bank\n",
    "intrest_rate=int(input('What interest rate? '))\n",
    "#Calling the function to provide the monthly repayment\n",
    "mortgagecalculator(mortgate_amount,no_of_years,intrest_rate)"
   ]
  },
  {
   "cell_type": "code",
   "execution_count": 43,
   "id": "f86368fe-d29d-4573-8dc7-933b05857209",
   "metadata": {},
   "outputs": [
    {
     "name": "stdin",
     "output_type": "stream",
     "text": [
      "What is the property value?  769000\n"
     ]
    },
    {
     "data": {
      "text/plain": [
       "30719.0"
      ]
     },
     "execution_count": 43,
     "metadata": {},
     "output_type": "execute_result"
    }
   ],
   "source": [
    "#Entering the property value dynamically.\n",
    "property_value=int(input('What is the property value? '))\n",
    "#Calling the function definition to calculate the property_value\n",
    "stampdutycalculator(property_value)"
   ]
  },
  {
   "cell_type": "code",
   "execution_count": 14,
   "id": "f9c99d13-5262-4517-9c0a-2e76b2276043",
   "metadata": {},
   "outputs": [],
   "source": [
    "#A couple of analysis questions including: If you had unlimited money, where would be the best value for money for an investment price per land area etc\n",
    "\n",
    "#What are the top 3 suburbs to invest in by future growth percentage\n",
    "\n",
    "#What are the top 3 suburbs to avoid by future growth percentage"
   ]
  },
  {
   "cell_type": "code",
   "execution_count": 115,
   "id": "19fb82f9-761f-46e7-b7c9-499a5af7a2f5",
   "metadata": {},
   "outputs": [],
   "source": [
    "suburbs_df_price = suburbs_df_price.sort_values(['GROWTH PERCENTAGE'], ascending=False)"
   ]
  },
  {
   "cell_type": "code",
   "execution_count": 117,
   "id": "f882c8d3-8eb8-4c92-bb47-0fd7e97d0357",
   "metadata": {},
   "outputs": [
    {
     "data": {
      "text/html": [
       "<div>\n",
       "<style scoped>\n",
       "    .dataframe tbody tr th:only-of-type {\n",
       "        vertical-align: middle;\n",
       "    }\n",
       "\n",
       "    .dataframe tbody tr th {\n",
       "        vertical-align: top;\n",
       "    }\n",
       "\n",
       "    .dataframe thead th {\n",
       "        text-align: right;\n",
       "    }\n",
       "</style>\n",
       "<table border=\"1\" class=\"dataframe\">\n",
       "  <thead>\n",
       "    <tr style=\"text-align: right;\">\n",
       "      <th></th>\n",
       "      <th>SUBURB</th>\n",
       "      <th>MEDIAN HOUSE PRICE</th>\n",
       "      <th>GROWTH PERCENTAGE</th>\n",
       "      <th>LATITUDE</th>\n",
       "      <th>LONGITUDE</th>\n",
       "    </tr>\n",
       "    <tr>\n",
       "      <th>SUBURB</th>\n",
       "      <th></th>\n",
       "      <th></th>\n",
       "      <th></th>\n",
       "      <th></th>\n",
       "      <th></th>\n",
       "    </tr>\n",
       "  </thead>\n",
       "  <tbody>\n",
       "    <tr>\n",
       "      <th>Gnangara</th>\n",
       "      <td>Gnangara</td>\n",
       "      <td>770000</td>\n",
       "      <td>94.6</td>\n",
       "      <td>-31.775330</td>\n",
       "      <td>115.848851</td>\n",
       "    </tr>\n",
       "    <tr>\n",
       "      <th>Hovea</th>\n",
       "      <td>Hovea</td>\n",
       "      <td>940000</td>\n",
       "      <td>82.5</td>\n",
       "      <td>-31.887604</td>\n",
       "      <td>116.113356</td>\n",
       "    </tr>\n",
       "    <tr>\n",
       "      <th>East Perth</th>\n",
       "      <td>East Perth</td>\n",
       "      <td>1950000</td>\n",
       "      <td>77.3</td>\n",
       "      <td>-31.952803</td>\n",
       "      <td>115.874626</td>\n",
       "    </tr>\n",
       "    <tr>\n",
       "      <th>Upper Swan</th>\n",
       "      <td>Upper Swan</td>\n",
       "      <td>790000</td>\n",
       "      <td>61.2</td>\n",
       "      <td>-31.769674</td>\n",
       "      <td>116.029006</td>\n",
       "    </tr>\n",
       "    <tr>\n",
       "      <th>Watermans Bay</th>\n",
       "      <td>Watermans Bay</td>\n",
       "      <td>1670000</td>\n",
       "      <td>51.8</td>\n",
       "      <td>-31.849449</td>\n",
       "      <td>115.755512</td>\n",
       "    </tr>\n",
       "  </tbody>\n",
       "</table>\n",
       "</div>"
      ],
      "text/plain": [
       "                      SUBURB  MEDIAN HOUSE PRICE  GROWTH PERCENTAGE  \\\n",
       "SUBURB                                                                \n",
       "Gnangara            Gnangara              770000               94.6   \n",
       "Hovea                  Hovea              940000               82.5   \n",
       "East Perth        East Perth             1950000               77.3   \n",
       "Upper Swan        Upper Swan              790000               61.2   \n",
       "Watermans Bay  Watermans Bay             1670000               51.8   \n",
       "\n",
       "                LATITUDE   LONGITUDE  \n",
       "SUBURB                                \n",
       "Gnangara      -31.775330  115.848851  \n",
       "Hovea         -31.887604  116.113356  \n",
       "East Perth    -31.952803  115.874626  \n",
       "Upper Swan    -31.769674  116.029006  \n",
       "Watermans Bay -31.849449  115.755512  "
      ]
     },
     "metadata": {},
     "output_type": "display_data"
    },
    {
     "data": {
      "text/html": [
       "<div>\n",
       "<style scoped>\n",
       "    .dataframe tbody tr th:only-of-type {\n",
       "        vertical-align: middle;\n",
       "    }\n",
       "\n",
       "    .dataframe tbody tr th {\n",
       "        vertical-align: top;\n",
       "    }\n",
       "\n",
       "    .dataframe thead th {\n",
       "        text-align: right;\n",
       "    }\n",
       "</style>\n",
       "<table border=\"1\" class=\"dataframe\">\n",
       "  <thead>\n",
       "    <tr style=\"text-align: right;\">\n",
       "      <th></th>\n",
       "      <th>SUBURB</th>\n",
       "      <th>MEDIAN HOUSE PRICE</th>\n",
       "      <th>GROWTH PERCENTAGE</th>\n",
       "      <th>LATITUDE</th>\n",
       "      <th>LONGITUDE</th>\n",
       "    </tr>\n",
       "    <tr>\n",
       "      <th>SUBURB</th>\n",
       "      <th></th>\n",
       "      <th></th>\n",
       "      <th></th>\n",
       "      <th></th>\n",
       "      <th></th>\n",
       "    </tr>\n",
       "  </thead>\n",
       "  <tbody>\n",
       "    <tr>\n",
       "      <th>Maylands</th>\n",
       "      <td>Maylands</td>\n",
       "      <td>655000</td>\n",
       "      <td>-5.1</td>\n",
       "      <td>-31.934201</td>\n",
       "      <td>115.900674</td>\n",
       "    </tr>\n",
       "    <tr>\n",
       "      <th>Sawyers Valley</th>\n",
       "      <td>Sawyers Valley</td>\n",
       "      <td>565000</td>\n",
       "      <td>-5.8</td>\n",
       "      <td>-31.893090</td>\n",
       "      <td>116.220120</td>\n",
       "    </tr>\n",
       "    <tr>\n",
       "      <th>Herne Hill</th>\n",
       "      <td>Herne Hill</td>\n",
       "      <td>370000</td>\n",
       "      <td>-11.9</td>\n",
       "      <td>-31.829031</td>\n",
       "      <td>116.027816</td>\n",
       "    </tr>\n",
       "    <tr>\n",
       "      <th>Darling Downs</th>\n",
       "      <td>Darling Downs</td>\n",
       "      <td>530000</td>\n",
       "      <td>-13.3</td>\n",
       "      <td>-32.199243</td>\n",
       "      <td>115.992782</td>\n",
       "    </tr>\n",
       "    <tr>\n",
       "      <th>Carmel</th>\n",
       "      <td>Carmel</td>\n",
       "      <td>555000</td>\n",
       "      <td>-14.6</td>\n",
       "      <td>-32.014680</td>\n",
       "      <td>116.072370</td>\n",
       "    </tr>\n",
       "  </tbody>\n",
       "</table>\n",
       "</div>"
      ],
      "text/plain": [
       "                        SUBURB  MEDIAN HOUSE PRICE  GROWTH PERCENTAGE  \\\n",
       "SUBURB                                                                  \n",
       "Maylands              Maylands              655000               -5.1   \n",
       "Sawyers Valley  Sawyers Valley              565000               -5.8   \n",
       "Herne Hill          Herne Hill              370000              -11.9   \n",
       "Darling Downs    Darling Downs              530000              -13.3   \n",
       "Carmel                  Carmel              555000              -14.6   \n",
       "\n",
       "                 LATITUDE   LONGITUDE  \n",
       "SUBURB                                 \n",
       "Maylands       -31.934201  115.900674  \n",
       "Sawyers Valley -31.893090  116.220120  \n",
       "Herne Hill     -31.829031  116.027816  \n",
       "Darling Downs  -32.199243  115.992782  \n",
       "Carmel         -32.014680  116.072370  "
      ]
     },
     "metadata": {},
     "output_type": "display_data"
    }
   ],
   "source": [
    "display(suburbs_df_price.head(5), suburbs_df_price.tail(5))"
   ]
  },
  {
   "cell_type": "code",
   "execution_count": 45,
   "id": "cd32492b-d3d6-44bf-93e7-256522eecd7a",
   "metadata": {},
   "outputs": [],
   "source": [
    "#Future development"
   ]
  },
  {
   "cell_type": "code",
   "execution_count": null,
   "id": "298d2963-0a1b-431c-a4e0-7156850e2c1f",
   "metadata": {},
   "outputs": [],
   "source": []
  }
 ],
 "metadata": {
  "kernelspec": {
   "display_name": "Python 3 (ipykernel)",
   "language": "python",
   "name": "python3"
  },
  "language_info": {
   "codemirror_mode": {
    "name": "ipython",
    "version": 3
   },
   "file_extension": ".py",
   "mimetype": "text/x-python",
   "name": "python",
   "nbconvert_exporter": "python",
   "pygments_lexer": "ipython3",
   "version": "3.7.13"
  }
 },
 "nbformat": 4,
 "nbformat_minor": 5
}
