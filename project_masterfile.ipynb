{
 "cells": [
  {
   "cell_type": "code",
   "execution_count": 1,
   "id": "281e2a57-e1c9-4d2c-b96d-8cbc377cb98e",
   "metadata": {},
   "outputs": [],
   "source": [
    "#Background of character and situation"
   ]
  },
  {
   "cell_type": "code",
   "execution_count": 2,
   "id": "101aac2a-57d9-471b-9433-2ac1ddeee3f9",
   "metadata": {},
   "outputs": [],
   "source": [
    "#Import Libraries"
   ]
  },
  {
   "cell_type": "code",
   "execution_count": 4,
   "id": "a2bc52bb-bf07-4453-836e-f6d26415d413",
   "metadata": {},
   "outputs": [],
   "source": [
    "#Import API data + data cleanup"
   ]
  },
  {
   "cell_type": "code",
   "execution_count": 5,
   "id": "16d82117-d8b8-4222-a138-137fc259756d",
   "metadata": {},
   "outputs": [],
   "source": [
    "#Full Geo map grouped by suburbs"
   ]
  },
  {
   "cell_type": "code",
   "execution_count": 6,
   "id": "0d44299c-8f46-4357-a4a7-862bb9402cf1",
   "metadata": {},
   "outputs": [],
   "source": [
    "#Input of house parameters"
   ]
  },
  {
   "cell_type": "code",
   "execution_count": 8,
   "id": "14a33a00-955d-4f2b-853d-8b5cb279e338",
   "metadata": {},
   "outputs": [],
   "source": [
    "#Another map to show the options"
   ]
  },
  {
   "cell_type": "code",
   "execution_count": 12,
   "id": "32298068-5fb6-40bc-a39b-7829e8b90f87",
   "metadata": {},
   "outputs": [],
   "source": [
    "#Calculators"
   ]
  },
  {
   "cell_type": "code",
   "execution_count": 9,
   "id": "aa1f257e-d996-4ec5-a285-47ac78c3eac9",
   "metadata": {},
   "outputs": [],
   "source": [
    "#A new client story and parameters"
   ]
  },
  {
   "cell_type": "code",
   "execution_count": 10,
   "id": "6c6a31c6-b1cf-4697-b21d-a9622d98d132",
   "metadata": {},
   "outputs": [],
   "source": [
    "#New geo plot that contains house options for client B"
   ]
  },
  {
   "cell_type": "code",
   "execution_count": 13,
   "id": "1e7763ad-051a-4958-b89c-080127d8e13f",
   "metadata": {},
   "outputs": [],
   "source": [
    "#Calculators"
   ]
  },
  {
   "cell_type": "code",
   "execution_count": 14,
   "id": "f9c99d13-5262-4517-9c0a-2e76b2276043",
   "metadata": {},
   "outputs": [],
   "source": [
    "#A couple of analysis questions including: If you had unlimited money, where would be the best value for money for an investment etc"
   ]
  },
  {
   "cell_type": "code",
   "execution_count": null,
   "id": "19fb82f9-761f-46e7-b7c9-499a5af7a2f5",
   "metadata": {},
   "outputs": [],
   "source": []
  }
 ],
 "metadata": {
  "kernelspec": {
   "display_name": "Python 3 (ipykernel)",
   "language": "python",
   "name": "python3"
  },
  "language_info": {
   "codemirror_mode": {
    "name": "ipython",
    "version": 3
   },
   "file_extension": ".py",
   "mimetype": "text/x-python",
   "name": "python",
   "nbconvert_exporter": "python",
   "pygments_lexer": "ipython3",
   "version": "3.7.13"
  }
 },
 "nbformat": 4,
 "nbformat_minor": 5
}
